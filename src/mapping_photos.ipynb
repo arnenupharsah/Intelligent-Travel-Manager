{
 "cells": [
  {
   "cell_type": "code",
   "execution_count": 1,
   "metadata": {
    "collapsed": true
   },
   "outputs": [],
   "source": [
    "%matplotlib inline\n",
    "\n",
    "import os, sys, time\n",
    "import pandas as pd\n",
    "import numpy as np\n",
    "from datetime import datetime\n",
    "import matplotlib.pyplot as plt"
   ]
  },
  {
   "cell_type": "code",
   "execution_count": 2,
   "metadata": {
    "collapsed": true
   },
   "outputs": [],
   "source": [
    "def print_progress(cnt, total):\n",
    "    \"\"\"Display a progress bar\"\"\"\n",
    "    assert(cnt > 0 and total > 0 and cnt <= total)\n",
    "    length = 80\n",
    "    ratio = cnt / total\n",
    "    n = int(length * ratio)\n",
    "    sys.stdout.write('\\r[%-80s] %d%%' % ('-'*n, int(ratio*100)))\n",
    "    sys.stdout.flush()"
   ]
  },
  {
   "cell_type": "code",
   "execution_count": 3,
   "metadata": {
    "collapsed": true
   },
   "outputs": [],
   "source": [
    "data_dir = '../data'\n",
    "fvisits = os.path.join(data_dir, 'userVisits-Melb-1.csv')\n",
    "fpoi = os.path.join(data_dir, 'poi-Melb-all.csv')\n",
    "fpoi_new = os.path.join(data_dir, 'poi-Melb-1.csv')\n",
    "fphoto = os.path.join(data_dir, 'Melb_photos_bigbox.csv')\n",
    "ftraj_all = os.path.join(data_dir, 'traj-all-Melb-1.csv')\n",
    "ftraj_noshort = os.path.join(data_dir, 'traj-noshort-Melb.csv')\n",
    "ftraj_nofew = os.path.join(data_dir, 'traj-nofew-Melb.csv')\n",
    "\n",
    "fvisits2 = os.path.join(data_dir, 'userVisits-Melb-allPOI.csv')\n",
    "fpoi2 = os.path.join(data_dir, 'costProfCat-MelbPOI-all.csv')"
   ]
  },
  {
   "cell_type": "markdown",
   "metadata": {},
   "source": [
    "<a id='sec1'></a>"
   ]
  },
  {
   "cell_type": "code",
   "execution_count": 4,
   "metadata": {},
   "outputs": [
    {
     "data": {
      "text/html": [
       "<div>\n",
       "<table border=\"1\" class=\"dataframe\">\n",
       "  <thead>\n",
       "    <tr style=\"text-align: right;\">\n",
       "      <th></th>\n",
       "      <th>poiID</th>\n",
       "      <th>poiName</th>\n",
       "      <th>poiTheme</th>\n",
       "      <th>poiLat</th>\n",
       "      <th>poiLon</th>\n",
       "      <th>poiURL</th>\n",
       "    </tr>\n",
       "  </thead>\n",
       "  <tbody>\n",
       "    <tr>\n",
       "      <th>0</th>\n",
       "      <td>0</td>\n",
       "      <td>Arts Precinct</td>\n",
       "      <td>City precincts</td>\n",
       "      <td>-37.82167</td>\n",
       "      <td>144.96778</td>\n",
       "      <td>https://en.wikipedia.org/wiki/Melbourne_Arts_P...</td>\n",
       "    </tr>\n",
       "    <tr>\n",
       "      <th>1</th>\n",
       "      <td>1</td>\n",
       "      <td>Docklands</td>\n",
       "      <td>City precincts</td>\n",
       "      <td>-37.81700</td>\n",
       "      <td>144.94600</td>\n",
       "      <td>https://en.wikipedia.org/wiki/Docklands,_Victoria</td>\n",
       "    </tr>\n",
       "    <tr>\n",
       "      <th>2</th>\n",
       "      <td>2</td>\n",
       "      <td>Government Precinct</td>\n",
       "      <td>City precincts</td>\n",
       "      <td>-37.81190</td>\n",
       "      <td>144.97300</td>\n",
       "      <td>https://en.wikipedia.org/wiki/Spring_Street,_M...</td>\n",
       "    </tr>\n",
       "    <tr>\n",
       "      <th>3</th>\n",
       "      <td>3</td>\n",
       "      <td>Little Italy</td>\n",
       "      <td>City precincts</td>\n",
       "      <td>-37.79972</td>\n",
       "      <td>144.96694</td>\n",
       "      <td>https://en.wikipedia.org/wiki/Little_Italy,_Me...</td>\n",
       "    </tr>\n",
       "    <tr>\n",
       "      <th>4</th>\n",
       "      <td>4</td>\n",
       "      <td>RMIT City</td>\n",
       "      <td>City precincts</td>\n",
       "      <td>-37.80778</td>\n",
       "      <td>144.96333</td>\n",
       "      <td>https://en.wikipedia.org/wiki/City_campus_of_t...</td>\n",
       "    </tr>\n",
       "  </tbody>\n",
       "</table>\n",
       "</div>"
      ],
      "text/plain": [
       "   poiID              poiName        poiTheme    poiLat     poiLon  \\\n",
       "0      0        Arts Precinct  City precincts -37.82167  144.96778   \n",
       "1      1            Docklands  City precincts -37.81700  144.94600   \n",
       "2      2  Government Precinct  City precincts -37.81190  144.97300   \n",
       "3      3         Little Italy  City precincts -37.79972  144.96694   \n",
       "4      4            RMIT City  City precincts -37.80778  144.96333   \n",
       "\n",
       "                                              poiURL  \n",
       "0  https://en.wikipedia.org/wiki/Melbourne_Arts_P...  \n",
       "1  https://en.wikipedia.org/wiki/Docklands,_Victoria  \n",
       "2  https://en.wikipedia.org/wiki/Spring_Street,_M...  \n",
       "3  https://en.wikipedia.org/wiki/Little_Italy,_Me...  \n",
       "4  https://en.wikipedia.org/wiki/City_campus_of_t...  "
      ]
     },
     "execution_count": 4,
     "metadata": {},
     "output_type": "execute_result"
    }
   ],
   "source": [
    "# 1. Load POI Data\n",
    "poi_df = pd.read_csv(fpoi)\n",
    "poi_df.head()"
   ]
  },
  {
   "cell_type": "code",
   "execution_count": 5,
   "metadata": {},
   "outputs": [],
   "source": [
    "poi_df.drop(['poiURL', 'poiName'], axis=1, inplace=True)"
   ]
  },
  {
   "cell_type": "code",
   "execution_count": 6,
   "metadata": {},
   "outputs": [],
   "source": [
    "poi_df.set_index('poiID', inplace=True)"
   ]
  },
  {
   "cell_type": "code",
   "execution_count": 7,
   "metadata": {},
   "outputs": [
    {
     "name": "stdout",
     "output_type": "stream",
     "text": [
      "#POIs: 88\n"
     ]
    }
   ],
   "source": [
    "print('#POIs:', poi_df.shape[0])"
   ]
  },
  {
   "cell_type": "code",
   "execution_count": 8,
   "metadata": {},
   "outputs": [
    {
     "data": {
      "text/plain": [
       "9"
      ]
     },
     "execution_count": 8,
     "metadata": {},
     "output_type": "execute_result"
    }
   ],
   "source": [
    "len(poi_df['poiTheme'].unique())"
   ]
  },
  {
   "cell_type": "markdown",
   "metadata": {},
   "source": [
    "<a id='sec2'></a>"
   ]
  },
  {
   "cell_type": "code",
   "execution_count": 9,
   "metadata": {},
   "outputs": [
    {
     "data": {
      "text/html": [
       "<div>\n",
       "<table border=\"1\" class=\"dataframe\">\n",
       "  <thead>\n",
       "    <tr style=\"text-align: right;\">\n",
       "      <th></th>\n",
       "      <th>Photo_ID</th>\n",
       "      <th>User_ID</th>\n",
       "      <th>Timestamp</th>\n",
       "      <th>Longitude</th>\n",
       "      <th>Latitude</th>\n",
       "      <th>Accuracy</th>\n",
       "      <th>URL</th>\n",
       "      <th>Marker(photo=0 video=1)</th>\n",
       "    </tr>\n",
       "  </thead>\n",
       "  <tbody>\n",
       "    <tr>\n",
       "      <th>0</th>\n",
       "      <td>5703013770</td>\n",
       "      <td>25287507@N02</td>\n",
       "      <td>2011-05-09 19:19:58</td>\n",
       "      <td>144.604775</td>\n",
       "      <td>-37.878579</td>\n",
       "      <td>16</td>\n",
       "      <td>http://www.flickr.com/photos/25287507@N02/5703...</td>\n",
       "      <td>0</td>\n",
       "    </tr>\n",
       "    <tr>\n",
       "      <th>1</th>\n",
       "      <td>5653121597</td>\n",
       "      <td>59335517@N02</td>\n",
       "      <td>2011-04-10 13:27:37</td>\n",
       "      <td>145.033779</td>\n",
       "      <td>-37.822310</td>\n",
       "      <td>16</td>\n",
       "      <td>http://www.flickr.com/photos/59335517@N02/5653...</td>\n",
       "      <td>0</td>\n",
       "    </tr>\n",
       "    <tr>\n",
       "      <th>2</th>\n",
       "      <td>5522325184</td>\n",
       "      <td>26303188@N00</td>\n",
       "      <td>2011-03-13 20:44:24</td>\n",
       "      <td>144.981122</td>\n",
       "      <td>-37.824344</td>\n",
       "      <td>14</td>\n",
       "      <td>http://www.flickr.com/photos/26303188@N00/5522...</td>\n",
       "      <td>0</td>\n",
       "    </tr>\n",
       "    <tr>\n",
       "      <th>3</th>\n",
       "      <td>7978703060</td>\n",
       "      <td>82732068@N02</td>\n",
       "      <td>2012-07-14 12:29:43</td>\n",
       "      <td>145.947854</td>\n",
       "      <td>-38.479344</td>\n",
       "      <td>15</td>\n",
       "      <td>http://www.flickr.com/photos/82732068@N02/7978...</td>\n",
       "      <td>0</td>\n",
       "    </tr>\n",
       "    <tr>\n",
       "      <th>4</th>\n",
       "      <td>174030514</td>\n",
       "      <td>19677632@N00</td>\n",
       "      <td>2004-08-01 19:28:40</td>\n",
       "      <td>145.533485</td>\n",
       "      <td>-37.949003</td>\n",
       "      <td>12</td>\n",
       "      <td>http://www.flickr.com/photos/19677632@N00/1740...</td>\n",
       "      <td>0</td>\n",
       "    </tr>\n",
       "  </tbody>\n",
       "</table>\n",
       "</div>"
      ],
      "text/plain": [
       "     Photo_ID       User_ID           Timestamp   Longitude   Latitude  \\\n",
       "0  5703013770  25287507@N02 2011-05-09 19:19:58  144.604775 -37.878579   \n",
       "1  5653121597  59335517@N02 2011-04-10 13:27:37  145.033779 -37.822310   \n",
       "2  5522325184  26303188@N00 2011-03-13 20:44:24  144.981122 -37.824344   \n",
       "3  7978703060  82732068@N02 2012-07-14 12:29:43  145.947854 -38.479344   \n",
       "4   174030514  19677632@N00 2004-08-01 19:28:40  145.533485 -37.949003   \n",
       "\n",
       "   Accuracy                                                URL  \\\n",
       "0        16  http://www.flickr.com/photos/25287507@N02/5703...   \n",
       "1        16  http://www.flickr.com/photos/59335517@N02/5653...   \n",
       "2        14  http://www.flickr.com/photos/26303188@N00/5522...   \n",
       "3        15  http://www.flickr.com/photos/82732068@N02/7978...   \n",
       "4        12  http://www.flickr.com/photos/19677632@N00/1740...   \n",
       "\n",
       "   Marker(photo=0 video=1)  \n",
       "0                        0  \n",
       "1                        0  \n",
       "2                        0  \n",
       "3                        0  \n",
       "4                        0  "
      ]
     },
     "execution_count": 9,
     "metadata": {},
     "output_type": "execute_result"
    }
   ],
   "source": [
    "# 2. Load Photo Data\n",
    "photo_df = pd.read_csv(fphoto, skipinitialspace=True, parse_dates=[2])\n",
    "photo_df.head()"
   ]
  },
  {
   "cell_type": "code",
   "execution_count": 10,
   "metadata": {},
   "outputs": [
    {
     "name": "stdout",
     "output_type": "stream",
     "text": [
      "[16 14 15 12 11 13  8 10  9  3  5  7  6  4  1  2]\n",
      "[16]\n"
     ]
    }
   ],
   "source": [
    "#removing photos with low accuracies (accuracy $< 16$).\n",
    "\n",
    "print(photo_df['Accuracy'].unique())\n",
    "photo_df = photo_df[photo_df['Accuracy'] == 16]\n",
    "print(photo_df['Accuracy'].unique())"
   ]
  },
  {
   "cell_type": "code",
   "execution_count": 11,
   "metadata": {},
   "outputs": [],
   "source": [
    "#Remove columns that will not be used.\n",
    "photo_df.drop(['Accuracy', 'URL', 'Marker(photo=0 video=1)'], axis=1, inplace=True)"
   ]
  },
  {
   "cell_type": "code",
   "execution_count": 13,
   "metadata": {},
   "outputs": [
    {
     "data": {
      "text/html": [
       "<div>\n",
       "<table border=\"1\" class=\"dataframe\">\n",
       "  <thead>\n",
       "    <tr style=\"text-align: right;\">\n",
       "      <th></th>\n",
       "      <th>photoID</th>\n",
       "      <th>userID</th>\n",
       "      <th>photoLon</th>\n",
       "      <th>photoLat</th>\n",
       "      <th>dateTaken</th>\n",
       "    </tr>\n",
       "  </thead>\n",
       "  <tbody>\n",
       "    <tr>\n",
       "      <th>0</th>\n",
       "      <td>5703013770</td>\n",
       "      <td>25287507@N02</td>\n",
       "      <td>144.604775</td>\n",
       "      <td>-37.878579</td>\n",
       "      <td>1304932798</td>\n",
       "    </tr>\n",
       "    <tr>\n",
       "      <th>1</th>\n",
       "      <td>5653121597</td>\n",
       "      <td>59335517@N02</td>\n",
       "      <td>145.033779</td>\n",
       "      <td>-37.822310</td>\n",
       "      <td>1302406057</td>\n",
       "    </tr>\n",
       "    <tr>\n",
       "      <th>5</th>\n",
       "      <td>9588963220</td>\n",
       "      <td>67774014@N00</td>\n",
       "      <td>144.965060</td>\n",
       "      <td>-37.815725</td>\n",
       "      <td>1377408461</td>\n",
       "    </tr>\n",
       "    <tr>\n",
       "      <th>9</th>\n",
       "      <td>6191232325</td>\n",
       "      <td>63488421@N08</td>\n",
       "      <td>144.666981</td>\n",
       "      <td>-37.922733</td>\n",
       "      <td>1316741616</td>\n",
       "    </tr>\n",
       "    <tr>\n",
       "      <th>10</th>\n",
       "      <td>6644759687</td>\n",
       "      <td>10559879@N00</td>\n",
       "      <td>144.961177</td>\n",
       "      <td>-37.812759</td>\n",
       "      <td>1325813367</td>\n",
       "    </tr>\n",
       "  </tbody>\n",
       "</table>\n",
       "</div>"
      ],
      "text/plain": [
       "       photoID        userID    photoLon   photoLat   dateTaken\n",
       "0   5703013770  25287507@N02  144.604775 -37.878579  1304932798\n",
       "1   5653121597  59335517@N02  145.033779 -37.822310  1302406057\n",
       "5   9588963220  67774014@N00  144.965060 -37.815725  1377408461\n",
       "9   6191232325  63488421@N08  144.666981 -37.922733  1316741616\n",
       "10  6644759687  10559879@N00  144.961177 -37.812759  1325813367"
      ]
     },
     "execution_count": 13,
     "metadata": {},
     "output_type": "execute_result"
    }
   ],
   "source": [
    "#Convert datatime to unix epoch.\n",
    "\n",
    "photo_df['dateTaken'] = photo_df['Timestamp'].apply(lambda x: x.timestamp())\n",
    "photo_df.drop('Timestamp', axis=1, inplace=True)\n",
    "photo_df['dateTaken'] = photo_df['dateTaken'].astype(np.int)\n",
    "\n",
    "photo_df.rename(columns={'Photo_ID':'photoID', 'User_ID':'userID', 'Longitude':'photoLon', 'Latitude':'photoLat'}, \\\n",
    "                inplace=True)\n",
    "photo_df.head()"
   ]
  },
  {
   "cell_type": "code",
   "execution_count": 14,
   "metadata": {},
   "outputs": [
    {
     "data": {
      "text/plain": [
       "(94142, 5)"
      ]
     },
     "execution_count": 14,
     "metadata": {},
     "output_type": "execute_result"
    }
   ],
   "source": [
    "photo_df.shape"
   ]
  },
  {
   "cell_type": "code",
   "execution_count": 15,
   "metadata": {},
   "outputs": [
    {
     "name": "stdout",
     "output_type": "stream",
     "text": [
      "#Photos: 94142\n",
      "#Users: 1659\n"
     ]
    }
   ],
   "source": [
    "print('#Photos:', photo_df['photoID'].unique().shape[0])\n",
    "print('#Users:', photo_df['userID'].unique().shape[0])"
   ]
  },
  {
   "cell_type": "code",
   "execution_count": 16,
   "metadata": {},
   "outputs": [
    {
     "data": {
      "text/html": [
       "<div>\n",
       "<table border=\"1\" class=\"dataframe\">\n",
       "  <thead>\n",
       "    <tr style=\"text-align: right;\">\n",
       "      <th></th>\n",
       "      <th>userID</th>\n",
       "      <th>photoLon</th>\n",
       "      <th>photoLat</th>\n",
       "      <th>dateTaken</th>\n",
       "      <th>poiID</th>\n",
       "      <th>trajID</th>\n",
       "    </tr>\n",
       "    <tr>\n",
       "      <th>photoID</th>\n",
       "      <th></th>\n",
       "      <th></th>\n",
       "      <th></th>\n",
       "      <th></th>\n",
       "      <th></th>\n",
       "      <th></th>\n",
       "    </tr>\n",
       "  </thead>\n",
       "  <tbody>\n",
       "    <tr>\n",
       "      <th>5703013770</th>\n",
       "      <td>25287507@N02</td>\n",
       "      <td>144.604775</td>\n",
       "      <td>-37.878579</td>\n",
       "      <td>1304932798</td>\n",
       "      <td>-1</td>\n",
       "      <td>-1</td>\n",
       "    </tr>\n",
       "    <tr>\n",
       "      <th>5653121597</th>\n",
       "      <td>59335517@N02</td>\n",
       "      <td>145.033779</td>\n",
       "      <td>-37.822310</td>\n",
       "      <td>1302406057</td>\n",
       "      <td>-1</td>\n",
       "      <td>-1</td>\n",
       "    </tr>\n",
       "    <tr>\n",
       "      <th>9588963220</th>\n",
       "      <td>67774014@N00</td>\n",
       "      <td>144.965060</td>\n",
       "      <td>-37.815725</td>\n",
       "      <td>1377408461</td>\n",
       "      <td>-1</td>\n",
       "      <td>-1</td>\n",
       "    </tr>\n",
       "    <tr>\n",
       "      <th>6191232325</th>\n",
       "      <td>63488421@N08</td>\n",
       "      <td>144.666981</td>\n",
       "      <td>-37.922733</td>\n",
       "      <td>1316741616</td>\n",
       "      <td>-1</td>\n",
       "      <td>-1</td>\n",
       "    </tr>\n",
       "    <tr>\n",
       "      <th>6644759687</th>\n",
       "      <td>10559879@N00</td>\n",
       "      <td>144.961177</td>\n",
       "      <td>-37.812759</td>\n",
       "      <td>1325813367</td>\n",
       "      <td>-1</td>\n",
       "      <td>-1</td>\n",
       "    </tr>\n",
       "  </tbody>\n",
       "</table>\n",
       "</div>"
      ],
      "text/plain": [
       "                  userID    photoLon   photoLat   dateTaken  poiID  trajID\n",
       "photoID                                                                   \n",
       "5703013770  25287507@N02  144.604775 -37.878579  1304932798     -1      -1\n",
       "5653121597  59335517@N02  145.033779 -37.822310  1302406057     -1      -1\n",
       "9588963220  67774014@N00  144.965060 -37.815725  1377408461     -1      -1\n",
       "6191232325  63488421@N08  144.666981 -37.922733  1316741616     -1      -1\n",
       "6644759687  10559879@N00  144.961177 -37.812759  1325813367     -1      -1"
      ]
     },
     "execution_count": 16,
     "metadata": {},
     "output_type": "execute_result"
    }
   ],
   "source": [
    "photo_df.set_index('photoID', inplace=True)\n",
    "photo_df['poiID'] = -1\n",
    "photo_df['trajID'] = -1\n",
    "photo_df.head()"
   ]
  },
  {
   "cell_type": "markdown",
   "metadata": {},
   "source": [
    "<a id='sec3'></a>"
   ]
  },
  {
   "cell_type": "code",
   "execution_count": 17,
   "metadata": {
    "collapsed": true
   },
   "outputs": [],
   "source": [
    "# 3. Map Photos to POIs & Build Trajectories\n",
    "\n",
    "def calc_dist_vec(longitudes1, latitudes1, longitudes2, latitudes2):\n",
    "    #calculate the distance (unit: km) between two places on earth, vectorised\n",
    "    # convert degrees to radians\n",
    "    lng1 = np.radians(longitudes1)\n",
    "    lat1 = np.radians(latitudes1)\n",
    "    lng2 = np.radians(longitudes2)\n",
    "    lat2 = np.radians(latitudes2)\n",
    "    radius = 6371.0088 # mean earth radius\n",
    "\n",
    "    dlng = np.fabs(lng1 - lng2)\n",
    "    dlat = np.fabs(lat1 - lat2)\n",
    "    dist =  2 * radius * np.arcsin( np.sqrt( \n",
    "                (np.sin(0.5*dlat))**2 + np.cos(lat1) * np.cos(lat2) * (np.sin(0.5*dlng))**2 ))\n",
    "    return dist"
   ]
  },
  {
   "cell_type": "code",
   "execution_count": 18,
   "metadata": {},
   "outputs": [
    {
     "data": {
      "text/plain": [
       "0.0"
      ]
     },
     "execution_count": 18,
     "metadata": {},
     "output_type": "execute_result"
    }
   ],
   "source": [
    "calc_dist_vec(poi_df.loc[0, 'poiLon'], poi_df.loc[0, 'poiLat'], poi_df.loc[0, 'poiLon'], poi_df.loc[0, 'poiLat'])"
   ]
  },
  {
   "cell_type": "code",
   "execution_count": 19,
   "metadata": {
    "collapsed": true
   },
   "outputs": [],
   "source": [
    "SUPER_FAST = 150 / (60 * 60)  # 150 km/h"
   ]
  },
  {
   "cell_type": "code",
   "execution_count": 20,
   "metadata": {
    "collapsed": true
   },
   "outputs": [],
   "source": [
    "filter_tags = pd.Series(data=np.zeros(photo_df.shape[0], dtype=np.bool), index=photo_df.index)"
   ]
  },
  {
   "cell_type": "code",
   "execution_count": 21,
   "metadata": {},
   "outputs": [
    {
     "name": "stdout",
     "output_type": "stream",
     "text": [
      "[--------------------------------------------------------------------------------] 100%"
     ]
    }
   ],
   "source": [
    "cnt = 0\n",
    "total = photo_df['userID'].unique().shape[0]\n",
    "for user in sorted(photo_df['userID'].unique().tolist()):\n",
    "    udf = photo_df[photo_df['userID'] == user].copy()\n",
    "    udf.sort_values(by='dateTaken', ascending=True, inplace=True)\n",
    "    udists = calc_dist_vec(udf['photoLon'][:-1].values, udf['photoLat'][:-1].values, \\\n",
    "                           udf['photoLon'][1: ].values, udf['photoLat'][1: ].values)\n",
    "    assert(udists.shape[0] == udf.shape[0]-1)\n",
    "    superfast = np.zeros(udf.shape[0]-1, dtype=np.bool)\n",
    "    for i in range(udf.shape[0]-1):\n",
    "        ix1 = udf.index[i]\n",
    "        ix2 = udf.index[i+1]\n",
    "        dtime = udf.loc[ix2, 'dateTaken'] - udf.loc[ix1, 'dateTaken']\n",
    "        assert(dtime >= 0)\n",
    "        if dtime == 0: superfast[i] = True\n",
    "        speed = udists[i] / dtime\n",
    "        if speed > SUPER_FAST: superfast[i] = True\n",
    "    for j in range(superfast.shape[0]-1):\n",
    "        if superfast[j] and superfast[j+1]:  # jx0-->SUPER_FAST-->jx-->SUPER_FAST-->jx1: remove photo jx\n",
    "            jx = udf.index[j+1]\n",
    "            filter_tags.loc[jx] = True\n",
    "    cnt += 1; print_progress(cnt, total)"
   ]
  },
  {
   "cell_type": "code",
   "execution_count": 22,
   "metadata": {},
   "outputs": [],
   "source": [
    "for jx in filter_tags.index:\n",
    "    if filter_tags.loc[jx] == True:\n",
    "        photo_df.drop(jx, axis=0, inplace=True)"
   ]
  },
  {
   "cell_type": "code",
   "execution_count": 23,
   "metadata": {},
   "outputs": [
    {
     "data": {
      "text/plain": [
       "(92758, 6)"
      ]
     },
     "execution_count": 23,
     "metadata": {},
     "output_type": "execute_result"
    }
   ],
   "source": [
    "photo_df.shape"
   ]
  },
  {
   "cell_type": "code",
   "execution_count": 24,
   "metadata": {
    "collapsed": true
   },
   "outputs": [],
   "source": [
    "#distance between POIs.\n",
    "\n",
    "poi_distmat = pd.DataFrame(data=np.zeros((poi_df.shape[0], poi_df.shape[0]), dtype=np.float), \\\n",
    "                           index=poi_df.index, columns=poi_df.index)\n",
    "\n",
    "for ix in poi_df.index:\n",
    "    poi_distmat.loc[ix] = calc_dist_vec(poi_df.loc[ix, 'poiLon'], poi_df.loc[ix, 'poiLat'], \\\n",
    "                                        poi_df['poiLon'], poi_df['poiLat'])"
   ]
  },
  {
   "cell_type": "code",
   "execution_count": 26,
   "metadata": {
    "collapsed": true
   },
   "outputs": [],
   "source": [
    "\n",
    "photo_poi_distmat = pd.DataFrame(data=np.zeros((photo_df.shape[0], poi_df.shape[0]), dtype=np.float), \\\n",
    "                                 index=photo_df.index, columns=poi_df.index)"
   ]
  },
  {
   "cell_type": "code",
   "execution_count": 27,
   "metadata": {},
   "outputs": [
    {
     "name": "stdout",
     "output_type": "stream",
     "text": [
      "[--------------------------------------------------------------------------------] 100%"
     ]
    }
   ],
   "source": [
    "for i in range(photo_df.shape[0]):\n",
    "    ix = photo_df.index[i]\n",
    "    photo_poi_distmat.loc[ix] = calc_dist_vec(photo_df.loc[ix, 'photoLon'], photo_df.loc[ix, 'photoLat'], \\\n",
    "                                              poi_df['poiLon'], poi_df['poiLat'])\n",
    "    print_progress(i+1, photo_df.shape[0])"
   ]
  },
  {
   "cell_type": "code",
   "execution_count": 28,
   "metadata": {
    "collapsed": true
   },
   "outputs": [],
   "source": [
    "DIST_MAX = 0.2  # 0.2km"
   ]
  },
  {
   "cell_type": "code",
   "execution_count": 29,
   "metadata": {
    "collapsed": true
   },
   "outputs": [],
   "source": [
    "TIME_GAP = 8 * 60 * 60  # 8 hours"
   ]
  },
  {
   "cell_type": "code",
   "execution_count": 30,
   "metadata": {
    "collapsed": true
   },
   "outputs": [],
   "source": [
    "users = sorted(photo_df['userID'].unique().tolist())"
   ]
  },
  {
   "cell_type": "markdown",
   "metadata": {},
   "source": [
    "<a id='sec3.1'></a>"
   ]
  },
  {
   "cell_type": "code",
   "execution_count": 31,
   "metadata": {
    "collapsed": true
   },
   "outputs": [],
   "source": [
    "#Map Photos to POIs: Greedy Approach\n",
    "traj_greedy = photo_df.copy()"
   ]
  },
  {
   "cell_type": "code",
   "execution_count": 32,
   "metadata": {},
   "outputs": [
    {
     "name": "stdout",
     "output_type": "stream",
     "text": [
      "[--------------------------------------------------------------------------------] 100%"
     ]
    }
   ],
   "source": [
    "cnt = 0\n",
    "for ix in traj_greedy.index:\n",
    "    min_ix = photo_poi_distmat.loc[ix].idxmin()\n",
    "    if photo_poi_distmat.loc[ix, min_ix] > DIST_MAX:  # photo is taken at position far from any POI\n",
    "        pass\n",
    "    else:\n",
    "        traj_greedy.loc[ix, 'poiID'] = poi_df.index[min_ix]  \n",
    "        # all POIs that are very close to a photo are an option to map\n",
    "        #photo_df.loc[ix, 'poiID'] = str(poi_df.index[~(dists > dist_max)].tolist())\n",
    "    cnt += 1; print_progress(cnt, traj_greedy.shape[0])"
   ]
  },
  {
   "cell_type": "code",
   "execution_count": 33,
   "metadata": {
    "collapsed": true
   },
   "outputs": [],
   "source": [
    "traj_greedy = traj_greedy[traj_greedy['poiID'] != -1]"
   ]
  },
  {
   "cell_type": "code",
   "execution_count": 34,
   "metadata": {},
   "outputs": [
    {
     "name": "stdout",
     "output_type": "stream",
     "text": [
      "[--------------------------------------------------------------------------------] 100%"
     ]
    }
   ],
   "source": [
    "tid = 0\n",
    "cnt = 0\n",
    "for user in users:\n",
    "    udf = traj_greedy[traj_greedy['userID'] == user].copy()\n",
    "    udf.sort_values(by='dateTaken', ascending=True, inplace=True)\n",
    "    if udf.shape[0] == 0: \n",
    "        cnt += 1; print_progress(cnt, len(users))\n",
    "        continue\n",
    "    \n",
    "    traj_greedy.loc[udf.index[0], 'trajID'] = tid\n",
    "    for i in range(1, udf.shape[0]):\n",
    "        ix1 = udf.index[i-1]\n",
    "        ix2 = udf.index[i]\n",
    "        if udf.loc[ix2, 'dateTaken'] - udf.loc[ix1, 'dateTaken'] > TIME_GAP:\n",
    "            tid += 1\n",
    "            traj_greedy.loc[ix2, 'trajID'] = tid\n",
    "        else:\n",
    "            traj_greedy.loc[ix2, 'trajID'] = tid\n",
    "    tid += 1  # for trajectories of the next user\n",
    "    cnt += 1; print_progress(cnt, len(users))"
   ]
  },
  {
   "cell_type": "markdown",
   "metadata": {},
   "source": [
    "<a id='sec3.2'></a>"
   ]
  },
  {
   "cell_type": "code",
   "execution_count": 47,
   "metadata": {
    "collapsed": true
   },
   "outputs": [],
   "source": [
    "# 4. Save Trajectory Data\n",
    "#Save trajectories and related POIs to files.\n",
    "\n",
    "visits = traj_greedy[traj_greedy['poiID'] != -1]\n",
    "#visits = traj_dp[traj_dp['poiID'] != -1]"
   ]
  },
  {
   "cell_type": "code",
   "execution_count": 48,
   "metadata": {},
   "outputs": [
    {
     "data": {
      "text/html": [
       "<div>\n",
       "<table border=\"1\" class=\"dataframe\">\n",
       "  <thead>\n",
       "    <tr style=\"text-align: right;\">\n",
       "      <th></th>\n",
       "      <th>userID</th>\n",
       "      <th>photoLon</th>\n",
       "      <th>photoLat</th>\n",
       "      <th>dateTaken</th>\n",
       "      <th>poiID</th>\n",
       "      <th>trajID</th>\n",
       "    </tr>\n",
       "    <tr>\n",
       "      <th>photoID</th>\n",
       "      <th></th>\n",
       "      <th></th>\n",
       "      <th></th>\n",
       "      <th></th>\n",
       "      <th></th>\n",
       "      <th></th>\n",
       "    </tr>\n",
       "  </thead>\n",
       "  <tbody>\n",
       "    <tr>\n",
       "      <th>9588963220</th>\n",
       "      <td>67774014@N00</td>\n",
       "      <td>144.965060</td>\n",
       "      <td>-37.815725</td>\n",
       "      <td>1377408461</td>\n",
       "      <td>8</td>\n",
       "      <td>3333</td>\n",
       "    </tr>\n",
       "    <tr>\n",
       "      <th>703949177</th>\n",
       "      <td>79925938@N00</td>\n",
       "      <td>144.993074</td>\n",
       "      <td>-37.846570</td>\n",
       "      <td>1183135485</td>\n",
       "      <td>20</td>\n",
       "      <td>3975</td>\n",
       "    </tr>\n",
       "    <tr>\n",
       "      <th>775049707</th>\n",
       "      <td>79925938@N00</td>\n",
       "      <td>144.964085</td>\n",
       "      <td>-37.815018</td>\n",
       "      <td>1183823546</td>\n",
       "      <td>18</td>\n",
       "      <td>3977</td>\n",
       "    </tr>\n",
       "    <tr>\n",
       "      <th>8687823797</th>\n",
       "      <td>35558720@N03</td>\n",
       "      <td>144.960168</td>\n",
       "      <td>-37.823471</td>\n",
       "      <td>1364043697</td>\n",
       "      <td>25</td>\n",
       "      <td>1487</td>\n",
       "    </tr>\n",
       "    <tr>\n",
       "      <th>2676185</th>\n",
       "      <td>79925938@N00</td>\n",
       "      <td>144.969438</td>\n",
       "      <td>-37.816501</td>\n",
       "      <td>1104369016</td>\n",
       "      <td>71</td>\n",
       "      <td>3919</td>\n",
       "    </tr>\n",
       "  </tbody>\n",
       "</table>\n",
       "</div>"
      ],
      "text/plain": [
       "                  userID    photoLon   photoLat   dateTaken  poiID  trajID\n",
       "photoID                                                                   \n",
       "9588963220  67774014@N00  144.965060 -37.815725  1377408461      8    3333\n",
       "703949177   79925938@N00  144.993074 -37.846570  1183135485     20    3975\n",
       "775049707   79925938@N00  144.964085 -37.815018  1183823546     18    3977\n",
       "8687823797  35558720@N03  144.960168 -37.823471  1364043697     25    1487\n",
       "2676185     79925938@N00  144.969438 -37.816501  1104369016     71    3919"
      ]
     },
     "execution_count": 48,
     "metadata": {},
     "output_type": "execute_result"
    }
   ],
   "source": [
    "visits.head()"
   ]
  },
  {
   "cell_type": "code",
   "execution_count": 49,
   "metadata": {
    "collapsed": true
   },
   "outputs": [],
   "source": [
    "#save visits data.\n",
    "\n",
    "uservisits = visits.copy()\n",
    "uservisits.rename(columns={'trajID':'seqID'}, inplace=True)\n",
    "uservisits.to_csv(os.path.join(data_dir, 'userVisits-Melb-1.csv'), index=False)"
   ]
  },
  {
   "cell_type": "code",
   "execution_count": 50,
   "metadata": {
    "collapsed": true
   },
   "outputs": [],
   "source": [
    "#save POIs to CSV file.\n",
    "poiix = sorted(visits['poiID'].unique().tolist())"
   ]
  },
  {
   "cell_type": "code",
   "execution_count": 51,
   "metadata": {
    "collapsed": true
   },
   "outputs": [],
   "source": [
    "poi_df.loc[poiix].to_csv(fpoi_new, index=True)"
   ]
  },
  {
   "cell_type": "code",
   "execution_count": 52,
   "metadata": {
    "collapsed": true
   },
   "outputs": [],
   "source": [
    "#count the number of photos taken at each POI.\n",
    "\n",
    "poifreq = visits[['poiID', 'dateTaken']].copy().groupby('poiID').agg(np.size)\n",
    "poifreq.rename(columns={'dateTaken':'poiFreq'}, inplace=True)"
   ]
  },
  {
   "cell_type": "code",
   "execution_count": 53,
   "metadata": {},
   "outputs": [],
   "source": [
    "#save data in file format like IJCAI datasets: user visits data, POI related data.\n",
    "visits_df = visits.copy()\n",
    "visits_df.reset_index(inplace=True)\n",
    "visits_df.drop(['photoLon', 'photoLat'], axis=1, inplace=True)\n",
    "\n",
    "visits_df['dateTaken'] = visits_df['dateTaken'].astype(np.int)\n",
    "visits_df.rename(columns={'trajID':'seqID'}, inplace=True)\n",
    "\n",
    "visits_df['poiTheme'] = poi_df.loc[visits_df['poiID'], 'poiTheme'].tolist()\n",
    "visits_df['poiFreq'] = poifreq.loc[visits_df['poiID'], 'poiFreq'].astype(np.int).tolist()"
   ]
  },
  {
   "cell_type": "code",
   "execution_count": 55,
   "metadata": {
    "collapsed": true
   },
   "outputs": [],
   "source": [
    "#sort photos by date taken.\n",
    "visits_df.sort_values(by='dateTaken', ascending=True, inplace=True)"
   ]
  },
  {
   "cell_type": "code",
   "execution_count": 54,
   "metadata": {},
   "outputs": [
    {
     "data": {
      "text/html": [
       "<div>\n",
       "<table border=\"1\" class=\"dataframe\">\n",
       "  <thead>\n",
       "    <tr style=\"text-align: right;\">\n",
       "      <th></th>\n",
       "      <th>photoID</th>\n",
       "      <th>userID</th>\n",
       "      <th>dateTaken</th>\n",
       "      <th>poiID</th>\n",
       "      <th>seqID</th>\n",
       "      <th>poiTheme</th>\n",
       "      <th>poiFreq</th>\n",
       "    </tr>\n",
       "  </thead>\n",
       "  <tbody>\n",
       "    <tr>\n",
       "      <th>0</th>\n",
       "      <td>9588963220</td>\n",
       "      <td>67774014@N00</td>\n",
       "      <td>1377408461</td>\n",
       "      <td>8</td>\n",
       "      <td>3333</td>\n",
       "      <td>Shopping</td>\n",
       "      <td>209</td>\n",
       "    </tr>\n",
       "    <tr>\n",
       "      <th>1</th>\n",
       "      <td>703949177</td>\n",
       "      <td>79925938@N00</td>\n",
       "      <td>1183135485</td>\n",
       "      <td>20</td>\n",
       "      <td>3975</td>\n",
       "      <td>Shopping</td>\n",
       "      <td>653</td>\n",
       "    </tr>\n",
       "    <tr>\n",
       "      <th>2</th>\n",
       "      <td>775049707</td>\n",
       "      <td>79925938@N00</td>\n",
       "      <td>1183823546</td>\n",
       "      <td>18</td>\n",
       "      <td>3977</td>\n",
       "      <td>Shopping</td>\n",
       "      <td>659</td>\n",
       "    </tr>\n",
       "    <tr>\n",
       "      <th>3</th>\n",
       "      <td>8687823797</td>\n",
       "      <td>35558720@N03</td>\n",
       "      <td>1364043697</td>\n",
       "      <td>25</td>\n",
       "      <td>1487</td>\n",
       "      <td>Entertainment</td>\n",
       "      <td>1671</td>\n",
       "    </tr>\n",
       "    <tr>\n",
       "      <th>4</th>\n",
       "      <td>2676185</td>\n",
       "      <td>79925938@N00</td>\n",
       "      <td>1104369016</td>\n",
       "      <td>71</td>\n",
       "      <td>3919</td>\n",
       "      <td>Parks and spaces</td>\n",
       "      <td>1693</td>\n",
       "    </tr>\n",
       "  </tbody>\n",
       "</table>\n",
       "</div>"
      ],
      "text/plain": [
       "      photoID        userID   dateTaken  poiID  seqID          poiTheme  \\\n",
       "0  9588963220  67774014@N00  1377408461      8   3333          Shopping   \n",
       "1   703949177  79925938@N00  1183135485     20   3975          Shopping   \n",
       "2   775049707  79925938@N00  1183823546     18   3977          Shopping   \n",
       "3  8687823797  35558720@N03  1364043697     25   1487     Entertainment   \n",
       "4     2676185  79925938@N00  1104369016     71   3919  Parks and spaces   \n",
       "\n",
       "   poiFreq  \n",
       "0      209  \n",
       "1      653  \n",
       "2      659  \n",
       "3     1671  \n",
       "4     1693  "
      ]
     },
     "execution_count": 54,
     "metadata": {},
     "output_type": "execute_result"
    }
   ],
   "source": [
    "visits_df.head()"
   ]
  },
  {
   "cell_type": "code",
   "execution_count": 56,
   "metadata": {
    "collapsed": true
   },
   "outputs": [],
   "source": [
    "#save visits data.cols = ['photoID', 'userID', 'dateTaken', 'poiID', 'poiTheme', 'poiFreq', 'seqID']\n",
    "visits_df.to_csv(fvisits2, sep=';', quoting=2, columns=cols, index=False)"
   ]
  },
  {
   "cell_type": "code",
   "execution_count": 57,
   "metadata": {},
   "outputs": [
    {
     "data": {
      "text/plain": [
       "'../data/userVisits-Melb-allPOI.csv'"
      ]
     },
     "execution_count": 57,
     "metadata": {},
     "output_type": "execute_result"
    }
   ],
   "source": [
    "fvisits2"
   ]
  },
  {
   "cell_type": "code",
   "execution_count": 58,
   "metadata": {
    "collapsed": true
   },
   "outputs": [],
   "source": [
    "#POI related data: cost=POI-POI distance (meters), profit=frequency (#photos taken at the second POI).\n",
    "costprofit_df = pd.DataFrame(columns=['from', 'to', 'cost', 'profit', 'category'])"
   ]
  },
  {
   "cell_type": "code",
   "execution_count": 59,
   "metadata": {},
   "outputs": [],
   "source": [
    "pois = sorted(visits_df['poiID'].unique())"
   ]
  },
  {
   "cell_type": "code",
   "execution_count": 60,
   "metadata": {},
   "outputs": [],
   "source": [
    "for poi1 in pois:\n",
    "    for poi2 in pois:\n",
    "        if poi1 == poi2: \n",
    "            continue\n",
    "        ix = costprofit_df.shape[0]\n",
    "        costprofit_df.loc[ix, 'from'] = poi1\n",
    "        costprofit_df.loc[ix, 'to'] = poi2\n",
    "        \n",
    "        costprofit_df.loc[ix, 'cost'] = poi_distmat.loc[poi1, poi2] * 1000  # meters\n",
    "        \n",
    "        costprofit_df.loc[ix, 'profit'] = poifreq.loc[poi2, 'poiFreq']\n",
    "        costprofit_df.loc[ix, 'category'] = poi_df.loc[poi2, 'poiTheme']"
   ]
  },
  {
   "cell_type": "code",
   "execution_count": 61,
   "metadata": {},
   "outputs": [
    {
     "data": {
      "text/html": [
       "<div>\n",
       "<table border=\"1\" class=\"dataframe\">\n",
       "  <thead>\n",
       "    <tr style=\"text-align: right;\">\n",
       "      <th></th>\n",
       "      <th>from</th>\n",
       "      <th>to</th>\n",
       "      <th>cost</th>\n",
       "      <th>profit</th>\n",
       "      <th>category</th>\n",
       "    </tr>\n",
       "  </thead>\n",
       "  <tbody>\n",
       "    <tr>\n",
       "      <th>0</th>\n",
       "      <td>0</td>\n",
       "      <td>1</td>\n",
       "      <td>1982.34</td>\n",
       "      <td>139</td>\n",
       "      <td>City precincts</td>\n",
       "    </tr>\n",
       "    <tr>\n",
       "      <th>1</th>\n",
       "      <td>0</td>\n",
       "      <td>2</td>\n",
       "      <td>1179.18</td>\n",
       "      <td>304</td>\n",
       "      <td>City precincts</td>\n",
       "    </tr>\n",
       "    <tr>\n",
       "      <th>2</th>\n",
       "      <td>0</td>\n",
       "      <td>3</td>\n",
       "      <td>2441.85</td>\n",
       "      <td>138</td>\n",
       "      <td>City precincts</td>\n",
       "    </tr>\n",
       "    <tr>\n",
       "      <th>3</th>\n",
       "      <td>0</td>\n",
       "      <td>4</td>\n",
       "      <td>1593.2</td>\n",
       "      <td>349</td>\n",
       "      <td>City precincts</td>\n",
       "    </tr>\n",
       "    <tr>\n",
       "      <th>4</th>\n",
       "      <td>0</td>\n",
       "      <td>5</td>\n",
       "      <td>1249.32</td>\n",
       "      <td>70</td>\n",
       "      <td>City precincts</td>\n",
       "    </tr>\n",
       "  </tbody>\n",
       "</table>\n",
       "</div>"
      ],
      "text/plain": [
       "  from to     cost profit        category\n",
       "0    0  1  1982.34    139  City precincts\n",
       "1    0  2  1179.18    304  City precincts\n",
       "2    0  3  2441.85    138  City precincts\n",
       "3    0  4   1593.2    349  City precincts\n",
       "4    0  5  1249.32     70  City precincts"
      ]
     },
     "execution_count": 61,
     "metadata": {},
     "output_type": "execute_result"
    }
   ],
   "source": [
    "costprofit_df.head()"
   ]
  },
  {
   "cell_type": "code",
   "execution_count": 62,
   "metadata": {
    "collapsed": true
   },
   "outputs": [],
   "source": [
    "#save POI related data.\n",
    "\n",
    "cols = ['from', 'to', 'cost', 'profit', 'category']\n",
    "costprofit_df.to_csv(fpoi2, sep=';', quoting=2, columns=cols, index=False)"
   ]
  }
 ],
 "metadata": {
  "kernelspec": {
   "display_name": "Python 3",
   "language": "python",
   "name": "python3"
  },
  "language_info": {
   "codemirror_mode": {
    "name": "ipython",
    "version": 3
   },
   "file_extension": ".py",
   "mimetype": "text/x-python",
   "name": "python",
   "nbconvert_exporter": "python",
   "pygments_lexer": "ipython3",
   "version": "3.7.1"
  }
 },
 "nbformat": 4,
 "nbformat_minor": 1
}
