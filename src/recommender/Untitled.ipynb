{
 "cells": [
  {
   "cell_type": "code",
   "execution_count": 1,
   "metadata": {
    "collapsed": false
   },
   "outputs": [
    {
     "name": "stdout",
     "output_type": "stream",
     "text": [
      "Top 1 recommendation: [9, 22, 14, 15, 17, 8, 82, 81]\n",
      "Top 2 recommendation: [9, 15, 17, 22, 14, 8, 82, 81]\n",
      "Top 3 recommendation: [9, 17, 15, 22, 14, 8, 82, 81]\n",
      "Top 4 recommendation: [9, 22, 15, 17, 14, 8, 82, 81]\n",
      "Top 5 recommendation: [9, 22, 17, 15, 14, 8, 82, 81]\n",
      "Top 6 recommendation: [9, 14, 15, 22, 17, 8, 82, 81]\n",
      "Top 7 recommendation: [9, 14, 8, 17, 15, 22, 82, 81]\n",
      "Top 8 recommendation: [9, 14, 22, 15, 17, 8, 82, 81]\n",
      "Top 9 recommendation: [9, 14, 15, 22, 8, 17, 82, 81]\n",
      "Top 10 recommendation: [9, 15, 17, 8, 14, 22, 82, 81]\n"
     ]
    }
   ],
   "source": [
    "\n",
    "import os, sys\n",
    "import numpy as np\n",
    "import pandas as pd\n",
    "import pickle as pkl\n",
    "\n",
    "if __name__ == '__main__':\n",
    "\n",
    "    fmodel = 'model-Melb.pkl'  # path of the trained model file\n",
    "    model = pkl.load(open(fmodel, 'rb'))['MODEL']  # trained model\n",
    "    \n",
    "    startPOI = 9  # the start POI-ID for the desired trajectory, can be any POI-ID in flickr-photo/data/poi-Melb-all.csv\n",
    "    length = 8    # the length of desired trajectory: the number of POIs in trajectory (including start POI)\n",
    "                  # if length > 8, the inference could be slow\n",
    "\n",
    "    recommendations = model.predict(startPOI, length) # recommendations is list of 10 trajectories\n",
    "\n",
    "    for i in range(len(recommendations)):\n",
    "        print('Top %d recommendation: %s' % (i+1, str(list(recommendations[i]))))"
   ]
  },
  {
   "cell_type": "code",
   "execution_count": 4,
   "metadata": {
    "collapsed": false
   },
   "outputs": [],
   "source": [
    "\n",
    "import pickle\n",
    "with open('model-Melb.pkl', 'rb') as f:\n",
    "    data = pickle.load(f)"
   ]
  },
  {
   "cell_type": "code",
   "execution_count": 5,
   "metadata": {
    "collapsed": false
   },
   "outputs": [
    {
     "data": {
      "text/plain": [
       "{'MODEL': <ssvm.SSVM at 0x7f6c2ee9d080>}"
      ]
     },
     "execution_count": 5,
     "metadata": {},
     "output_type": "execute_result"
    }
   ],
   "source": [
    "data"
   ]
  },
  {
   "cell_type": "code",
   "execution_count": 6,
   "metadata": {
    "collapsed": true
   },
   "outputs": [],
   "source": [
    "import csv\n",
    "from six.moves import cPickle as pickle\n",
    "import numpy as np\n",
    "\n",
    "\n",
    "def main(path_pickle,path_csv):\n",
    "\n",
    "    x = []\n",
    "    with open(path_pickle,'r') as f:\n",
    "        x = pickle.load(f)\n",
    "\n",
    "    with open(path_csv,'w') as f:\n",
    "        writer = csv.writer(f)\n",
    "        for line in x: writer.writerow(line)\n",
    "            \n",
    "            \n"
   ]
  },
  {
   "cell_type": "code",
   "execution_count": 9,
   "metadata": {
    "collapsed": true
   },
   "outputs": [],
   "source": [
    "import csv\n",
    "from six.moves import cPickle as pickle\n",
    "import numpy as np\n",
    "\n",
    "\n",
    "y = []\n",
    "with open('model-Melb.pkl', 'rb') as f:\n",
    "    y = pickle.load(f)\n",
    "    \n",
    "with open('demo.txt','w') as f:\n",
    "    writer = csv.writer(f)\n",
    "    for line in y: writer.writerow(line)"
   ]
  },
  {
   "cell_type": "code",
   "execution_count": 1,
   "metadata": {
    "collapsed": false
   },
   "outputs": [
    {
     "ename": "ImportError",
     "evalue": "No module named 'cPickle'",
     "output_type": "error",
     "traceback": [
      "\u001b[0;31m---------------------------------------------------------------------------\u001b[0m",
      "\u001b[0;31mImportError\u001b[0m                               Traceback (most recent call last)",
      "\u001b[0;32m<ipython-input-1-45cec1861982>\u001b[0m in \u001b[0;36m<module>\u001b[0;34m()\u001b[0m\n\u001b[0;32m----> 1\u001b[0;31m \u001b[0;32mimport\u001b[0m \u001b[0mcPickle\u001b[0m\u001b[0;34m\u001b[0m\u001b[0m\n\u001b[0m\u001b[1;32m      2\u001b[0m \u001b[0mdata\u001b[0m\u001b[0;34m=\u001b[0m\u001b[0mcPickle\u001b[0m\u001b[0;34m.\u001b[0m\u001b[0mload\u001b[0m\u001b[0;34m(\u001b[0m\u001b[0mopen\u001b[0m\u001b[0;34m(\u001b[0m\u001b[0;34m'model-Melb.pkl'\u001b[0m\u001b[0;34m,\u001b[0m\u001b[0;34m\"rb\"\u001b[0m\u001b[0;34m)\u001b[0m\u001b[0;34m)\u001b[0m\u001b[0;34m\u001b[0m\u001b[0m\n\u001b[1;32m      3\u001b[0m \u001b[0moutput\u001b[0m\u001b[0;34m=\u001b[0m\u001b[0mopen\u001b[0m\u001b[0;34m(\u001b[0m\u001b[0;34m\"write.txt\"\u001b[0m\u001b[0;34m,\u001b[0m\u001b[0;34m\"w\"\u001b[0m\u001b[0;34m)\u001b[0m\u001b[0;34m\u001b[0m\u001b[0m\n\u001b[1;32m      4\u001b[0m \u001b[0moutput\u001b[0m\u001b[0;34m.\u001b[0m\u001b[0mwrite\u001b[0m\u001b[0;34m(\u001b[0m\u001b[0mstr\u001b[0m\u001b[0;34m(\u001b[0m\u001b[0mdata\u001b[0m\u001b[0;34m)\u001b[0m\u001b[0;34m)\u001b[0m\u001b[0;34m\u001b[0m\u001b[0m\n\u001b[1;32m      5\u001b[0m \u001b[0moutput\u001b[0m\u001b[0;34m.\u001b[0m\u001b[0mflush\u001b[0m\u001b[0;34m(\u001b[0m\u001b[0;34m)\u001b[0m\u001b[0;34m\u001b[0m\u001b[0m\n",
      "\u001b[0;31mImportError\u001b[0m: No module named 'cPickle'"
     ]
    }
   ],
   "source": [
    "import cPickle\n",
    "data=cPickle.load(open('model-Melb.pkl',\"rb\"))\n",
    "output=open(\"write.txt\",\"w\")\n",
    "output.write(str(data))\n",
    "output.flush()\n",
    "output.close()"
   ]
  },
  {
   "cell_type": "code",
   "execution_count": null,
   "metadata": {
    "collapsed": true
   },
   "outputs": [],
   "source": []
  }
 ],
 "metadata": {
  "anaconda-cloud": {},
  "kernelspec": {
   "display_name": "Python [conda root]",
   "language": "python",
   "name": "conda-root-py"
  },
  "language_info": {
   "codemirror_mode": {
    "name": "ipython",
    "version": 3
   },
   "file_extension": ".py",
   "mimetype": "text/x-python",
   "name": "python",
   "nbconvert_exporter": "python",
   "pygments_lexer": "ipython3",
   "version": "3.5.3"
  }
 },
 "nbformat": 4,
 "nbformat_minor": 1
}
