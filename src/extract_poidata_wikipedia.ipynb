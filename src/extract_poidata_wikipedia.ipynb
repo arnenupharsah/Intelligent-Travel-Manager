{
 "cells": [
  {
   "cell_type": "markdown",
   "metadata": {},
   "source": [
    "# Extract Landmarks Data in Melbourne from Wikipedia Interactively"
   ]
  },
  {
   "cell_type": "markdown",
   "metadata": {},
   "source": [
    "<a id=toc>"
   ]
  },
  {
   "cell_type": "markdown",
   "metadata": {},
   "source": [
    "Extract landmarks data:\n",
    "- category, \n",
    "- name, \n",
    "- (latitude, longitude)\n",
    "\n",
    "from Wikipedia page [landmarks in Melbourne](https://en.wikipedia.org/wiki/Template:Melbourne_landmarks) in an interactive way."
   ]
  },
  {
   "cell_type": "code",
   "execution_count": 1,
   "metadata": {},
   "outputs": [],
   "source": [
    "%matplotlib inline\n",
    "\n",
    "import requests, re, os\n",
    "from bs4 import BeautifulSoup\n",
    "from bs4.element import Tag\n",
    "import pandas as pd\n",
    "import numpy as np\n",
    "import matplotlib.pyplot as plt\n",
    "import lxml\n",
    "from fastkml import kml, styles\n",
    "from shapely.geometry import Point"
   ]
  },
  {
   "cell_type": "markdown",
   "metadata": {},
   "source": [
    "URL for the landmarks in the Melbourne city centre."
   ]
  },
  {
   "cell_type": "code",
   "execution_count": 2,
   "metadata": {},
   "outputs": [],
   "source": [
    "#url = 'https://en.wikipedia.org/wiki/Template:Melbourne_landmarks'\n",
    "url = 'https://en.wikipedia.org/wiki/Template:Melbourne_landmarks?action=render' # cleaner HTML\n",
    "data_dir = '../data'\n",
    "fpoi = os.path.join(data_dir, 'poi-Melb-0.csv')"
   ]
  },
  {
   "cell_type": "code",
   "execution_count": 3,
   "metadata": {},
   "outputs": [],
   "source": [
    "response = requests.get(url, timeout=10)"
   ]
  },
  {
   "cell_type": "code",
   "execution_count": 4,
   "metadata": {},
   "outputs": [],
   "source": [
    "html = response.text\n",
    "soup = BeautifulSoup(html, 'html.parser')"
   ]
  },
  {
   "cell_type": "code",
   "execution_count": 5,
   "metadata": {},
   "outputs": [],
   "source": [
    "#print(soup.prettify())"
   ]
  },
  {
   "cell_type": "markdown",
   "metadata": {},
   "source": [
    "### Extract POI coordinates from its Wikipedia page"
   ]
  },
  {
   "cell_type": "markdown",
   "metadata": {},
   "source": [
    "**NOTE** that there could be more than one coordinate pairs exists in a page, e.g. [Yarra River](https://en.wikipedia.org/wiki/Yarra_River)."
   ]
  },
  {
   "cell_type": "code",
   "execution_count": 6,
   "metadata": {},
   "outputs": [],
   "source": [
    "def extract_coord(url):\n",
    "    \"\"\"\n",
    "    Assume a URL of a location with a Wikipedia page\n",
    "    \"\"\"\n",
    "    url1 = url + '?action=render' # cleaner HTML\n",
    "    response = requests.get(url1, timeout=10)\n",
    "    html = response.text\n",
    "    soup = BeautifulSoup(html, 'html.parser')\n",
    "    coords = list(soup.find_all('span', {'class':'geo-dec'}))\n",
    "    if coords is None or len(coords) == 0:\n",
    "        print('No Geo-coordinates found')\n",
    "        return\n",
    "    \n",
    "    idx = 0\n",
    "    if len(coords) > 1:\n",
    "        if len(coords) == 2 and coords[0].string == coords[1].string:\n",
    "            idx = 0\n",
    "        else:\n",
    "            print('WARN: more than one geo-coordinates detected!')\n",
    "            print('please check the actual page', url)\n",
    "            for i, c in enumerate(coords): \n",
    "                  print('%d: %s' % (i, c.string))\n",
    "            ii = input('Input the index of the correct coordinates... ')\n",
    "            idx = int(ii)\n",
    "            assert(0 <= idx < len(coords))\n",
    "    \n",
    "    coord = coords[idx]\n",
    "    children = list(coord.children)\n",
    "    assert(len(children) > 0)\n",
    "    coordstr = children[0]\n",
    "    #print(coordstr)\n",
    "    \n",
    "    ss = re.sub(r'\\s+', ',', coordstr).split(',') # replace blank spaces with ','\n",
    "    assert(len(ss) == 2)\n",
    "    latstr = ss[0].split('°') # e.g. 37.82167°S\n",
    "    lonstr = ss[1].split('°') # e.g. 144.96778°E\n",
    "    \n",
    "    assert(len(latstr) == 2 and len(lonstr) == 2)\n",
    "    lat = float(latstr[0]) if latstr[1] == 'N' else -1 * float(latstr[0])\n",
    "    lon = float(lonstr[0]) if lonstr[1] == 'E' else -1 * float(lonstr[0])\n",
    "    \n",
    "    print(lat, lon)\n",
    "    return (lat, lon, url)"
   ]
  },
  {
   "cell_type": "code",
   "execution_count": 7,
   "metadata": {},
   "outputs": [
    {
     "name": "stdout",
     "output_type": "stream",
     "text": [
      "WARN: more than one geo-coordinates detected!\n",
      "please check the actual page https://en.wikipedia.org/wiki/Yarra_River\n",
      "0: 37.74917°S 146.14056°E\n",
      "1: 37.85194°S 144.90833°E\n",
      "2: 37.85194°S 144.90833°E\n",
      "Input the index of the correct coordinates... 1\n",
      "-37.85194 144.90833\n"
     ]
    },
    {
     "data": {
      "text/plain": [
       "(-37.85194, 144.90833, 'https://en.wikipedia.org/wiki/Yarra_River')"
      ]
     },
     "execution_count": 7,
     "metadata": {},
     "output_type": "execute_result"
    }
   ],
   "source": [
    "extract_coord('https://en.wikipedia.org/wiki/Yarra_River')"
   ]
  },
  {
   "cell_type": "markdown",
   "metadata": {},
   "source": [
    "Extract POI data, e.g. category, name, coordinates, from a HTML string retrieved from Wikipedia."
   ]
  },
  {
   "cell_type": "code",
   "execution_count": 8,
   "metadata": {},
   "outputs": [],
   "source": [
    "def extract_poi(html):\n",
    "    \"\"\"\n",
    "    Assume POI category is a string in <th>\n",
    "    POI name and hyperlink is in <li> contained in an unordered list <ul> \n",
    "    \"\"\"\n",
    "    soup = BeautifulSoup(html, 'html.parser')\n",
    "    th = soup.find('th')\n",
    "    if th is None:\n",
    "        print('NO POI category found')\n",
    "        return\n",
    "    assert(len(th.contents) > 0)\n",
    "    cat = th.contents[0]\n",
    "    print('CAT:', cat)\n",
    "    \n",
    "    ul = soup.find('ul')\n",
    "    if ul is None:\n",
    "        print('NO POI found')\n",
    "        return\n",
    "    \n",
    "    poi_data = [] # (name, cat, lat, lon, url)\n",
    "    \n",
    "    for li in ul.children:\n",
    "        #print(type(li), li)\n",
    "        if isinstance(li, Tag):\n",
    "            addr = ''.join(['https:', li.a['href']])\n",
    "            children = list(li.a.children)\n",
    "            assert(len(children) > 0)            \n",
    "            name = children[0]\n",
    "            print(addr, name)\n",
    "            ret = extract_coord(addr)\n",
    "            if ret is not None:\n",
    "                poi_data.append((name, cat, ret[0], ret[1], ret[2]))\n",
    "    return poi_data"
   ]
  },
  {
   "cell_type": "markdown",
   "metadata": {},
   "source": [
    "Extract POI data from landmarks in Melbourne recorded in [this Wikipedia page](https://en.wikipedia.org/wiki/Template:Melbourne_landmarks)."
   ]
  },
  {
   "cell_type": "code",
   "execution_count": 9,
   "metadata": {},
   "outputs": [],
   "source": [
    "#columns = ['Name', 'Category', 'Latitude', 'Longitude']\n",
    "columns = ['poiName', 'poiTheme', 'poiLat', 'poiLon', 'poiURL']\n",
    "poi_df = pd.DataFrame(columns=columns)"
   ]
  },
  {
   "cell_type": "code",
   "execution_count": 10,
   "metadata": {
    "scrolled": true
   },
   "outputs": [],
   "source": [
    "table = soup.find('table', {'class':'navbox-inner'}) # this class info was found by looking at the raw HTML text"
   ]
  },
  {
   "cell_type": "markdown",
   "metadata": {},
   "source": []
  },
  {
   "cell_type": "code",
   "execution_count": 17,
   "metadata": {
    "scrolled": true
   },
   "outputs": [
    {
     "name": "stdout",
     "output_type": "stream",
     "text": [
      "------------------------------------------------------------------------------------------\n",
      "NODE 0 BEGIN\n",
      "<tbody><tr><th class=\"navbox-title\" colspan=\"2\" scope=\"col\"><div class=\"plainlinks hlist navbar mini\"><ul><li class=\"nv-view\"><a class=\"mw-selflink selflink\"><abbr style=\";;background:none transparent;border:none;-moz-box-shadow:none;-webkit-box-shadow:none;box-shadow:none; padding:0;\" title=\"View this template\">v</abbr></a></li><li class=\"nv-talk\"><a href=\"//en.wikipedia.org/wiki/Template_talk:Melbourne_City_Centre_landmarks\" title=\"Template talk:Melbourne City Centre landmarks\"><abbr style=\";;background:none transparent;border:none;-moz-box-shadow:none;-webkit-box-shadow:none;box-shadow:none; padding:0;\" title=\"Discuss this template\">t</abbr></a></li><li class=\"nv-edit\"><a class=\"external text\" href=\"https://en.wikipedia.org/w/index.php?title=Template:Melbourne_City_Centre_landmarks&amp;action=edit\"><abbr style=\";;background:none transparent;border:none;-moz-box-shadow:none;-webkit-box-shadow:none;box-shadow:none; padding:0;\" title=\"Edit this template\">e</abbr></a></li></ul></div><div id=\"Landmarks_in_the_Melbourne_City_Centre\" style=\"font-size:114%;margin:0 4em\">Landmarks in the <a class=\"mw-redirect\" href=\"//en.wikipedia.org/wiki/Melbourne_City_Centre\" title=\"Melbourne City Centre\">Melbourne City Centre</a></div></th></tr><tr><td class=\"navbox-abovebelow\" colspan=\"2\"><div id=\"Note:_this_includes_landmarks_in_the_Melbourne_City_Centre_and_its_immediate_surrounds,_not_the_Greater_Melbourne_metropolitan_area\">Note: this includes landmarks in the <a class=\"mw-redirect\" href=\"//en.wikipedia.org/wiki/Melbourne_City_Centre\" title=\"Melbourne City Centre\">Melbourne City Centre</a> and its immediate surrounds, not the <a href=\"//en.wikipedia.org/wiki/Melbourne\" title=\"Melbourne\">Greater Melbourne</a> metropolitan area</div></td></tr><tr><th class=\"navbox-group\" scope=\"row\" style=\"width:1%;text-align:right; width:6%;\">Precincts</th><td class=\"navbox-list navbox-odd\" style=\"text-align:left;border-left-width:2px;border-left-style:solid;width:100%;padding:0px;text-align:left;\"><div style=\"padding:0em 0.25em\">\n",
      "<ul><li><a href=\"//en.wikipedia.org/wiki/Melbourne_Arts_Precinct\" title=\"Melbourne Arts Precinct\">Arts</a></li>\n",
      "<li><a href=\"//en.wikipedia.org/wiki/Chinatown,_Melbourne\" title=\"Chinatown, Melbourne\">Chinatown</a></li>\n",
      "<li><a href=\"//en.wikipedia.org/wiki/Docklands,_Victoria\" title=\"Docklands, Victoria\">Docklands</a></li>\n",
      "<li><a href=\"//en.wikipedia.org/wiki/East_End_Theatre_District\" title=\"East End Theatre District\">East End</a></li>\n",
      "<li><a href=\"//en.wikipedia.org/wiki/Spring_Street,_Melbourne\" title=\"Spring Street, Melbourne\">Government</a></li>\n",
      "<li><a href=\"//en.wikipedia.org/wiki/Greek_Precinct,_Melbourne\" title=\"Greek Precinct, Melbourne\">Greek</a></li>\n",
      "<li><a href=\"//en.wikipedia.org/wiki/Little_Italy,_Melbourne\" title=\"Little Italy, Melbourne\">Little Italy</a></li>\n",
      "<li><a href=\"//en.wikipedia.org/wiki/Collins_Street,_Melbourne\" title=\"Collins Street, Melbourne\">Paris End</a></li>\n",
      "<li><a href=\"//en.wikipedia.org/wiki/RMIT_Melbourne_City_campus\" title=\"RMIT Melbourne City campus\">RMIT Quarter</a></li>\n",
      "<li><a href=\"//en.wikipedia.org/wiki/Southbank,_Victoria\" title=\"Southbank, Victoria\">Southbank</a>/<a href=\"//en.wikipedia.org/wiki/South_Wharf,_Victoria\" title=\"South Wharf, Victoria\">Wharf</a></li>\n",
      "<li><a href=\"//en.wikipedia.org/wiki/Melbourne_Sports_and_Entertainment_Precinct\" title=\"Melbourne Sports and Entertainment Precinct\">Sports and Entertainment</a></li>\n",
      "<li><a href=\"//en.wikipedia.org/wiki/University_of_Melbourne\" title=\"University of Melbourne\">University of Melbourne</a></li></ul>\n",
      "</div></td></tr><tr><th class=\"navbox-group\" scope=\"row\" style=\"width:1%;text-align:right; width:6%;\">Entertainment</th><td class=\"navbox-list navbox-even\" style=\"text-align:left;border-left-width:2px;border-left-style:solid;width:100%;padding:0px;text-align:left;\"><div style=\"padding:0em 0.25em\">\n",
      "<ul><li><a href=\"//en.wikipedia.org/wiki/Sea_Life_Melbourne_Aquarium\" title=\"Sea Life Melbourne Aquarium\">Aquarium</a></li>\n",
      "<li><a href=\"//en.wikipedia.org/wiki/Arts_Centre_Melbourne\" title=\"Arts Centre Melbourne\">Arts Centre</a></li>\n",
      "<li><a class=\"mw-redirect\" href=\"//en.wikipedia.org/wiki/Melbourne_Convention_%26_Exhibition_Centre\" title=\"Melbourne Convention &amp; Exhibition Centre\">Convention &amp; Exhibition Centre</a></li>\n",
      "<li><a href=\"//en.wikipedia.org/wiki/Crown_Melbourne\" title=\"Crown Melbourne\">Crown Entertainment Complex</a></li>\n",
      "<li><a href=\"//en.wikipedia.org/wiki/Luna_Park,_Melbourne\" title=\"Luna Park, Melbourne\">Luna Park</a></li>\n",
      "<li><a href=\"//en.wikipedia.org/wiki/East_End_Theatre_District\" title=\"East End Theatre District\">Theatre District</a></li>\n",
      "<li><a href=\"//en.wikipedia.org/wiki/Colonial_Tramcar_Restaurant\" title=\"Colonial Tramcar Restaurant\">Tramcar Restaurant</a></li>\n",
      "<li><a href=\"//en.wikipedia.org/wiki/Melbourne_Visitor_Shuttle\" title=\"Melbourne Visitor Shuttle\">Visitor Shuttle</a></li>\n",
      "<li><a href=\"//en.wikipedia.org/wiki/Melbourne_Zoo\" title=\"Melbourne Zoo\">Zoo</a></li></ul>\n",
      "</div></td></tr><tr><th class=\"navbox-group\" scope=\"row\" style=\"width:1%;text-align:right; width:6%;\">Shopping centres</th><td class=\"navbox-list navbox-odd\" style=\"text-align:left;border-left-width:2px;border-left-style:solid;width:100%;padding:0px;text-align:left;\"><div style=\"padding:0em 0.25em\">\n",
      "<ul><li><a href=\"//en.wikipedia.org/wiki/Block_Arcade,_Melbourne\" title=\"Block Arcade, Melbourne\">Block Arcade</a></li>\n",
      "<li><a href=\"//en.wikipedia.org/wiki/Collins_Place\" title=\"Collins Place\">Collins Place</a></li>\n",
      "<li><a href=\"//en.wikipedia.org/wiki/Direct_Factory_Outlets\" title=\"Direct Factory Outlets\">DFO</a></li>\n",
      "<li><a href=\"//en.wikipedia.org/wiki/Emporium_Melbourne\" title=\"Emporium Melbourne\">Emporium</a></li>\n",
      "<li><a href=\"//en.wikipedia.org/wiki/General_Post_Office,_Melbourne\" title=\"General Post Office, Melbourne\">GPO</a></li>\n",
      "<li><a href=\"//en.wikipedia.org/wiki/Melbourne_Central_Shopping_Centre\" title=\"Melbourne Central Shopping Centre\">Melbourne Central</a></li>\n",
      "<li><a href=\"//en.wikipedia.org/wiki/Myer\" title=\"Myer\">Myer Flagship Store</a></li>\n",
      "<li><a href=\"//en.wikipedia.org/wiki/Queen_Victoria_Market\" title=\"Queen Victoria Market\">Queen Victoria Market</a></li>\n",
      "<li><a href=\"//en.wikipedia.org/wiki/Queen_Victoria_Village\" title=\"Queen Victoria Village\">QV</a></li>\n",
      "<li><a href=\"//en.wikipedia.org/wiki/Royal_Arcade,_Melbourne\" title=\"Royal Arcade, Melbourne\">Royal Arcade</a></li>\n",
      "<li><a href=\"//en.wikipedia.org/wiki/St._Collins_Lane\" title=\"St. Collins Lane\">St. Collins Lane</a></li>\n",
      "<li><a href=\"//en.wikipedia.org/wiki/The_District_Docklands\" title=\"The District Docklands\">The District Docklands</a></li></ul>\n",
      "</div></td></tr><tr><th class=\"navbox-group\" scope=\"row\" style=\"width:1%;text-align:right; width:6%;\">Public  museums</th><td class=\"navbox-list navbox-even\" style=\"text-align:left;border-left-width:2px;border-left-style:solid;width:100%;padding:0px;text-align:left;\"><div style=\"padding:0em 0.25em\">\n",
      "<ul><li><a href=\"//en.wikipedia.org/wiki/Australian_Centre_for_Contemporary_Art\" title=\"Australian Centre for Contemporary Art\">ACCA</a></li>\n",
      "<li><a href=\"//en.wikipedia.org/wiki/Australian_Centre_for_the_Moving_Image\" title=\"Australian Centre for the Moving Image\">ACMI</a></li>\n",
      "<li><a href=\"//en.wikipedia.org/wiki/Chinese_Museum,_Melbourne\" title=\"Chinese Museum, Melbourne\">Chinese</a></li>\n",
      "<li><a href=\"//en.wikipedia.org/wiki/Hellenic_Museum,_Melbourne\" title=\"Hellenic Museum, Melbourne\">Hellenic</a></li>\n",
      "<li><a href=\"//en.wikipedia.org/wiki/Ian_Potter_Museum_of_Art\" title=\"Ian Potter Museum of Art\">Ian Potter</a></li>\n",
      "<li><a href=\"//en.wikipedia.org/wiki/Immigration_Museum,_Melbourne\" title=\"Immigration Museum, Melbourne\">Immigration</a></li>\n",
      "<li><a href=\"//en.wikipedia.org/wiki/Melbourne_Museum\" title=\"Melbourne Museum\">Melbourne</a></li>\n",
      "<li><a href=\"//en.wikipedia.org/wiki/Melbourne_Observatory\" title=\"Melbourne Observatory\">Observatory</a></li>\n",
      "<li><a href=\"//en.wikipedia.org/wiki/Ian_Potter_Centre:_NGV_Australia\" title=\"Ian Potter Centre: NGV Australia\">NGV Australia</a></li>\n",
      "<li><a href=\"//en.wikipedia.org/wiki/National_Gallery_of_Victoria\" title=\"National Gallery of Victoria\">NGV International</a></li>\n",
      "<li><a href=\"//en.wikipedia.org/wiki/Old_Melbourne_Gaol\" title=\"Old Melbourne Gaol\">Old Melbourne Gaol</a></li>\n",
      "<li><a href=\"//en.wikipedia.org/wiki/Old_Treasury_Building,_Melbourne\" title=\"Old Treasury Building, Melbourne\">Old Treasury Building</a></li>\n",
      "<li><a href=\"//en.wikipedia.org/wiki/RMIT_Gallery\" title=\"RMIT Gallery\">RMIT Gallery</a></li></ul>\n",
      "</div></td></tr><tr><th class=\"navbox-group\" scope=\"row\" style=\"width:1%;text-align:right; width:6%;\">Institutions</th><td class=\"navbox-list navbox-odd\" style=\"text-align:left;border-left-width:2px;border-left-style:solid;width:100%;padding:0px;text-align:left;\"><div style=\"padding:0em 0.25em\">\n",
      "<ul><li><a href=\"//en.wikipedia.org/wiki/Government_House,_Melbourne\" title=\"Government House, Melbourne\">Government House</a></li>\n",
      "<li><a href=\"//en.wikipedia.org/wiki/Melbourne_Town_Hall\" title=\"Melbourne Town Hall\">Town Hall</a></li>\n",
      "<li><a href=\"//en.wikipedia.org/wiki/Parliament_House,_Melbourne\" title=\"Parliament House, Melbourne\">Parliament House</a></li>\n",
      "<li><a class=\"mw-redirect\" href=\"//en.wikipedia.org/wiki/State_Library_of_Victoria\" title=\"State Library of Victoria\">State Library</a></li>\n",
      "<li><a href=\"//en.wikipedia.org/wiki/Supreme_Court_of_Victoria_(building)\" title=\"Supreme Court of Victoria (building)\">Supreme Court</a></li>\n",
      "<li><a href=\"//en.wikipedia.org/wiki/Victoria_Barracks,_Melbourne\" title=\"Victoria Barracks, Melbourne\">Victoria Barracks</a></li></ul>\n",
      "</div></td></tr><tr><th class=\"navbox-group\" scope=\"row\" style=\"width:1%;text-align:right; width:6%;\">Notable structures</th><td class=\"navbox-list navbox-even\" style=\"text-align:left;border-left-width:2px;border-left-style:solid;width:100%;padding:0px;text-align:left;\"><div style=\"padding:0em 0.25em\">\n",
      "<ul><li><a href=\"//en.wikipedia.org/wiki/Arts_Centre_Melbourne\" title=\"Arts Centre Melbourne\">Arts Centre</a></li>\n",
      "<li><a href=\"//en.wikipedia.org/wiki/Australia_108\" title=\"Australia 108\">Australia 108</a></li>\n",
      "<li><a href=\"//en.wikipedia.org/wiki/Eureka_Tower\" title=\"Eureka Tower\">Eureka Tower</a></li>\n",
      "<li><a href=\"//en.wikipedia.org/wiki/Federation_Square\" title=\"Federation Square\">Federation Square</a></li>\n",
      "<li><a href=\"//en.wikipedia.org/wiki/Melbourne_Star\" title=\"Melbourne Star\">Melbourne Star</a></li>\n",
      "<li><a href=\"//en.wikipedia.org/wiki/Royal_Exhibition_Building\" title=\"Royal Exhibition Building\">Royal Exhibition Building</a></li>\n",
      "<li><a href=\"//en.wikipedia.org/wiki/Shrine_of_Remembrance\" title=\"Shrine of Remembrance\">Shrine of Remembrance</a></li>\n",
      "<li><a href=\"//en.wikipedia.org/wiki/St_Patrick%27s_Cathedral,_Melbourne\" title=\"St Patrick's Cathedral, Melbourne\">St Patrick's Cathedral</a></li>\n",
      "<li><a href=\"//en.wikipedia.org/wiki/St_Paul%27s_Cathedral,_Melbourne\" title=\"St Paul's Cathedral, Melbourne\">St Paul's Cathedral</a></li></ul>\n",
      "</div></td></tr><tr><th class=\"navbox-group\" scope=\"row\" style=\"width:1%;text-align:right; width:6%;\">Sports venues</th><td class=\"navbox-list navbox-odd\" style=\"text-align:left;border-left-width:2px;border-left-style:solid;width:100%;padding:0px;text-align:left;\"><div style=\"padding:0em 0.25em\">\n",
      "<ul><li><a href=\"//en.wikipedia.org/wiki/Docklands_Stadium\" title=\"Docklands Stadium\">Docklands (Marvel) Stadium</a></li>\n",
      "<li><a href=\"//en.wikipedia.org/wiki/Albert_Park_Circuit\" title=\"Albert Park Circuit\">Grand Prix Circuit</a></li>\n",
      "<li><a href=\"//en.wikipedia.org/wiki/Icehouse_(arena)\" title=\"Icehouse (arena)\">Icehouse</a></li>\n",
      "<li><a href=\"//en.wikipedia.org/wiki/Lakeside_Stadium\" title=\"Lakeside Stadium\">Lakeside Stadium</a></li>\n",
      "<li><a href=\"//en.wikipedia.org/wiki/Melbourne_Cricket_Ground\" title=\"Melbourne Cricket Ground\">MCG</a></li>\n",
      "<li><a href=\"//en.wikipedia.org/wiki/Melbourne_Park\" title=\"Melbourne Park\">Melbourne Park</a> <small> (<a href=\"//en.wikipedia.org/wiki/Margaret_Court_Arena\" title=\"Margaret Court Arena\">Margaret Court Arena</a> - <a href=\"//en.wikipedia.org/wiki/Melbourne_Arena\" title=\"Melbourne Arena\">Melbourne Arena</a> - <a href=\"//en.wikipedia.org/wiki/Rod_Laver_Arena\" title=\"Rod Laver Arena\">Rod Laver Arena</a>)</small></li>\n",
      "<li><a href=\"//en.wikipedia.org/wiki/Melbourne_Rectangular_Stadium\" title=\"Melbourne Rectangular Stadium\">Rectangular Stadium (AAMI Park)</a></li>\n",
      "<li><a class=\"mw-redirect\" href=\"//en.wikipedia.org/wiki/Melbourne_Sports_%26_Aquatic_Centre\" title=\"Melbourne Sports &amp; Aquatic Centre\">Sports &amp; Aquatic Centre</a></li>\n",
      "<li><a href=\"//en.wikipedia.org/wiki/Melbourne_Sports_and_Entertainment_Centre\" title=\"Melbourne Sports and Entertainment Centre\">Sports and Entertainment (Holden) Centre</a></li>\n",
      "<li><a href=\"//en.wikipedia.org/wiki/Royal_Park_Golf_Club\" title=\"Royal Park Golf Club\">Royal Park Golf Club</a></li>\n",
      "<li><a href=\"//en.wikipedia.org/wiki/State_Netball_and_Hockey_Centre\" title=\"State Netball and Hockey Centre\">State Netball and Hockey Centre</a></li></ul>\n",
      "</div></td></tr><tr><th class=\"navbox-group\" scope=\"row\" style=\"width:1%;text-align:right; width:6%;\">Parks and gardens</th><td class=\"navbox-list navbox-even\" style=\"text-align:left;border-left-width:2px;border-left-style:solid;width:100%;padding:0px;text-align:left;\"><div style=\"padding:0em 0.25em\">\n",
      "<ul><li><a href=\"//en.wikipedia.org/wiki/Albert_Park_and_Lake\" title=\"Albert Park and Lake\">Albert Park</a></li>\n",
      "<li><a href=\"//en.wikipedia.org/wiki/Alexandra_Gardens,_Melbourne\" title=\"Alexandra Gardens, Melbourne\">Alexandra Gardens</a></li>\n",
      "<li><a href=\"//en.wikipedia.org/wiki/Birrarung_Marr,_Melbourne\" title=\"Birrarung Marr, Melbourne\">Birrarung Marr</a></li>\n",
      "<li><a href=\"//en.wikipedia.org/wiki/Carlton_Gardens\" title=\"Carlton Gardens\">Carlton Gardens</a></li>\n",
      "<li><a href=\"//en.wikipedia.org/wiki/Fitzroy_Gardens\" title=\"Fitzroy Gardens\">Fitzroy Gardens</a></li>\n",
      "<li><a href=\"//en.wikipedia.org/wiki/Flagstaff_Gardens\" title=\"Flagstaff Gardens\">Flagstaff Gardens</a></li>\n",
      "<li><a href=\"//en.wikipedia.org/wiki/Kings_Domain\" title=\"Kings Domain\">Kings Domain</a></li>\n",
      "<li><a href=\"//en.wikipedia.org/wiki/Queen_Victoria_Gardens\" title=\"Queen Victoria Gardens\">Queen Victoria Gardens</a></li>\n",
      "<li><a href=\"//en.wikipedia.org/wiki/Royal_Botanic_Gardens_Victoria\" title=\"Royal Botanic Gardens Victoria\">Royal Botanic Gardens</a></li>\n",
      "<li><a href=\"//en.wikipedia.org/wiki/Royal_Park,_Melbourne\" title=\"Royal Park, Melbourne\">Royal Park</a></li>\n",
      "<li><a href=\"//en.wikipedia.org/wiki/Treasury_Gardens\" title=\"Treasury Gardens\">Treasury Gardens</a></li>\n",
      "<li><a href=\"//en.wikipedia.org/wiki/Yarra_Park\" title=\"Yarra Park\">Yarra Park</a></li></ul>\n",
      "</div></td></tr><tr><th class=\"navbox-group\" scope=\"row\" style=\"width:1%;text-align:right; width:6%;\">Transport</th><td class=\"navbox-list navbox-odd\" style=\"text-align:left;border-left-width:2px;border-left-style:solid;width:100%;padding:0px;text-align:left;\"><div style=\"padding:0em 0.25em\">\n",
      "<ul><li><a href=\"//en.wikipedia.org/wiki/Bolte_Bridge\" title=\"Bolte Bridge\">Bolte Bridge</a></li>\n",
      "<li><a href=\"//en.wikipedia.org/wiki/Capital_City_Trail\" title=\"Capital City Trail\">Capital City Trail</a></li>\n",
      "<li><a href=\"//en.wikipedia.org/wiki/City_Circle_tram\" title=\"City Circle tram\">City Circle Tram</a></li>\n",
      "<li><a href=\"//en.wikipedia.org/wiki/CityLink\" title=\"CityLink\">CityLink</a></li>\n",
      "<li><a href=\"//en.wikipedia.org/wiki/City_Loop\" title=\"City Loop\">City Loop</a></li>\n",
      "<li><a href=\"//en.wikipedia.org/wiki/Flinders_Street_railway_station\" title=\"Flinders Street railway station\">Flinders Street station</a></li>\n",
      "<li><a href=\"//en.wikipedia.org/wiki/Melbourne_Central_railway_station\" title=\"Melbourne Central railway station\">Melbourne Central station</a></li>\n",
      "<li><a href=\"//en.wikipedia.org/wiki/Southern_Cross_railway_station\" title=\"Southern Cross railway station\">Southern Cross station</a></li>\n",
      "<li><a href=\"//en.wikipedia.org/wiki/Trams_in_Melbourne\" title=\"Trams in Melbourne\">Trams</a></li>\n",
      "<li><a href=\"//en.wikipedia.org/wiki/West_Gate_Bridge\" title=\"West Gate Bridge\">West Gate Bridge</a></li>\n",
      "<li><a href=\"//en.wikipedia.org/wiki/Yarra_River\" title=\"Yarra River\">Yarra River</a></li></ul>\n",
      "</div></td></tr></tbody>\n",
      "NODE 0 END\n",
      "------------------------------------------------------------------------------------------\n"
     ]
    },
    {
     "name": "stdout",
     "output_type": "stream",
     "text": [
      "Press [Y] or [y] to extract POI, press any other key to ignore  \n",
      "IGNORED.\n",
      "\n",
      "\n",
      "\n"
     ]
    }
   ],
   "source": [
    "cnt = 0\n",
    "hline = '-'*90\n",
    "for c in table.children:\n",
    "    print(hline)\n",
    "    print('NODE %d BEGIN' % cnt)\n",
    "    print(c)\n",
    "    print('NODE %d END' % cnt)\n",
    "    print(hline)\n",
    "    k = input('Press [Y] or [y] to extract POI, press any other key to ignore ')\n",
    "    if k == 'Y' or k == 'y':\n",
    "        print('Extracting POI...')\n",
    "        poi_data = extract_poi(str(c))\n",
    "        for t in poi_data: poi_df.loc[poi_df.shape[0]] = [t[i] for i in range(len(t))]\n",
    "    else:\n",
    "        print('IGNORED.')\n",
    "    print('\\n\\n')\n",
    "    \n",
    "    cnt += 1"
   ]
  },
  {
   "cell_type": "markdown",
   "metadata": {},
   "source": [
    "Latitude/Longitude statistics."
   ]
  },
  {
   "cell_type": "code",
   "execution_count": 12,
   "metadata": {},
   "outputs": [
    {
     "data": {
      "text/html": [
       "<div>\n",
       "<style scoped>\n",
       "    .dataframe tbody tr th:only-of-type {\n",
       "        vertical-align: middle;\n",
       "    }\n",
       "\n",
       "    .dataframe tbody tr th {\n",
       "        vertical-align: top;\n",
       "    }\n",
       "\n",
       "    .dataframe thead th {\n",
       "        text-align: right;\n",
       "    }\n",
       "</style>\n",
       "<table border=\"1\" class=\"dataframe\">\n",
       "  <thead>\n",
       "    <tr style=\"text-align: right;\">\n",
       "      <th></th>\n",
       "      <th>poiName</th>\n",
       "      <th>poiTheme</th>\n",
       "      <th>poiLat</th>\n",
       "      <th>poiLon</th>\n",
       "      <th>poiURL</th>\n",
       "    </tr>\n",
       "  </thead>\n",
       "  <tbody>\n",
       "  </tbody>\n",
       "</table>\n",
       "</div>"
      ],
      "text/plain": [
       "Empty DataFrame\n",
       "Columns: [poiName, poiTheme, poiLat, poiLon, poiURL]\n",
       "Index: []"
      ]
     },
     "execution_count": 12,
     "metadata": {},
     "output_type": "execute_result"
    }
   ],
   "source": [
    "poi_df.head()"
   ]
  },
  {
   "cell_type": "code",
   "execution_count": 13,
   "metadata": {},
   "outputs": [
    {
     "name": "stdout",
     "output_type": "stream",
     "text": [
      "#POIs: 0\n"
     ]
    }
   ],
   "source": [
    "print('#POIs:', poi_df.shape[0])"
   ]
  },
  {
   "cell_type": "code",
   "execution_count": 14,
   "metadata": {},
   "outputs": [
    {
     "name": "stdout",
     "output_type": "stream",
     "text": [
      "Latitude Range: nan\n"
     ]
    },
    {
     "data": {
      "text/plain": [
       "count     0\n",
       "unique    0\n",
       "Name: poiLat, dtype: int64"
      ]
     },
     "execution_count": 14,
     "metadata": {},
     "output_type": "execute_result"
    }
   ],
   "source": [
    "print('Latitude Range:', poi_df['poiLat'].max() - poi_df['poiLat'].min())\n",
    "poi_df['poiLat'].describe()"
   ]
  },
  {
   "cell_type": "code",
   "execution_count": 15,
   "metadata": {},
   "outputs": [
    {
     "name": "stdout",
     "output_type": "stream",
     "text": [
      "Longitude Range: nan\n"
     ]
    },
    {
     "data": {
      "text/plain": [
       "count     0\n",
       "unique    0\n",
       "Name: poiLon, dtype: int64"
      ]
     },
     "execution_count": 15,
     "metadata": {},
     "output_type": "execute_result"
    }
   ],
   "source": [
    "print('Longitude Range:', poi_df['poiLon'].max() - poi_df['poiLon'].min())\n",
    "poi_df['poiLon'].describe()"
   ]
  },
  {
   "cell_type": "markdown",
   "metadata": {},
   "source": [
    "Scatter plot."
   ]
  },
  {
   "cell_type": "code",
   "execution_count": null,
   "metadata": {},
   "outputs": [],
   "source": [
    "plt.figure(figsize=[10, 10])\n",
    "plt.scatter(poi_df['poiLat'], poi_df['poiLon'])"
   ]
  },
  {
   "cell_type": "markdown",
   "metadata": {},
   "source": []
  },
  {
   "cell_type": "markdown",
   "metadata": {},
   "source": [
    "### Filtering out the outliers"
   ]
  },
  {
   "cell_type": "code",
   "execution_count": null,
   "metadata": {},
   "outputs": [],
   "source": [
    "lat_range = [-39, -36]\n",
    "lon_range = [143, 147]"
   ]
  },
  {
   "cell_type": "code",
   "execution_count": null,
   "metadata": {},
   "outputs": [],
   "source": [
    "poi_df = poi_df[poi_df['poiLat'] > min(lat_range)]\n",
    "poi_df = poi_df[poi_df['poiLat'] < max(lat_range)]\n",
    "poi_df = poi_df[poi_df['poiLon'] > min(lon_range)]\n",
    "poi_df = poi_df[poi_df['poiLon'] < max(lon_range)]"
   ]
  },
  {
   "cell_type": "markdown",
   "metadata": {},
   "source": [
    "Latitude/Longitude statistics."
   ]
  },
  {
   "cell_type": "code",
   "execution_count": null,
   "metadata": {},
   "outputs": [],
   "source": [
    "print('#POIs:', poi_df.shape[0])"
   ]
  },
  {
   "cell_type": "code",
   "execution_count": null,
   "metadata": {},
   "outputs": [],
   "source": [
    "print('Latitude Range:', poi_df['poiLat'].max() - poi_df['poiLat'].min())\n",
    "poi_df['poiLat'].describe()"
   ]
  },
  {
   "cell_type": "code",
   "execution_count": null,
   "metadata": {},
   "outputs": [],
   "source": [
    "print('Longitude Range:', poi_df['poiLon'].max() - poi_df['poiLon'].min())\n",
    "poi_df['poiLon'].describe()"
   ]
  },
  {
   "cell_type": "markdown",
   "metadata": {},
   "source": [
    "Scatter plot."
   ]
  },
  {
   "cell_type": "code",
   "execution_count": null,
   "metadata": {},
   "outputs": [],
   "source": [
    "plt.figure(figsize=[10, 10])\n",
    "plt.scatter(poi_df['poiLat'], poi_df['poiLon'])"
   ]
  },
  {
   "cell_type": "markdown",
   "metadata": {},
   "source": [
    "### Filtering POIs with the same wikipage and coordinates but associated with several names and categories"
   ]
  },
  {
   "cell_type": "code",
   "execution_count": null,
   "metadata": {},
   "outputs": [],
   "source": [
    "print('#POIs:', poi_df.shape[0])\n",
    "print('#URLs:', poi_df['poiURL'].unique().shape[0])"
   ]
  },
  {
   "cell_type": "code",
   "execution_count": null,
   "metadata": {},
   "outputs": [],
   "source": [
    "duplicated = poi_df['poiURL'].duplicated()\n",
    "duplicated[duplicated == True]"
   ]
  },
  {
   "cell_type": "code",
   "execution_count": null,
   "metadata": {},
   "outputs": [],
   "source": [
    "print(poi_df.loc[15, 'poiURL'])\n",
    "poi_df[poi_df['poiURL'] == poi_df.loc[15, 'poiURL']]"
   ]
  },
  {
   "cell_type": "markdown",
   "metadata": {},
   "source": [
    "This is a place located at Melbourne CBD, let's choose the second item with category 'Shopping'."
   ]
  },
  {
   "cell_type": "code",
   "execution_count": null,
   "metadata": {},
   "outputs": [],
   "source": [
    "poi_df.drop(4, axis=0, inplace=True)"
   ]
  },
  {
   "cell_type": "code",
   "execution_count": null,
   "metadata": {},
   "outputs": [],
   "source": [
    "poi_df.head()"
   ]
  },
  {
   "cell_type": "code",
   "execution_count": null,
   "metadata": {},
   "outputs": [],
   "source": [
    "print(poi_df.loc[37, 'poiURL'])\n",
    "poi_df[poi_df['poiURL'] == poi_df.loc[37, 'poiURL']]"
   ]
  },
  {
   "cell_type": "markdown",
   "metadata": {},
   "source": [
    "For a Post Office, Let's choose the second item with category 'Institutions'."
   ]
  },
  {
   "cell_type": "code",
   "execution_count": null,
   "metadata": {},
   "outputs": [],
   "source": [
    "poi_df.drop(19, axis=0, inplace=True)"
   ]
  },
  {
   "cell_type": "code",
   "execution_count": null,
   "metadata": {
    "scrolled": true
   },
   "outputs": [],
   "source": [
    "poi_df.head(20)"
   ]
  },
  {
   "cell_type": "markdown",
   "metadata": {},
   "source": [
    "### Check distance between POIs"
   ]
  },
  {
   "cell_type": "code",
   "execution_count": null,
   "metadata": {},
   "outputs": [],
   "source": [
    "def calc_dist_vec(longitudes1, latitudes1, longitudes2, latitudes2):\n",
    "    \"\"\"Calculate the distance (unit: km) between two places on earth, vectorised\"\"\"\n",
    "    # convert degrees to radians\n",
    "    lng1 = np.radians(longitudes1)\n",
    "    lat1 = np.radians(latitudes1)\n",
    "    lng2 = np.radians(longitudes2)\n",
    "    lat2 = np.radians(latitudes2)\n",
    "    radius = 6371.0088 # mean earth radius, en.wikipedia.org/wiki/Earth_radius#Mean_radius\n",
    "\n",
    "    # The haversine formula, en.wikipedia.org/wiki/Great-circle_distance\n",
    "    dlng = np.fabs(lng1 - lng2)\n",
    "    dlat = np.fabs(lat1 - lat2)\n",
    "    dist =  2 * radius * np.arcsin( np.sqrt( \n",
    "                (np.sin(0.5*dlat))**2 + np.cos(lat1) * np.cos(lat2) * (np.sin(0.5*dlng))**2 ))\n",
    "    return dist"
   ]
  },
  {
   "cell_type": "code",
   "execution_count": null,
   "metadata": {},
   "outputs": [],
   "source": [
    "poi_dist_df = pd.DataFrame(data=np.zeros((poi_df.shape[0], poi_df.shape[0]), dtype=np.float), \\\n",
    "                           index=poi_df.index, columns=poi_df.index)\n",
    "for ix in poi_df.index:\n",
    "    dists = calc_dist_vec(poi_df.loc[ix, 'poiLon'], poi_df.loc[ix, 'poiLat'], poi_df['poiLon'], poi_df['poiLat'])\n",
    "    poi_dist_df.loc[ix] = dists"
   ]
  },
  {
   "cell_type": "markdown",
   "metadata": {},
   "source": [
    "POI pairs that are less than 50 metres."
   ]
  },
  {
   "cell_type": "code",
   "execution_count": null,
   "metadata": {},
   "outputs": [],
   "source": [
    "check_ix = []\n",
    "for i in range(poi_df.index.shape[0]):\n",
    "    for j in range(i+1, poi_df.index.shape[0]):\n",
    "        if poi_dist_df.iloc[i, j] < 0.05:  # less 50m\n",
    "            check_ix = check_ix + [poi_df.index[i], poi_df.index[j]]\n",
    "            print(poi_df.index[i], poi_df.index[j])"
   ]
  },
  {
   "cell_type": "code",
   "execution_count": null,
   "metadata": {},
   "outputs": [],
   "source": [
    "poi_df.loc[check_ix]"
   ]
  },
  {
   "cell_type": "code",
   "execution_count": null,
   "metadata": {},
   "outputs": [],
   "source": [
    "print(poi_df.loc[33, 'poiURL'])\n",
    "print(poi_df.loc[35, 'poiURL'])\n",
    "print(poi_df.loc[76, 'poiURL'])"
   ]
  },
  {
   "cell_type": "code",
   "execution_count": null,
   "metadata": {},
   "outputs": [],
   "source": [
    "poi_df.drop(33, axis=0, inplace=True)\n",
    "poi_df.drop(35, axis=0, inplace=True)"
   ]
  },
  {
   "cell_type": "code",
   "execution_count": null,
   "metadata": {
    "scrolled": true
   },
   "outputs": [],
   "source": [
    "poi_df.head(35)"
   ]
  },
  {
   "cell_type": "markdown",
   "metadata": {},
   "source": [
    "### Save POI data to file"
   ]
  },
  {
   "cell_type": "code",
   "execution_count": null,
   "metadata": {
    "scrolled": true
   },
   "outputs": [],
   "source": [
    "#poi_ = poi_df[['poiTheme', 'poiLon', 'poiLat']].copy()\n",
    "poi_ = poi_df.copy()\n",
    "poi_.reset_index(inplace=True)\n",
    "poi_.drop('index', axis=1, inplace=True)\n",
    "poi_.index.name = 'poiID'\n",
    "poi_"
   ]
  },
  {
   "cell_type": "code",
   "execution_count": null,
   "metadata": {},
   "outputs": [],
   "source": [
    "poi_.to_csv(fpoi, index=True)"
   ]
  },
  {
   "cell_type": "code",
   "execution_count": null,
   "metadata": {},
   "outputs": [],
   "source": [
    "#poi_df.to_csv(fpoi, index=False)"
   ]
  },
  {
   "cell_type": "markdown",
   "metadata": {},
   "source": [
    "### Visualise POIs on map"
   ]
  },
  {
   "cell_type": "markdown",
   "metadata": {},
   "source": [
    "This is a [shared Google map](https://drive.google.com/open?id=1ywC8Wm1QAPa5x89bMk-CcAJKPWE&usp=sharing)."
   ]
  },
  {
   "cell_type": "code",
   "execution_count": null,
   "metadata": {},
   "outputs": [],
   "source": [
    "def generate_kml(fname, poi_df):\n",
    "    k = kml.KML()\n",
    "    ns = '{http://www.opengis.net/kml/2.2}'\n",
    "    styid = 'style1'\n",
    "    # colors in KML: aabbggrr, aa=00 is fully transparent\n",
    "    sty = styles.Style(id=styid, styles=[styles.LineStyle(color='9f0000ff', width=2)]) # transparent red\n",
    "    doc = kml.Document(ns, '1', 'POIs', 'POIs visualization', styles=[sty])\n",
    "    k.append(doc)\n",
    "    \n",
    "    # Placemark for POIs\n",
    "    for ix in poi_df.index:\n",
    "        name = poi_df.loc[ix, 'poiName']\n",
    "        cat  = poi_df.loc[ix, 'poiTheme']\n",
    "        lat  = poi_df.loc[ix, 'poiLat']\n",
    "        lon  = poi_df.loc[ix, 'poiLon']\n",
    "        desc = ''.join(['POI Name: ', name, '<br/>Category: ', cat, '<br/>Coordinates: (%f, %f)' % (lat, lon)])\n",
    "        pm = kml.Placemark(ns, str(ix), name, desc, styleUrl='#' + styid)\n",
    "        pm.geometry = Point(lon, lat)\n",
    "        doc.append(pm)\n",
    "        \n",
    "    # save to file\n",
    "    kmlstr = k.to_string(prettyprint=True)\n",
    "    with open(fname, 'w') as f:\n",
    "        f.write('<?xml version=\"1.0\" encoding=\"UTF-8\"?>\\n')\n",
    "        f.write(kmlstr)"
   ]
  },
  {
   "cell_type": "code",
   "execution_count": 1,
   "metadata": {},
   "outputs": [
    {
     "ename": "NameError",
     "evalue": "name 'generate_kml' is not defined",
     "output_type": "error",
     "traceback": [
      "\u001b[1;31m---------------------------------------------------------------------------\u001b[0m",
      "\u001b[1;31mNameError\u001b[0m                                 Traceback (most recent call last)",
      "\u001b[1;32m<ipython-input-1-4dd142616f1a>\u001b[0m in \u001b[0;36m<module>\u001b[1;34m\u001b[0m\n\u001b[1;32m----> 1\u001b[1;33m \u001b[0mgenerate_kml\u001b[0m\u001b[1;33m(\u001b[0m\u001b[1;34m'./poiAulick.kml'\u001b[0m\u001b[1;33m,\u001b[0m \u001b[0mpoi_df\u001b[0m\u001b[1;33m)\u001b[0m\u001b[1;33m\u001b[0m\u001b[1;33m\u001b[0m\u001b[0m\n\u001b[0m",
      "\u001b[1;31mNameError\u001b[0m: name 'generate_kml' is not defined"
     ]
    }
   ],
   "source": [
    "generate_kml('./poiAulick.kml', poi_df)"
   ]
  },
  {
   "cell_type": "code",
   "execution_count": null,
   "metadata": {},
   "outputs": [],
   "source": []
  }
 ],
 "metadata": {
  "kernelspec": {
   "display_name": "Python 3",
   "language": "python",
   "name": "python3"
  },
  "language_info": {
   "codemirror_mode": {
    "name": "ipython",
    "version": 3
   },
   "file_extension": ".py",
   "mimetype": "text/x-python",
   "name": "python",
   "nbconvert_exporter": "python",
   "pygments_lexer": "ipython3",
   "version": "3.7.3"
  }
 },
 "nbformat": 4,
 "nbformat_minor": 1
}
