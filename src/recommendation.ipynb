{
 "cells": [
  {
   "cell_type": "code",
   "execution_count": 1,
   "metadata": {},
   "outputs": [],
   "source": [
    "% matplotlib inline\n",
    "import os, sys, time, pickle, tempfile\n",
    "import math, random, itertools\n",
    "import pandas as pd\n",
    "import numpy as np\n",
    "from joblib import Parallel, delayed\n",
    "from scipy.misc import logsumexp\n",
    "import matplotlib as mpl\n",
    "import matplotlib.pyplot as plt\n",
    "import seaborn as sns\n",
    "from sklearn.cluster import KMeans\n",
    "from scipy.linalg import kron\n",
    "from fastkml import kml, styles\n",
    "from shapely.geometry import Point, LineString\n",
    "import pulp"
   ]
  },
  {
   "cell_type": "code",
   "execution_count": 2,
   "metadata": {
    "collapsed": true
   },
   "outputs": [],
   "source": [
    "RANK_C = 10  # regularisation parameter for rankSVM\n",
    "BIN_CLUSTER = 5  # Number of bins/clusters for discritizing POI features\n",
    "ranksvm_dir = '$HOME/work/ranksvm'\n",
    "data_dir = '../data'\n",
    "fpoi = os.path.join(data_dir, 'poi-Melb-all.csv')\n",
    "fvisits = os.path.join(data_dir, 'userVisits-Melb.csv')\n",
    "fphotos = os.path.join(data_dir, 'Melb_photos_bigbox.csv')"
   ]
  },
  {
   "cell_type": "code",
   "execution_count": 4,
   "metadata": {},
   "outputs": [],
   "source": [
    "# 1. Load Data\n",
    "\n",
    "#Load POI Data\n",
    "\n",
    "poi_all = pd.read_csv(fpoi)\n",
    "poi_all.set_index('poiID', inplace=True)\n",
    "#poi_all.head()"
   ]
  },
  {
   "cell_type": "code",
   "execution_count": 5,
   "metadata": {},
   "outputs": [
    {
     "data": {
      "text/html": [
       "<div>\n",
       "<table border=\"1\" class=\"dataframe\">\n",
       "  <thead>\n",
       "    <tr style=\"text-align: right;\">\n",
       "      <th></th>\n",
       "      <th>Name</th>\n",
       "      <th>Category</th>\n",
       "      <th>Latitude</th>\n",
       "      <th>Longitude</th>\n",
       "    </tr>\n",
       "    <tr>\n",
       "      <th>poiID</th>\n",
       "      <th></th>\n",
       "      <th></th>\n",
       "      <th></th>\n",
       "      <th></th>\n",
       "    </tr>\n",
       "  </thead>\n",
       "  <tbody>\n",
       "    <tr>\n",
       "      <th>0</th>\n",
       "      <td>Arts Precinct</td>\n",
       "      <td>City precincts</td>\n",
       "      <td>-37.82167</td>\n",
       "      <td>144.96778</td>\n",
       "    </tr>\n",
       "    <tr>\n",
       "      <th>1</th>\n",
       "      <td>Docklands</td>\n",
       "      <td>City precincts</td>\n",
       "      <td>-37.81700</td>\n",
       "      <td>144.94600</td>\n",
       "    </tr>\n",
       "    <tr>\n",
       "      <th>2</th>\n",
       "      <td>Government Precinct</td>\n",
       "      <td>City precincts</td>\n",
       "      <td>-37.81190</td>\n",
       "      <td>144.97300</td>\n",
       "    </tr>\n",
       "    <tr>\n",
       "      <th>3</th>\n",
       "      <td>Little Italy</td>\n",
       "      <td>City precincts</td>\n",
       "      <td>-37.79972</td>\n",
       "      <td>144.96694</td>\n",
       "    </tr>\n",
       "    <tr>\n",
       "      <th>4</th>\n",
       "      <td>RMIT City</td>\n",
       "      <td>City precincts</td>\n",
       "      <td>-37.80778</td>\n",
       "      <td>144.96333</td>\n",
       "    </tr>\n",
       "  </tbody>\n",
       "</table>\n",
       "</div>"
      ],
      "text/plain": [
       "                      Name        Category  Latitude  Longitude\n",
       "poiID                                                          \n",
       "0            Arts Precinct  City precincts -37.82167  144.96778\n",
       "1                Docklands  City precincts -37.81700  144.94600\n",
       "2      Government Precinct  City precincts -37.81190  144.97300\n",
       "3             Little Italy  City precincts -37.79972  144.96694\n",
       "4                RMIT City  City precincts -37.80778  144.96333"
      ]
     },
     "execution_count": 5,
     "metadata": {},
     "output_type": "execute_result"
    }
   ],
   "source": [
    "poi_df = poi_all.copy()\n",
    "poi_df.drop('poiURL', axis=1, inplace=True)\n",
    "poi_df.rename(columns={'poiName':'Name', 'poiTheme':'Category', 'poiLat':'Latitude', 'poiLon':'Longitude'}, \\\n",
    "              inplace=True)\n",
    "poi_df.head()"
   ]
  },
  {
   "cell_type": "code",
   "execution_count": 6,
   "metadata": {},
   "outputs": [],
   "source": [
    "#Load Trajectory Data\n",
    "\n",
    "visits = pd.read_csv(fvisits, sep=';')\n",
    "#visits.head()"
   ]
  },
  {
   "cell_type": "code",
   "execution_count": 7,
   "metadata": {},
   "outputs": [
    {
     "data": {
      "text/html": [
       "<div>\n",
       "<table border=\"1\" class=\"dataframe\">\n",
       "  <thead>\n",
       "    <tr style=\"text-align: right;\">\n",
       "      <th></th>\n",
       "      <th>photoID</th>\n",
       "      <th>userID</th>\n",
       "      <th>dateTaken</th>\n",
       "      <th>poiID</th>\n",
       "      <th>trajID</th>\n",
       "    </tr>\n",
       "  </thead>\n",
       "  <tbody>\n",
       "    <tr>\n",
       "      <th>0</th>\n",
       "      <td>3233170275</td>\n",
       "      <td>34823318@N06</td>\n",
       "      <td>949323600</td>\n",
       "      <td>30</td>\n",
       "      <td>1370</td>\n",
       "    </tr>\n",
       "    <tr>\n",
       "      <th>1</th>\n",
       "      <td>2104214833</td>\n",
       "      <td>49503207397@N01</td>\n",
       "      <td>1006801914</td>\n",
       "      <td>40</td>\n",
       "      <td>2340</td>\n",
       "    </tr>\n",
       "    <tr>\n",
       "      <th>2</th>\n",
       "      <td>2104993710</td>\n",
       "      <td>49503207397@N01</td>\n",
       "      <td>1006803152</td>\n",
       "      <td>71</td>\n",
       "      <td>2340</td>\n",
       "    </tr>\n",
       "    <tr>\n",
       "      <th>3</th>\n",
       "      <td>2104215119</td>\n",
       "      <td>49503207397@N01</td>\n",
       "      <td>1006803177</td>\n",
       "      <td>71</td>\n",
       "      <td>2340</td>\n",
       "    </tr>\n",
       "    <tr>\n",
       "      <th>4</th>\n",
       "      <td>2104994064</td>\n",
       "      <td>49503207397@N01</td>\n",
       "      <td>1006803611</td>\n",
       "      <td>71</td>\n",
       "      <td>2340</td>\n",
       "    </tr>\n",
       "  </tbody>\n",
       "</table>\n",
       "</div>"
      ],
      "text/plain": [
       "      photoID           userID   dateTaken  poiID  trajID\n",
       "0  3233170275     34823318@N06   949323600     30    1370\n",
       "1  2104214833  49503207397@N01  1006801914     40    2340\n",
       "2  2104993710  49503207397@N01  1006803152     71    2340\n",
       "3  2104215119  49503207397@N01  1006803177     71    2340\n",
       "4  2104994064  49503207397@N01  1006803611     71    2340"
      ]
     },
     "execution_count": 7,
     "metadata": {},
     "output_type": "execute_result"
    }
   ],
   "source": [
    "visits.drop(['poiTheme', 'poiFreq'], axis=1, inplace=True)\n",
    "visits.rename(columns={'seqID':'trajID'}, inplace=True)\n",
    "visits.head()"
   ]
  },
  {
   "cell_type": "code",
   "execution_count": 8,
   "metadata": {},
   "outputs": [
    {
     "data": {
      "text/html": [
       "<div>\n",
       "<table border=\"1\" class=\"dataframe\">\n",
       "  <thead>\n",
       "    <tr style=\"text-align: right;\">\n",
       "      <th></th>\n",
       "      <th>#photos</th>\n",
       "    </tr>\n",
       "    <tr>\n",
       "      <th>poiID</th>\n",
       "      <th></th>\n",
       "    </tr>\n",
       "  </thead>\n",
       "  <tbody>\n",
       "    <tr>\n",
       "      <th>0</th>\n",
       "      <td>102</td>\n",
       "    </tr>\n",
       "    <tr>\n",
       "      <th>1</th>\n",
       "      <td>139</td>\n",
       "    </tr>\n",
       "    <tr>\n",
       "      <th>2</th>\n",
       "      <td>304</td>\n",
       "    </tr>\n",
       "    <tr>\n",
       "      <th>3</th>\n",
       "      <td>138</td>\n",
       "    </tr>\n",
       "    <tr>\n",
       "      <th>4</th>\n",
       "      <td>349</td>\n",
       "    </tr>\n",
       "  </tbody>\n",
       "</table>\n",
       "</div>"
      ],
      "text/plain": [
       "       #photos\n",
       "poiID         \n",
       "0          102\n",
       "1          139\n",
       "2          304\n",
       "3          138\n",
       "4          349"
      ]
     },
     "execution_count": 8,
     "metadata": {},
     "output_type": "execute_result"
    }
   ],
   "source": [
    "# 2. Compute POI Statistics DataFrame\n",
    "\n",
    "#Compute POI visit statistics: \n",
    "\n",
    "#the number of photos associated with each POI:\n",
    "poi_photo = visits[['photoID', 'poiID']].copy().groupby('poiID').agg(np.size)\n",
    "poi_photo.rename(columns={'photoID':'#photos'}, inplace=True)\n",
    "poi_photo.head()"
   ]
  },
  {
   "cell_type": "code",
   "execution_count": 9,
   "metadata": {},
   "outputs": [
    {
     "data": {
      "text/html": [
       "<div>\n",
       "<table border=\"1\" class=\"dataframe\">\n",
       "  <thead>\n",
       "    <tr style=\"text-align: right;\">\n",
       "      <th></th>\n",
       "      <th>trajID</th>\n",
       "      <th>poiID</th>\n",
       "      <th>arrivalTime</th>\n",
       "      <th>departureTime</th>\n",
       "      <th>poiDuration</th>\n",
       "    </tr>\n",
       "  </thead>\n",
       "  <tbody>\n",
       "    <tr>\n",
       "      <th>0</th>\n",
       "      <td>0</td>\n",
       "      <td>25</td>\n",
       "      <td>1226726126</td>\n",
       "      <td>1226726126</td>\n",
       "      <td>0</td>\n",
       "    </tr>\n",
       "    <tr>\n",
       "      <th>1</th>\n",
       "      <td>1</td>\n",
       "      <td>58</td>\n",
       "      <td>1205332532</td>\n",
       "      <td>1205332541</td>\n",
       "      <td>9</td>\n",
       "    </tr>\n",
       "    <tr>\n",
       "      <th>2</th>\n",
       "      <td>1</td>\n",
       "      <td>66</td>\n",
       "      <td>1205342722</td>\n",
       "      <td>1205342729</td>\n",
       "      <td>7</td>\n",
       "    </tr>\n",
       "    <tr>\n",
       "      <th>3</th>\n",
       "      <td>2</td>\n",
       "      <td>59</td>\n",
       "      <td>1205374109</td>\n",
       "      <td>1205374109</td>\n",
       "      <td>0</td>\n",
       "    </tr>\n",
       "    <tr>\n",
       "      <th>4</th>\n",
       "      <td>3</td>\n",
       "      <td>58</td>\n",
       "      <td>1205417265</td>\n",
       "      <td>1205417265</td>\n",
       "      <td>0</td>\n",
       "    </tr>\n",
       "  </tbody>\n",
       "</table>\n",
       "</div>"
      ],
      "text/plain": [
       "   trajID  poiID  arrivalTime  departureTime  poiDuration\n",
       "0       0     25   1226726126     1226726126            0\n",
       "1       1     58   1205332532     1205332541            9\n",
       "2       1     66   1205342722     1205342729            7\n",
       "3       2     59   1205374109     1205374109            0\n",
       "4       3     58   1205417265     1205417265            0"
      ]
     },
     "execution_count": 9,
     "metadata": {},
     "output_type": "execute_result"
    }
   ],
   "source": [
    "#the visit duration at each POI:\n",
    "poi_duration = visits[['dateTaken', 'poiID', 'trajID']].copy().groupby(['trajID', 'poiID']).agg([np.min, np.max])\n",
    "poi_duration.columns = poi_duration.columns.droplevel()\n",
    "poi_duration.rename(columns={'amin':'arrivalTime', 'amax':'departureTime'}, inplace=True)\n",
    "poi_duration.reset_index(inplace=True)\n",
    "poi_duration['poiDuration'] = poi_duration['departureTime'] - poi_duration['arrivalTime']\n",
    "poi_duration.head()"
   ]
  },
  {
   "cell_type": "code",
   "execution_count": 10,
   "metadata": {
    "collapsed": true
   },
   "outputs": [],
   "source": [
    "#filtering out zero visit duration at POI\n",
    "poi_duration = poi_duration[poi_duration['poiDuration'] > 0]"
   ]
  },
  {
   "cell_type": "code",
   "execution_count": 11,
   "metadata": {},
   "outputs": [
    {
     "data": {
      "text/html": [
       "<div>\n",
       "<table border=\"1\" class=\"dataframe\">\n",
       "  <thead>\n",
       "    <tr style=\"text-align: right;\">\n",
       "      <th></th>\n",
       "      <th>medianDuration(sec)</th>\n",
       "      <th>totalDuration(sec)</th>\n",
       "    </tr>\n",
       "    <tr>\n",
       "      <th>poiID</th>\n",
       "      <th></th>\n",
       "      <th></th>\n",
       "    </tr>\n",
       "  </thead>\n",
       "  <tbody>\n",
       "    <tr>\n",
       "      <th>0</th>\n",
       "      <td>332.5</td>\n",
       "      <td>24600</td>\n",
       "    </tr>\n",
       "    <tr>\n",
       "      <th>1</th>\n",
       "      <td>438.5</td>\n",
       "      <td>42491</td>\n",
       "    </tr>\n",
       "    <tr>\n",
       "      <th>2</th>\n",
       "      <td>1835.0</td>\n",
       "      <td>141155</td>\n",
       "    </tr>\n",
       "    <tr>\n",
       "      <th>3</th>\n",
       "      <td>1971.5</td>\n",
       "      <td>61945</td>\n",
       "    </tr>\n",
       "    <tr>\n",
       "      <th>4</th>\n",
       "      <td>829.0</td>\n",
       "      <td>137382</td>\n",
       "    </tr>\n",
       "  </tbody>\n",
       "</table>\n",
       "</div>"
      ],
      "text/plain": [
       "       medianDuration(sec)  totalDuration(sec)\n",
       "poiID                                         \n",
       "0                    332.5               24600\n",
       "1                    438.5               42491\n",
       "2                   1835.0              141155\n",
       "3                   1971.5               61945\n",
       "4                    829.0              137382"
      ]
     },
     "execution_count": 11,
     "metadata": {},
     "output_type": "execute_result"
    }
   ],
   "source": [
    "#the median and summation of POI visit duration=\n",
    "poi_duration_stats = poi_duration[['poiID', 'poiDuration']].copy().groupby('poiID').agg([np.median, np.sum])\n",
    "poi_duration_stats.columns = poi_duration_stats.columns.droplevel()\n",
    "poi_duration_stats.rename(columns={'median':'medianDuration(sec)', 'sum':'totalDuration(sec)'}, inplace=True)\n",
    "poi_duration_stats.head()"
   ]
  },
  {
   "cell_type": "code",
   "execution_count": 12,
   "metadata": {},
   "outputs": [
    {
     "data": {
      "text/html": [
       "<div>\n",
       "<table border=\"1\" class=\"dataframe\">\n",
       "  <thead>\n",
       "    <tr style=\"text-align: right;\">\n",
       "      <th></th>\n",
       "      <th>userID</th>\n",
       "      <th>trajID</th>\n",
       "      <th>poiID</th>\n",
       "      <th>#photosAtPOIInTraj</th>\n",
       "    </tr>\n",
       "  </thead>\n",
       "  <tbody>\n",
       "    <tr>\n",
       "      <th>0</th>\n",
       "      <td>10058801@N06</td>\n",
       "      <td>0</td>\n",
       "      <td>25</td>\n",
       "      <td>1</td>\n",
       "    </tr>\n",
       "    <tr>\n",
       "      <th>1</th>\n",
       "      <td>10087938@N02</td>\n",
       "      <td>1</td>\n",
       "      <td>58</td>\n",
       "      <td>2</td>\n",
       "    </tr>\n",
       "    <tr>\n",
       "      <th>2</th>\n",
       "      <td>10087938@N02</td>\n",
       "      <td>1</td>\n",
       "      <td>66</td>\n",
       "      <td>2</td>\n",
       "    </tr>\n",
       "    <tr>\n",
       "      <th>3</th>\n",
       "      <td>10087938@N02</td>\n",
       "      <td>2</td>\n",
       "      <td>59</td>\n",
       "      <td>1</td>\n",
       "    </tr>\n",
       "    <tr>\n",
       "      <th>4</th>\n",
       "      <td>10087938@N02</td>\n",
       "      <td>3</td>\n",
       "      <td>58</td>\n",
       "      <td>1</td>\n",
       "    </tr>\n",
       "  </tbody>\n",
       "</table>\n",
       "</div>"
      ],
      "text/plain": [
       "         userID  trajID  poiID  #photosAtPOIInTraj\n",
       "0  10058801@N06       0     25                   1\n",
       "1  10087938@N02       1     58                   2\n",
       "2  10087938@N02       1     66                   2\n",
       "3  10087938@N02       2     59                   1\n",
       "4  10087938@N02       3     58                   1"
      ]
     },
     "execution_count": 12,
     "metadata": {},
     "output_type": "execute_result"
    }
   ],
   "source": [
    "#the number of visits at each POI by all users and by distinct users:  \n",
    "\n",
    "poi_visits = visits[['userID', 'trajID', 'poiID', 'photoID']].copy().groupby(['userID','trajID','poiID']).agg(np.size)\n",
    "poi_visits.reset_index(inplace=True)\n",
    "poi_visits.rename(columns={'photoID':'#photosAtPOIInTraj'}, inplace=True)\n",
    "poi_visits.head()"
   ]
  },
  {
   "cell_type": "code",
   "execution_count": 13,
   "metadata": {},
   "outputs": [
    {
     "data": {
      "text/html": [
       "<div>\n",
       "<table border=\"1\" class=\"dataframe\">\n",
       "  <thead>\n",
       "    <tr style=\"text-align: right;\">\n",
       "      <th></th>\n",
       "      <th>#distinctUsers</th>\n",
       "      <th>#visits</th>\n",
       "    </tr>\n",
       "    <tr>\n",
       "      <th>poiID</th>\n",
       "      <th></th>\n",
       "      <th></th>\n",
       "    </tr>\n",
       "  </thead>\n",
       "  <tbody>\n",
       "    <tr>\n",
       "      <th>0</th>\n",
       "      <td>64</td>\n",
       "      <td>73</td>\n",
       "    </tr>\n",
       "    <tr>\n",
       "      <th>1</th>\n",
       "      <td>39</td>\n",
       "      <td>52</td>\n",
       "    </tr>\n",
       "    <tr>\n",
       "      <th>2</th>\n",
       "      <td>83</td>\n",
       "      <td>116</td>\n",
       "    </tr>\n",
       "    <tr>\n",
       "      <th>3</th>\n",
       "      <td>44</td>\n",
       "      <td>54</td>\n",
       "    </tr>\n",
       "    <tr>\n",
       "      <th>4</th>\n",
       "      <td>50</td>\n",
       "      <td>84</td>\n",
       "    </tr>\n",
       "  </tbody>\n",
       "</table>\n",
       "</div>"
      ],
      "text/plain": [
       "       #distinctUsers  #visits\n",
       "poiID                         \n",
       "0                  64       73\n",
       "1                  39       52\n",
       "2                  83      116\n",
       "3                  44       54\n",
       "4                  50       84"
      ]
     },
     "execution_count": 13,
     "metadata": {},
     "output_type": "execute_result"
    }
   ],
   "source": [
    "poi_visits_stats = poi_visits[['userID', 'poiID']].copy().groupby('poiID').agg([pd.Series.nunique, np.size])\n",
    "poi_visits_stats.columns = poi_visits_stats.columns.droplevel()\n",
    "poi_visits_stats.rename(columns={'nunique':'#distinctUsers', 'size':'#visits'}, inplace=True)\n",
    "poi_visits_stats.head()"
   ]
  },
  {
   "cell_type": "code",
   "execution_count": 14,
   "metadata": {},
   "outputs": [],
   "source": [
    "#copy visit statistics to POI dataframe:\n",
    "poi_df['#photos'] = 0\n",
    "poi_df['#visits'] = 0\n",
    "poi_df['#distinctUsers'] = 0\n",
    "poi_df['medianDuration(sec)'] = 0.0\n",
    "poi_df['totalDuration(sec)'] = 0.0"
   ]
  },
  {
   "cell_type": "code",
   "execution_count": 15,
   "metadata": {},
   "outputs": [
    {
     "data": {
      "text/html": [
       "<div>\n",
       "<table border=\"1\" class=\"dataframe\">\n",
       "  <thead>\n",
       "    <tr style=\"text-align: right;\">\n",
       "      <th></th>\n",
       "      <th>Name</th>\n",
       "      <th>Category</th>\n",
       "      <th>Latitude</th>\n",
       "      <th>Longitude</th>\n",
       "      <th>#photos</th>\n",
       "      <th>#visits</th>\n",
       "      <th>#distinctUsers</th>\n",
       "      <th>medianDuration(sec)</th>\n",
       "      <th>totalDuration(sec)</th>\n",
       "    </tr>\n",
       "    <tr>\n",
       "      <th>poiID</th>\n",
       "      <th></th>\n",
       "      <th></th>\n",
       "      <th></th>\n",
       "      <th></th>\n",
       "      <th></th>\n",
       "      <th></th>\n",
       "      <th></th>\n",
       "      <th></th>\n",
       "      <th></th>\n",
       "    </tr>\n",
       "  </thead>\n",
       "  <tbody>\n",
       "    <tr>\n",
       "      <th>0</th>\n",
       "      <td>Arts Precinct</td>\n",
       "      <td>City precincts</td>\n",
       "      <td>-37.82167</td>\n",
       "      <td>144.96778</td>\n",
       "      <td>102</td>\n",
       "      <td>73</td>\n",
       "      <td>64</td>\n",
       "      <td>332.5</td>\n",
       "      <td>24600.0</td>\n",
       "    </tr>\n",
       "    <tr>\n",
       "      <th>1</th>\n",
       "      <td>Docklands</td>\n",
       "      <td>City precincts</td>\n",
       "      <td>-37.81700</td>\n",
       "      <td>144.94600</td>\n",
       "      <td>139</td>\n",
       "      <td>52</td>\n",
       "      <td>39</td>\n",
       "      <td>438.5</td>\n",
       "      <td>42491.0</td>\n",
       "    </tr>\n",
       "    <tr>\n",
       "      <th>2</th>\n",
       "      <td>Government Precinct</td>\n",
       "      <td>City precincts</td>\n",
       "      <td>-37.81190</td>\n",
       "      <td>144.97300</td>\n",
       "      <td>304</td>\n",
       "      <td>116</td>\n",
       "      <td>83</td>\n",
       "      <td>1835.0</td>\n",
       "      <td>141155.0</td>\n",
       "    </tr>\n",
       "    <tr>\n",
       "      <th>3</th>\n",
       "      <td>Little Italy</td>\n",
       "      <td>City precincts</td>\n",
       "      <td>-37.79972</td>\n",
       "      <td>144.96694</td>\n",
       "      <td>138</td>\n",
       "      <td>54</td>\n",
       "      <td>44</td>\n",
       "      <td>1971.5</td>\n",
       "      <td>61945.0</td>\n",
       "    </tr>\n",
       "    <tr>\n",
       "      <th>4</th>\n",
       "      <td>RMIT City</td>\n",
       "      <td>City precincts</td>\n",
       "      <td>-37.80778</td>\n",
       "      <td>144.96333</td>\n",
       "      <td>349</td>\n",
       "      <td>84</td>\n",
       "      <td>50</td>\n",
       "      <td>829.0</td>\n",
       "      <td>137382.0</td>\n",
       "    </tr>\n",
       "  </tbody>\n",
       "</table>\n",
       "</div>"
      ],
      "text/plain": [
       "                      Name        Category  Latitude  Longitude  #photos  \\\n",
       "poiID                                                                      \n",
       "0            Arts Precinct  City precincts -37.82167  144.96778      102   \n",
       "1                Docklands  City precincts -37.81700  144.94600      139   \n",
       "2      Government Precinct  City precincts -37.81190  144.97300      304   \n",
       "3             Little Italy  City precincts -37.79972  144.96694      138   \n",
       "4                RMIT City  City precincts -37.80778  144.96333      349   \n",
       "\n",
       "       #visits  #distinctUsers  medianDuration(sec)  totalDuration(sec)  \n",
       "poiID                                                                    \n",
       "0           73              64                332.5             24600.0  \n",
       "1           52              39                438.5             42491.0  \n",
       "2          116              83               1835.0            141155.0  \n",
       "3           54              44               1971.5             61945.0  \n",
       "4           84              50                829.0            137382.0  "
      ]
     },
     "execution_count": 15,
     "metadata": {},
     "output_type": "execute_result"
    }
   ],
   "source": [
    "poi_df.loc[poi_photo.index, '#photos'] = poi_photo['#photos']\n",
    "poi_df.loc[poi_visits_stats.index, '#visits'] = poi_visits_stats['#visits']\n",
    "poi_df.loc[poi_visits_stats.index, '#distinctUsers'] = poi_visits_stats['#distinctUsers']\n",
    "poi_df.loc[poi_duration_stats.index, 'medianDuration(sec)'] = poi_duration_stats['medianDuration(sec)']\n",
    "poi_df.loc[poi_duration_stats.index, 'totalDuration(sec)'] = poi_duration_stats['totalDuration(sec)']\n",
    "poi_df.head()"
   ]
  },
  {
   "cell_type": "code",
   "execution_count": 16,
   "metadata": {
    "collapsed": true
   },
   "outputs": [],
   "source": [
    "#visualise & save POIs to CSV file\n",
    "#poi_file = os.path.join(data_dir, 'poi_df.csv')\n",
    "#poi_df.to_csv(poi_file, index=True)"
   ]
  },
  {
   "cell_type": "code",
   "execution_count": 17,
   "metadata": {},
   "outputs": [
    {
     "data": {
      "text/html": [
       "<div>\n",
       "<table border=\"1\" class=\"dataframe\">\n",
       "  <thead>\n",
       "    <tr style=\"text-align: right;\">\n",
       "      <th></th>\n",
       "      <th>Name</th>\n",
       "      <th>Category</th>\n",
       "      <th>Latitude</th>\n",
       "      <th>Longitude</th>\n",
       "      <th>#photos</th>\n",
       "      <th>#visits</th>\n",
       "      <th>#distinctUsers</th>\n",
       "      <th>medianDuration(sec)</th>\n",
       "      <th>totalDuration(sec)</th>\n",
       "    </tr>\n",
       "    <tr>\n",
       "      <th>poiID</th>\n",
       "      <th></th>\n",
       "      <th></th>\n",
       "      <th></th>\n",
       "      <th></th>\n",
       "      <th></th>\n",
       "      <th></th>\n",
       "      <th></th>\n",
       "      <th></th>\n",
       "      <th></th>\n",
       "    </tr>\n",
       "  </thead>\n",
       "  <tbody>\n",
       "    <tr>\n",
       "      <th>54</th>\n",
       "      <td>Flemington Racecourse</td>\n",
       "      <td>Sports stadiums</td>\n",
       "      <td>-37.79028</td>\n",
       "      <td>144.91250</td>\n",
       "      <td>0</td>\n",
       "      <td>0</td>\n",
       "      <td>0</td>\n",
       "      <td>0.0</td>\n",
       "      <td>0.0</td>\n",
       "    </tr>\n",
       "    <tr>\n",
       "      <th>64</th>\n",
       "      <td>Royal Melbourne Golf Club</td>\n",
       "      <td>Sports stadiums</td>\n",
       "      <td>-37.97000</td>\n",
       "      <td>145.03000</td>\n",
       "      <td>0</td>\n",
       "      <td>0</td>\n",
       "      <td>0</td>\n",
       "      <td>0.0</td>\n",
       "      <td>0.0</td>\n",
       "    </tr>\n",
       "    <tr>\n",
       "      <th>87</th>\n",
       "      <td>Yarra River</td>\n",
       "      <td>Transport</td>\n",
       "      <td>-37.85194</td>\n",
       "      <td>144.90833</td>\n",
       "      <td>0</td>\n",
       "      <td>0</td>\n",
       "      <td>0</td>\n",
       "      <td>0.0</td>\n",
       "      <td>0.0</td>\n",
       "    </tr>\n",
       "  </tbody>\n",
       "</table>\n",
       "</div>"
      ],
      "text/plain": [
       "                            Name         Category  Latitude  Longitude  \\\n",
       "poiID                                                                    \n",
       "54         Flemington Racecourse  Sports stadiums -37.79028  144.91250   \n",
       "64     Royal Melbourne Golf Club  Sports stadiums -37.97000  145.03000   \n",
       "87                   Yarra River        Transport -37.85194  144.90833   \n",
       "\n",
       "       #photos  #visits  #distinctUsers  medianDuration(sec)  \\\n",
       "poiID                                                          \n",
       "54           0        0               0                  0.0   \n",
       "64           0        0               0                  0.0   \n",
       "87           0        0               0                  0.0   \n",
       "\n",
       "       totalDuration(sec)  \n",
       "poiID                      \n",
       "54                    0.0  \n",
       "64                    0.0  \n",
       "87                    0.0  "
      ]
     },
     "execution_count": 17,
     "metadata": {},
     "output_type": "execute_result"
    }
   ],
   "source": [
    "# 3. POI vs Photo\n",
    "\n",
    "#POIs with NO Visits\n",
    "\n",
    "\n",
    "poi_df[poi_df['#visits'] < 1]"
   ]
  },
  {
   "cell_type": "code",
   "execution_count": 18,
   "metadata": {
    "collapsed": true
   },
   "outputs": [],
   "source": [
    "# 4. Compute Trajectories\n",
    "\n",
    "#compute trajectories using POI visiting records, assuming NO loops/subtours in trajectories\n",
    "\n",
    "traj_all = visits[['userID', 'trajID', 'poiID', 'dateTaken']].copy().groupby(['userID', 'trajID', 'poiID'])\\\n",
    "           .agg([np.min, np.max, np.size])\n",
    "traj_all.columns = traj_all.columns.droplevel()\n",
    "traj_all.reset_index(inplace=True)\n",
    "traj_all.rename(columns={'amin':'startTime', 'amax':'endTime', 'size':'#photo'}, inplace=True)"
   ]
  },
  {
   "cell_type": "code",
   "execution_count": 19,
   "metadata": {
    "collapsed": true
   },
   "outputs": [],
   "source": [
    "traj_len = traj_all[['userID', 'trajID', 'poiID']].copy().groupby(['userID', 'trajID']).agg(np.size)\n",
    "traj_len.reset_index(inplace=True)\n",
    "traj_len.rename(columns={'poiID':'trajLen'}, inplace=True)"
   ]
  },
  {
   "cell_type": "code",
   "execution_count": 20,
   "metadata": {},
   "outputs": [
    {
     "data": {
      "text/html": [
       "<div>\n",
       "<table border=\"1\" class=\"dataframe\">\n",
       "  <thead>\n",
       "    <tr style=\"text-align: right;\">\n",
       "      <th></th>\n",
       "      <th>userID</th>\n",
       "      <th>trajID</th>\n",
       "      <th>poiID</th>\n",
       "      <th>startTime</th>\n",
       "      <th>endTime</th>\n",
       "      <th>#photo</th>\n",
       "      <th>trajLen</th>\n",
       "      <th>poiDuration</th>\n",
       "    </tr>\n",
       "  </thead>\n",
       "  <tbody>\n",
       "    <tr>\n",
       "      <th>0</th>\n",
       "      <td>10058801@N06</td>\n",
       "      <td>0</td>\n",
       "      <td>25</td>\n",
       "      <td>1226726126</td>\n",
       "      <td>1226726126</td>\n",
       "      <td>1</td>\n",
       "      <td>1</td>\n",
       "      <td>0</td>\n",
       "    </tr>\n",
       "    <tr>\n",
       "      <th>1</th>\n",
       "      <td>10087938@N02</td>\n",
       "      <td>1</td>\n",
       "      <td>58</td>\n",
       "      <td>1205332532</td>\n",
       "      <td>1205332541</td>\n",
       "      <td>2</td>\n",
       "      <td>2</td>\n",
       "      <td>9</td>\n",
       "    </tr>\n",
       "    <tr>\n",
       "      <th>2</th>\n",
       "      <td>10087938@N02</td>\n",
       "      <td>1</td>\n",
       "      <td>66</td>\n",
       "      <td>1205342722</td>\n",
       "      <td>1205342729</td>\n",
       "      <td>2</td>\n",
       "      <td>2</td>\n",
       "      <td>7</td>\n",
       "    </tr>\n",
       "    <tr>\n",
       "      <th>3</th>\n",
       "      <td>10087938@N02</td>\n",
       "      <td>2</td>\n",
       "      <td>59</td>\n",
       "      <td>1205374109</td>\n",
       "      <td>1205374109</td>\n",
       "      <td>1</td>\n",
       "      <td>1</td>\n",
       "      <td>0</td>\n",
       "    </tr>\n",
       "    <tr>\n",
       "      <th>4</th>\n",
       "      <td>10087938@N02</td>\n",
       "      <td>3</td>\n",
       "      <td>58</td>\n",
       "      <td>1205417265</td>\n",
       "      <td>1205417265</td>\n",
       "      <td>1</td>\n",
       "      <td>1</td>\n",
       "      <td>0</td>\n",
       "    </tr>\n",
       "    <tr>\n",
       "      <th>5</th>\n",
       "      <td>10087938@N02</td>\n",
       "      <td>4</td>\n",
       "      <td>58</td>\n",
       "      <td>1205508764</td>\n",
       "      <td>1205538412</td>\n",
       "      <td>3</td>\n",
       "      <td>2</td>\n",
       "      <td>29648</td>\n",
       "    </tr>\n",
       "    <tr>\n",
       "      <th>6</th>\n",
       "      <td>10087938@N02</td>\n",
       "      <td>4</td>\n",
       "      <td>59</td>\n",
       "      <td>1205512653</td>\n",
       "      <td>1205514882</td>\n",
       "      <td>22</td>\n",
       "      <td>2</td>\n",
       "      <td>2229</td>\n",
       "    </tr>\n",
       "    <tr>\n",
       "      <th>7</th>\n",
       "      <td>10087938@N02</td>\n",
       "      <td>5</td>\n",
       "      <td>59</td>\n",
       "      <td>1205575764</td>\n",
       "      <td>1205595114</td>\n",
       "      <td>4</td>\n",
       "      <td>1</td>\n",
       "      <td>19350</td>\n",
       "    </tr>\n",
       "    <tr>\n",
       "      <th>8</th>\n",
       "      <td>10087938@N02</td>\n",
       "      <td>6</td>\n",
       "      <td>59</td>\n",
       "      <td>1205625724</td>\n",
       "      <td>1205641382</td>\n",
       "      <td>2</td>\n",
       "      <td>1</td>\n",
       "      <td>15658</td>\n",
       "    </tr>\n",
       "    <tr>\n",
       "      <th>9</th>\n",
       "      <td>10087938@N02</td>\n",
       "      <td>7</td>\n",
       "      <td>58</td>\n",
       "      <td>1205812892</td>\n",
       "      <td>1205812892</td>\n",
       "      <td>1</td>\n",
       "      <td>1</td>\n",
       "      <td>0</td>\n",
       "    </tr>\n",
       "  </tbody>\n",
       "</table>\n",
       "</div>"
      ],
      "text/plain": [
       "         userID  trajID  poiID   startTime     endTime  #photo  trajLen  \\\n",
       "0  10058801@N06       0     25  1226726126  1226726126       1        1   \n",
       "1  10087938@N02       1     58  1205332532  1205332541       2        2   \n",
       "2  10087938@N02       1     66  1205342722  1205342729       2        2   \n",
       "3  10087938@N02       2     59  1205374109  1205374109       1        1   \n",
       "4  10087938@N02       3     58  1205417265  1205417265       1        1   \n",
       "5  10087938@N02       4     58  1205508764  1205538412       3        2   \n",
       "6  10087938@N02       4     59  1205512653  1205514882      22        2   \n",
       "7  10087938@N02       5     59  1205575764  1205595114       4        1   \n",
       "8  10087938@N02       6     59  1205625724  1205641382       2        1   \n",
       "9  10087938@N02       7     58  1205812892  1205812892       1        1   \n",
       "\n",
       "   poiDuration  \n",
       "0            0  \n",
       "1            9  \n",
       "2            7  \n",
       "3            0  \n",
       "4            0  \n",
       "5        29648  \n",
       "6         2229  \n",
       "7        19350  \n",
       "8        15658  \n",
       "9            0  "
      ]
     },
     "execution_count": 20,
     "metadata": {},
     "output_type": "execute_result"
    }
   ],
   "source": [
    "traj_all = pd.merge(traj_all, traj_len, on=['userID', 'trajID'])\n",
    "traj_all['poiDuration'] = traj_all['endTime'] - traj_all['startTime']\n",
    "traj_all.head(10)"
   ]
  },
  {
   "cell_type": "code",
   "execution_count": 21,
   "metadata": {
    "collapsed": true
   },
   "outputs": [],
   "source": [
    "#extract trajectory, i.e., a list of POIs, considering loops/subtours:\n",
    "\n",
    "def extract_traj_withloop(tid, visits):\n",
    "    \"\"\"Compute trajectories info, taking care of trajectories that contain sub-tours\"\"\"\n",
    "    traj_df = visits[visits['trajID'] == tid].copy()\n",
    "    traj_df.sort_values(by='dateTaken', ascending=True, inplace=True)\n",
    "    traj = []\n",
    "    for ix in traj_df.index:\n",
    "        poi = traj_df.loc[ix, 'poiID']\n",
    "        if len(traj) == 0:\n",
    "            traj.append(poi)\n",
    "        else:\n",
    "            if poi != traj[-1]:\n",
    "                traj.append(poi)\n",
    "    return traj"
   ]
  },
  {
   "cell_type": "code",
   "execution_count": 22,
   "metadata": {
    "collapsed": true
   },
   "outputs": [],
   "source": [
    "def extract_traj(tid, traj_all):\n",
    "    traj = traj_all[traj_all['trajID'] == tid].copy()\n",
    "    traj.sort_values(by=['startTime'], ascending=True, inplace=True)\n",
    "    return traj['poiID'].tolist()"
   ]
  },
  {
   "cell_type": "code",
   "execution_count": 23,
   "metadata": {},
   "outputs": [
    {
     "name": "stdout",
     "output_type": "stream",
     "text": [
      "Number of trajectories with loops/subtours: 211\n"
     ]
    }
   ],
   "source": [
    "loopcnt = 0\n",
    "for tid_ in visits['trajID'].unique():\n",
    "    traj_ = extract_traj_withloop(tid_, visits)\n",
    "    if len(traj_) != len(set(traj_)):\n",
    "        #print(traj_)\n",
    "        loopcnt += 1\n",
    "print('Number of trajectories with loops/subtours:', loopcnt)"
   ]
  },
  {
   "cell_type": "code",
   "execution_count": 24,
   "metadata": {
    "collapsed": true
   },
   "outputs": [],
   "source": [
    "#Compute POI properties, e.g., popularity, total number of visit, average visit duration.\n",
    "\n",
    "def calc_poi_info(trajid_list, traj_all, poi_all):\n",
    "    assert(len(trajid_list) > 0)\n",
    "    # to allow duplicated trajid\n",
    "    poi_info = traj_all[traj_all['trajID'] == trajid_list[0]][['poiID', 'poiDuration']].copy() \n",
    "    for i in range(1, len(trajid_list)):\n",
    "        traj = traj_all[traj_all['trajID'] == trajid_list[i]][['poiID', 'poiDuration']]\n",
    "        poi_info = poi_info.append(traj, ignore_index=True)\n",
    "    \n",
    "    poi_info = poi_info.groupby('poiID').agg([np.mean, np.size])\n",
    "    poi_info.columns = poi_info.columns.droplevel()\n",
    "    poi_info.reset_index(inplace=True)\n",
    "    poi_info.rename(columns={'mean':'avgDuration', 'size':'nVisit'}, inplace=True)\n",
    "    poi_info.set_index('poiID', inplace=True) \n",
    "    poi_info['poiCat'] = poi_all.loc[poi_info.index, 'poiTheme']\n",
    "    poi_info['poiLon'] = poi_all.loc[poi_info.index, 'poiLon']\n",
    "    poi_info['poiLat'] = poi_all.loc[poi_info.index, 'poiLat']\n",
    "    \n",
    "    # POI popularity: the number of distinct users that visited the POI\n",
    "    pop_df = traj_all[traj_all['trajID'].isin(trajid_list)][['poiID', 'userID']].copy()\n",
    "    pop_df = pop_df.groupby('poiID').agg(pd.Series.nunique)\n",
    "    pop_df.rename(columns={'userID':'nunique'}, inplace=True)\n",
    "    poi_info['popularity'] = pop_df.loc[poi_info.index, 'nunique']\n",
    "    \n",
    "    return poi_info.copy()"
   ]
  },
  {
   "cell_type": "code",
   "execution_count": 25,
   "metadata": {
    "collapsed": true
   },
   "outputs": [],
   "source": [
    "#compute the F1 score for recommended trajectory\n",
    "\n",
    "def calc_F1(traj_act, traj_rec):\n",
    "    '''Compute recall, precision and F1 for recommended trajectories'''\n",
    "    assert(isinstance(noloop, bool))\n",
    "    assert(len(traj_act) > 0)\n",
    "    assert(len(traj_rec) > 0)\n",
    "    \n",
    "    intersize = len(set(traj_act) & set(traj_rec))\n",
    "    recall = intersize / len(traj_act)\n",
    "    precision = intersize / len(traj_rec)\n",
    "    F1 = 2 * precision * recall / (precision + recall)\n",
    "    return F1"
   ]
  },
  {
   "cell_type": "code",
   "execution_count": 26,
   "metadata": {
    "collapsed": true
   },
   "outputs": [],
   "source": [
    "#compute distance between two POIs using the Haversine formula\n",
    "\n",
    "def calc_dist_vec(longitudes1, latitudes1, longitudes2, latitudes2):\n",
    "    \"\"\"Calculate the distance (unit: km) between two places on earth, vectorised\"\"\"\n",
    "    # convert degrees to radians\n",
    "    lng1 = np.radians(longitudes1)\n",
    "    lat1 = np.radians(latitudes1)\n",
    "    lng2 = np.radians(longitudes2)\n",
    "    lat2 = np.radians(latitudes2)\n",
    "    radius = 6371.0088 # mean earth radius, en.wikipedia.org/wiki/Earth_radius#Mean_radius\n",
    "\n",
    "    # The haversine formula, en.wikipedia.org/wiki/Great-circle_distance\n",
    "    dlng = np.fabs(lng1 - lng2)\n",
    "    dlat = np.fabs(lat1 - lat2)\n",
    "    dist =  2 * radius * np.arcsin( np.sqrt( \n",
    "                (np.sin(0.5*dlat))**2 + np.cos(lat1) * np.cos(lat2) * (np.sin(0.5*dlng))**2 ))\n",
    "    return dist"
   ]
  },
  {
   "cell_type": "code",
   "execution_count": 27,
   "metadata": {
    "collapsed": true
   },
   "outputs": [],
   "source": [
    "#distance between POIs:\n",
    "\n",
    "POI_DISTMAT = pd.DataFrame(data=np.zeros((poi_all.shape[0], poi_all.shape[0]), dtype=np.float), \\\n",
    "                           index=poi_all.index, columns=poi_all.index)"
   ]
  },
  {
   "cell_type": "code",
   "execution_count": 28,
   "metadata": {
    "collapsed": true
   },
   "outputs": [],
   "source": [
    "for ix in poi_all.index:\n",
    "    POI_DISTMAT.loc[ix] = calc_dist_vec(poi_all.loc[ix, 'poiLon'], \\\n",
    "                                        poi_all.loc[ix, 'poiLat'], \\\n",
    "                                        poi_all['poiLon'], \\\n",
    "                                        poi_all['poiLat'])"
   ]
  },
  {
   "cell_type": "code",
   "execution_count": 29,
   "metadata": {},
   "outputs": [],
   "source": [
    "trajid_set_all = sorted(traj_all['trajID'].unique().tolist())"
   ]
  },
  {
   "cell_type": "code",
   "execution_count": 30,
   "metadata": {},
   "outputs": [],
   "source": [
    "poi_info_all = calc_poi_info(trajid_set_all, traj_all, poi_all)"
   ]
  },
  {
   "cell_type": "code",
   "execution_count": 31,
   "metadata": {},
   "outputs": [
    {
     "data": {
      "text/html": [
       "<div>\n",
       "<table border=\"1\" class=\"dataframe\">\n",
       "  <thead>\n",
       "    <tr style=\"text-align: right;\">\n",
       "      <th></th>\n",
       "      <th>avgDuration</th>\n",
       "      <th>nVisit</th>\n",
       "      <th>poiCat</th>\n",
       "      <th>poiLon</th>\n",
       "      <th>poiLat</th>\n",
       "      <th>popularity</th>\n",
       "    </tr>\n",
       "    <tr>\n",
       "      <th>poiID</th>\n",
       "      <th></th>\n",
       "      <th></th>\n",
       "      <th></th>\n",
       "      <th></th>\n",
       "      <th></th>\n",
       "      <th></th>\n",
       "    </tr>\n",
       "  </thead>\n",
       "  <tbody>\n",
       "    <tr>\n",
       "      <th>0</th>\n",
       "      <td>336.986301</td>\n",
       "      <td>73</td>\n",
       "      <td>City precincts</td>\n",
       "      <td>144.96778</td>\n",
       "      <td>-37.82167</td>\n",
       "      <td>64</td>\n",
       "    </tr>\n",
       "    <tr>\n",
       "      <th>1</th>\n",
       "      <td>817.134615</td>\n",
       "      <td>52</td>\n",
       "      <td>City precincts</td>\n",
       "      <td>144.94600</td>\n",
       "      <td>-37.81700</td>\n",
       "      <td>39</td>\n",
       "    </tr>\n",
       "    <tr>\n",
       "      <th>2</th>\n",
       "      <td>1216.853448</td>\n",
       "      <td>116</td>\n",
       "      <td>City precincts</td>\n",
       "      <td>144.97300</td>\n",
       "      <td>-37.81190</td>\n",
       "      <td>83</td>\n",
       "    </tr>\n",
       "    <tr>\n",
       "      <th>3</th>\n",
       "      <td>1147.129630</td>\n",
       "      <td>54</td>\n",
       "      <td>City precincts</td>\n",
       "      <td>144.96694</td>\n",
       "      <td>-37.79972</td>\n",
       "      <td>44</td>\n",
       "    </tr>\n",
       "    <tr>\n",
       "      <th>4</th>\n",
       "      <td>1635.500000</td>\n",
       "      <td>84</td>\n",
       "      <td>City precincts</td>\n",
       "      <td>144.96333</td>\n",
       "      <td>-37.80778</td>\n",
       "      <td>50</td>\n",
       "    </tr>\n",
       "  </tbody>\n",
       "</table>\n",
       "</div>"
      ],
      "text/plain": [
       "       avgDuration  nVisit          poiCat     poiLon    poiLat  popularity\n",
       "poiID                                                                      \n",
       "0       336.986301      73  City precincts  144.96778 -37.82167          64\n",
       "1       817.134615      52  City precincts  144.94600 -37.81700          39\n",
       "2      1216.853448     116  City precincts  144.97300 -37.81190          83\n",
       "3      1147.129630      54  City precincts  144.96694 -37.79972          44\n",
       "4      1635.500000      84  City precincts  144.96333 -37.80778          50"
      ]
     },
     "execution_count": 31,
     "metadata": {},
     "output_type": "execute_result"
    }
   ],
   "source": [
    "poi_info_all.head()"
   ]
  },
  {
   "cell_type": "code",
   "execution_count": 32,
   "metadata": {},
   "outputs": [
    {
     "data": {
      "text/html": [
       "<div>\n",
       "<table border=\"1\" class=\"dataframe\">\n",
       "  <thead>\n",
       "    <tr style=\"text-align: right;\">\n",
       "      <th></th>\n",
       "      <th>poiName</th>\n",
       "      <th>poiTheme</th>\n",
       "      <th>poiLat</th>\n",
       "      <th>poiLon</th>\n",
       "      <th>poiURL</th>\n",
       "      <th>poiPopularity</th>\n",
       "    </tr>\n",
       "    <tr>\n",
       "      <th>poiID</th>\n",
       "      <th></th>\n",
       "      <th></th>\n",
       "      <th></th>\n",
       "      <th></th>\n",
       "      <th></th>\n",
       "      <th></th>\n",
       "    </tr>\n",
       "  </thead>\n",
       "  <tbody>\n",
       "    <tr>\n",
       "      <th>0</th>\n",
       "      <td>Arts Precinct</td>\n",
       "      <td>City precincts</td>\n",
       "      <td>-37.82167</td>\n",
       "      <td>144.96778</td>\n",
       "      <td>https://en.wikipedia.org/wiki/Melbourne_Arts_P...</td>\n",
       "      <td>64</td>\n",
       "    </tr>\n",
       "    <tr>\n",
       "      <th>1</th>\n",
       "      <td>Docklands</td>\n",
       "      <td>City precincts</td>\n",
       "      <td>-37.81700</td>\n",
       "      <td>144.94600</td>\n",
       "      <td>https://en.wikipedia.org/wiki/Docklands,_Victoria</td>\n",
       "      <td>39</td>\n",
       "    </tr>\n",
       "    <tr>\n",
       "      <th>2</th>\n",
       "      <td>Government Precinct</td>\n",
       "      <td>City precincts</td>\n",
       "      <td>-37.81190</td>\n",
       "      <td>144.97300</td>\n",
       "      <td>https://en.wikipedia.org/wiki/Spring_Street,_M...</td>\n",
       "      <td>83</td>\n",
       "    </tr>\n",
       "    <tr>\n",
       "      <th>3</th>\n",
       "      <td>Little Italy</td>\n",
       "      <td>City precincts</td>\n",
       "      <td>-37.79972</td>\n",
       "      <td>144.96694</td>\n",
       "      <td>https://en.wikipedia.org/wiki/Little_Italy,_Me...</td>\n",
       "      <td>44</td>\n",
       "    </tr>\n",
       "    <tr>\n",
       "      <th>4</th>\n",
       "      <td>RMIT City</td>\n",
       "      <td>City precincts</td>\n",
       "      <td>-37.80778</td>\n",
       "      <td>144.96333</td>\n",
       "      <td>https://en.wikipedia.org/wiki/City_campus_of_t...</td>\n",
       "      <td>50</td>\n",
       "    </tr>\n",
       "  </tbody>\n",
       "</table>\n",
       "</div>"
      ],
      "text/plain": [
       "                   poiName        poiTheme    poiLat     poiLon  \\\n",
       "poiID                                                             \n",
       "0            Arts Precinct  City precincts -37.82167  144.96778   \n",
       "1                Docklands  City precincts -37.81700  144.94600   \n",
       "2      Government Precinct  City precincts -37.81190  144.97300   \n",
       "3             Little Italy  City precincts -37.79972  144.96694   \n",
       "4                RMIT City  City precincts -37.80778  144.96333   \n",
       "\n",
       "                                                  poiURL  poiPopularity  \n",
       "poiID                                                                    \n",
       "0      https://en.wikipedia.org/wiki/Melbourne_Arts_P...             64  \n",
       "1      https://en.wikipedia.org/wiki/Docklands,_Victoria             39  \n",
       "2      https://en.wikipedia.org/wiki/Spring_Street,_M...             83  \n",
       "3      https://en.wikipedia.org/wiki/Little_Italy,_Me...             44  \n",
       "4      https://en.wikipedia.org/wiki/City_campus_of_t...             50  "
      ]
     },
     "execution_count": 32,
     "metadata": {},
     "output_type": "execute_result"
    }
   ],
   "source": [
    "#dump POI popularity.\n",
    "\n",
    "poi_all['poiPopularity'] = 0\n",
    "poi_all.loc[poi_info_all.index, 'poiPopularity'] = poi_info_all.loc[poi_info_all.index, 'popularity']\n",
    "poi_all.head()"
   ]
  },
  {
   "cell_type": "code",
   "execution_count": 32,
   "metadata": {},
   "outputs": [],
   "source": [
    "#poi_all.to_csv('poi_all.csv', index=True)\n",
    "#zero_duration = poi_info_all[poi_info_all['avgDuration'] < 1]\n",
    "#zero_duration\n",
    "#print(traj_all.shape)\n",
    "#traj_all = traj_all[traj_all['poiID'].isin(set(poi_info_all.index) - set(zero_duration.index))]\n",
    "#print(traj_all.shape)"
   ]
  },
  {
   "cell_type": "code",
   "execution_count": 34,
   "metadata": {
    "collapsed": true
   },
   "outputs": [],
   "source": [
    "#dictionary to map every trajectory ID to the actual trajectory.\n",
    "\n",
    "traj_dict = dict()\n",
    "for trajid in trajid_set_all:\n",
    "    traj = extract_traj(trajid, traj_all)\n",
    "    assert(trajid not in traj_dict)\n",
    "    traj_dict[trajid] = traj"
   ]
  },
  {
   "cell_type": "code",
   "execution_count": 35,
   "metadata": {
    "collapsed": true
   },
   "outputs": [],
   "source": [
    "#query defined using tuple (start POI, end POI, #POI)\n",
    "\n",
    "QUERY_ID_DICT = dict()  # (start, end, length) --> qid"
   ]
  },
  {
   "cell_type": "code",
   "execution_count": 36,
   "metadata": {
    "collapsed": true
   },
   "outputs": [],
   "source": [
    "keys = [(traj_dict[x][0], traj_dict[x][-1], len(traj_dict[x])) \\\n",
    "        for x in sorted(traj_dict.keys()) if len(traj_dict[x]) > 2]\n",
    "cnt = 0\n",
    "for key in keys:\n",
    "    if key not in QUERY_ID_DICT:   # (start, end, length) --> qid\n",
    "        QUERY_ID_DICT[key] = cnt\n",
    "        cnt += 1"
   ]
  },
  {
   "cell_type": "code",
   "execution_count": 37,
   "metadata": {},
   "outputs": [
    {
     "name": "stdout",
     "output_type": "stream",
     "text": [
      "#traj in total: 5106\n",
      "#traj (length > 2): 442\n",
      "#query tuple: 415\n"
     ]
    }
   ],
   "source": [
    "print('#traj in total:', len(trajid_set_all))\n",
    "print('#traj (length > 2):', traj_all[traj_all['trajLen'] > 2]['trajID'].unique().shape[0])\n",
    "print('#query tuple:', len(QUERY_ID_DICT))"
   ]
  },
  {
   "cell_type": "code",
   "execution_count": 38,
   "metadata": {
    "collapsed": true
   },
   "outputs": [],
   "source": [
    "# 5. Recommendation via POI Ranking\n",
    "\n",
    "\n",
    "#features used for ranking:\n",
    "DF_COLUMNS = ['poiID', 'label', 'queryID', 'popularity', 'nVisit', 'avgDuration', \\\n",
    "              'sameCatStart', 'sameCatEnd', 'distStart', 'distEnd', 'trajLen', 'diffPopStart', \\\n",
    "              'diffPopEnd', 'diffNVisitStart', 'diffNVisitEnd', 'diffDurationStart', 'diffDurationEnd']"
   ]
  },
  {
   "cell_type": "code",
   "execution_count": 39,
   "metadata": {
    "collapsed": true
   },
   "outputs": [],
   "source": [
    "#generating training dataFrame\n",
    "def gen_train_subdf(poi_id, query_id_set, poi_info, query_id_rdict):\n",
    "    columns = DF_COLUMNS\n",
    "    poi_distmat = POI_DISTMAT\n",
    "    df_ = pd.DataFrame(data=np.zeros((len(query_id_set), len(columns)), dtype=np.float), columns=columns)\n",
    "    \n",
    "    pop = poi_info.loc[poi_id, 'popularity']; nvisit = poi_info.loc[poi_id, 'nVisit']\n",
    "    cat = poi_info.loc[poi_id, 'poiCat']; duration = poi_info.loc[poi_id, 'avgDuration']\n",
    "    \n",
    "    for j in range(len(query_id_set)):\n",
    "        qid = query_id_set[j]\n",
    "        assert(qid in query_id_rdict) # qid --> (start, end, length)\n",
    "        (p0, pN, trajLen) = query_id_rdict[qid]\n",
    "        idx = df_.index[j]\n",
    "        df_.loc[idx, 'poiID'] = poi_id\n",
    "        df_.loc[idx, 'queryID'] = qid\n",
    "        df_.loc[idx, 'popularity'] = pop\n",
    "        df_.loc[idx, 'nVisit'] = nvisit\n",
    "        df_.loc[idx, 'avgDuration'] = duration\n",
    "        df_.loc[idx, 'sameCatStart'] = 1 if cat == poi_info.loc[p0, 'poiCat'] else -1\n",
    "        df_.loc[idx, 'sameCatEnd']   = 1 if cat == poi_info.loc[pN, 'poiCat'] else -1\n",
    "        df_.loc[idx, 'distStart'] = poi_distmat.loc[poi_id, p0]\n",
    "        df_.loc[idx, 'distEnd']   = poi_distmat.loc[poi_id, pN]\n",
    "        df_.loc[idx, 'trajLen'] = trajLen\n",
    "        df_.loc[idx, 'diffPopStart'] = pop - poi_info.loc[p0, 'popularity']\n",
    "        df_.loc[idx, 'diffPopEnd']   = pop - poi_info.loc[pN, 'popularity']\n",
    "        df_.loc[idx, 'diffNVisitStart'] = nvisit - poi_info.loc[p0, 'nVisit']\n",
    "        df_.loc[idx, 'diffNVisitEnd']   = nvisit - poi_info.loc[pN, 'nVisit']\n",
    "        df_.loc[idx, 'diffDurationStart'] = duration - poi_info.loc[p0, 'avgDuration']\n",
    "        df_.loc[idx, 'diffDurationEnd']   = duration - poi_info.loc[pN, 'avgDuration']\n",
    "        \n",
    "    return df_"
   ]
  },
  {
   "cell_type": "code",
   "execution_count": 40,
   "metadata": {},
   "outputs": [],
   "source": [
    "def gen_train_df(trajid_list, traj_dict, poi_info, n_jobs=-1):\n",
    "    columns = DF_COLUMNS\n",
    "    poi_distmat = POI_DISTMAT\n",
    "    query_id_dict = QUERY_ID_DICT\n",
    "    train_trajs = [traj_dict[x] for x in trajid_list if len(traj_dict[x]) > 2]\n",
    "    \n",
    "    qid_set = sorted(set([query_id_dict[(t[0], t[-1], len(t))] for t in train_trajs]))\n",
    "    poi_set = set()\n",
    "    for tr in train_trajs:\n",
    "        poi_set = poi_set | set(tr)\n",
    "    \n",
    "    #qid_poi_pair = list(itertools.product(qid_set, poi_set)) # Cartesian product of qid_set and poi_set\n",
    "    #df_ = pd.DataFrame(data=np.zeros((len(qid_poi_pair), len(columns)), dtype= np.float), columns=columns)\n",
    "    \n",
    "    query_id_rdict = dict()\n",
    "    for k, v in query_id_dict.items(): \n",
    "        query_id_rdict[v] = k  # qid --> (start, end, length)\n",
    "    \n",
    "    train_df_list = Parallel(n_jobs=n_jobs)\\\n",
    "                            (delayed(gen_train_subdf)(poi, qid_set, poi_info, query_id_rdict) \\\n",
    "                             for poi in poi_set)\n",
    "                        \n",
    "    assert(len(train_df_list) > 0)\n",
    "    df_ = train_df_list[0]\n",
    "    for j in range(1, len(train_df_list)):\n",
    "        df_ = df_.append(train_df_list[j], ignore_index=True)            \n",
    "        \n",
    "    # set label\n",
    "    df_.set_index(['queryID', 'poiID'], inplace=True)\n",
    "    for t in train_trajs:\n",
    "        qid = query_id_dict[(t[0], t[-1], len(t))]\n",
    "        for poi in t[1:-1]:  # do NOT count if the POI is startPOI/endPOI\n",
    "            df_.loc[(qid, poi), 'label'] += 1\n",
    "\n",
    "    df_.reset_index(inplace=True)\n",
    "    return df_"
   ]
  },
  {
   "cell_type": "code",
   "execution_count": 41,
   "metadata": {
    "collapsed": true
   },
   "outputs": [],
   "source": [
    "#generating test dataframe\n",
    "def gen_test_df(startPOI, endPOI, nPOI, poi_info):\n",
    "    columns = DF_COLUMNS\n",
    "    poi_distmat = POI_DISTMAT\n",
    "    query_id_dict = QUERY_ID_DICT\n",
    "    key = (p0, pN, trajLen) = (startPOI, endPOI, nPOI)\n",
    "    assert(key in query_id_dict)\n",
    "    assert(p0 in poi_info.index)\n",
    "    assert(pN in poi_info.index)\n",
    "    \n",
    "    df_ = pd.DataFrame(data=np.zeros((poi_info.shape[0], len(columns)), dtype= np.float), columns=columns)\n",
    "    poi_list = sorted(poi_info.index)\n",
    "    \n",
    "    qid = query_id_dict[key]\n",
    "    df_['queryID'] = qid\n",
    "    df_['label'] = np.random.rand(df_.shape[0]) # label for test data is arbitrary according to libsvm FAQ\n",
    "\n",
    "    for i in range(df_.index.shape[0]):\n",
    "        poi = poi_list[i]\n",
    "        lon = poi_info.loc[poi, 'poiLon']; lat = poi_info.loc[poi, 'poiLat']\n",
    "        pop = poi_info.loc[poi, 'popularity']; nvisit = poi_info.loc[poi, 'nVisit']\n",
    "        cat = poi_info.loc[poi, 'poiCat']; duration = poi_info.loc[poi, 'avgDuration']\n",
    "        idx = df_.index[i]\n",
    "        df_.loc[idx, 'poiID'] = poi \n",
    "        df_.loc[idx, 'popularity'] = pop\n",
    "        df_.loc[idx, 'nVisit'] = nvisit\n",
    "        df_.loc[idx, 'avgDuration'] = duration\n",
    "        df_.loc[idx, 'sameCatStart'] = 1 if cat == poi_info.loc[p0, 'poiCat'] else -1\n",
    "        df_.loc[idx, 'sameCatEnd']   = 1 if cat == poi_info.loc[pN, 'poiCat'] else -1\n",
    "        df_.loc[idx, 'distStart'] = poi_distmat.loc[poi, p0]\n",
    "        df_.loc[idx, 'distEnd']   = poi_distmat.loc[poi, pN]\n",
    "        df_.loc[idx, 'trajLen'] = trajLen\n",
    "        df_.loc[idx, 'diffPopStart'] = pop - poi_info.loc[p0, 'popularity']\n",
    "        df_.loc[idx, 'diffPopEnd']   = pop - poi_info.loc[pN, 'popularity']\n",
    "        df_.loc[idx, 'diffNVisitStart'] = nvisit - poi_info.loc[p0, 'nVisit']\n",
    "        df_.loc[idx, 'diffNVisitEnd']   = nvisit - poi_info.loc[pN, 'nVisit']\n",
    "        df_.loc[idx, 'diffDurationStart'] = duration - poi_info.loc[p0, 'avgDuration']\n",
    "        df_.loc[idx, 'diffDurationEnd']   = duration - poi_info.loc[pN, 'avgDuration']\n",
    "    return df_"
   ]
  },
  {
   "cell_type": "code",
   "execution_count": 42,
   "metadata": {
    "collapsed": true
   },
   "outputs": [],
   "source": [
    "#generate a string for a training/test data frame.\n",
    "def gen_data_str(df_, df_columns=DF_COLUMNS):\n",
    "    columns = df_columns[1:].copy()  # get rid of 'poiID'\n",
    "    for col in columns:\n",
    "        assert(col in df_.columns)\n",
    "        \n",
    "    lines = []\n",
    "    for idx in df_.index:\n",
    "        slist = [str(df_.loc[idx, 'label'])]\n",
    "        slist.append(' qid:')\n",
    "        slist.append(str(int(df_.loc[idx, 'queryID'])))\n",
    "        for j in range(2, len(columns)):\n",
    "            slist.append(' ')\n",
    "            slist.append(str(j-1))\n",
    "            slist.append(':')\n",
    "            slist.append(str(df_.loc[idx, columns[j]]))\n",
    "        slist.append('\\n')\n",
    "        lines.append(''.join(slist))\n",
    "    return ''.join(lines)"
   ]
  },
  {
   "cell_type": "code",
   "execution_count": 43,
   "metadata": {
    "collapsed": true
   },
   "outputs": [],
   "source": [
    "#ranking POIs using rankSVM\n",
    "#use softmax function to convert ranking scores to a probability distribution\n",
    "def softmax(x):\n",
    "    x1 = x.copy()\n",
    "    x1 -= np.max(x1)  # numerically more stable, REF: http://cs231n.github.io/linear-classify/#softmax\n",
    "    expx = np.exp(x1)\n",
    "    return expx / np.sum(expx, axis=0) # column-wise sum"
   ]
  },
  {
   "cell_type": "code",
   "execution_count": 44,
   "metadata": {
    "collapsed": true
   },
   "outputs": [],
   "source": [
    "# python wrapper of rankSVM\n",
    "class RankSVM:\n",
    "    def __init__(self, bin_dir, useLinear=True, debug=False):\n",
    "        dir_ = !echo $bin_dir  # deal with environmental variables in path\n",
    "        assert(os.path.exists(dir_[0]))\n",
    "        self.bin_dir = dir_[0]\n",
    "        \n",
    "        self.bin_train = 'svm-train'\n",
    "        self.bin_predict = 'svm-predict'\n",
    "        if useLinear:\n",
    "            self.bin_train = 'train'\n",
    "            self.bin_predict = 'predict'\n",
    "        \n",
    "        assert(isinstance(debug, bool))\n",
    "        self.debug = debug\n",
    "        \n",
    "        # create named tmp files for model and feature scaling parameters\n",
    "        self.fmodel = None\n",
    "        self.fscale = None\n",
    "        with tempfile.NamedTemporaryFile(delete=False) as fd: \n",
    "            self.fmodel = fd.name\n",
    "        with tempfile.NamedTemporaryFile(delete=False) as fd: \n",
    "            self.fscale = fd.name\n",
    "        \n",
    "        if self.debug:\n",
    "            print('model file:', self.fmodel)\n",
    "            print('feature scaling parameter file:', self.fscale)\n",
    "    \n",
    "    \n",
    "    def __del__(self):\n",
    "        # remove tmp files\n",
    "        if self.fmodel is not None and os.path.exists(self.fmodel):\n",
    "            os.unlink(self.fmodel)\n",
    "        if self.fscale is not None and os.path.exists(self.fscale):\n",
    "            os.unlink(self.fscale)\n",
    "    \n",
    "    \n",
    "    def train(self, train_df, cost=1):\n",
    "        # cost is parameter C in SVM\n",
    "        # write train data to file\n",
    "        ftrain = None\n",
    "        with tempfile.NamedTemporaryFile(mode='w+t', delete=False) as fd: \n",
    "            ftrain = fd.name\n",
    "            datastr = gen_data_str(train_df)\n",
    "            fd.write(datastr)\n",
    "        \n",
    "        # feature scaling\n",
    "        ftrain_scaled = None\n",
    "        with tempfile.NamedTemporaryFile(mode='w+t', delete=False) as fd: \n",
    "            ftrain_scaled = fd.name\n",
    "        result = !$self.bin_dir/svm-scale -s $self.fscale $ftrain > $ftrain_scaled\n",
    "        \n",
    "        if self.debug:\n",
    "            print('cost:', cost)\n",
    "            print('train data file:', ftrain)\n",
    "            print('feature scaled train data file:', ftrain_scaled)\n",
    "        \n",
    "        # train rank svm and generate model file, if the model file exists, rewrite it\n",
    "        #n_cv = 10  # parameter k for k-fold cross-validation, NO model file will be generated in CV mode\n",
    "        #result = !$self.bin_dir/svm-train -c $cost -v $n_cv $ftrain $self.fmodel\n",
    "        result = !$self.bin_dir/$self.bin_train -c $cost $ftrain_scaled $self.fmodel\n",
    "        if self.debug:\n",
    "            print('Training finished.')\n",
    "            for i in range(len(result)): print(result[i])\n",
    "\n",
    "        # remove train data file\n",
    "        os.unlink(ftrain)\n",
    "        os.unlink(ftrain_scaled)        \n",
    "        \n",
    "    \n",
    "    def predict(self, test_df):\n",
    "        # predict ranking scores for the given feature matrix\n",
    "        if self.fmodel is None or not os.path.exists(self.fmodel):\n",
    "            print('Model should be trained before predicting')\n",
    "            return\n",
    "        \n",
    "        # write test data to file\n",
    "        ftest = None\n",
    "        with tempfile.NamedTemporaryFile(mode='w+t', delete=False) as fd: \n",
    "            ftest = fd.name\n",
    "            datastr = gen_data_str(test_df)\n",
    "            fd.write(datastr)\n",
    "                \n",
    "        # feature scaling\n",
    "        ftest_scaled = None\n",
    "        with tempfile.NamedTemporaryFile(delete=False) as fd: \n",
    "            ftest_scaled = fd.name\n",
    "        result = !$self.bin_dir/svm-scale -r $self.fscale $ftest > $ftest_scaled\n",
    "            \n",
    "        # generate prediction file\n",
    "        fpredict = None\n",
    "        with tempfile.NamedTemporaryFile(delete=False) as fd: \n",
    "            fpredict = fd.name\n",
    "            \n",
    "        if self.debug:\n",
    "            print('test data file:', ftest)\n",
    "            print('feature scaled test data file:', ftest_scaled)\n",
    "            print('predict result file:', fpredict)\n",
    "            \n",
    "        # predict using trained model and write prediction to file\n",
    "        result = !$self.bin_dir/$self.bin_predict $ftest_scaled $self.fmodel $fpredict\n",
    "        if self.debug:\n",
    "            print('Predict result: %-30s  %s' % (result[0], result[1]))\n",
    "        \n",
    "        # generate prediction DataFrame from prediction file\n",
    "        poi_rank_df = pd.read_csv(fpredict, header=None)\n",
    "        poi_rank_df.rename(columns={0:'rank'}, inplace=True)\n",
    "        poi_rank_df['poiID'] = test_df['poiID'].astype(np.int)\n",
    "        poi_rank_df.set_index('poiID', inplace=True) # duplicated 'poiID' when evaluating training data\n",
    "        #poi_rank_df['probability'] = softmax(poi_rank_df['rank'])  # softmax\n",
    "        \n",
    "        # remove test file and prediction file\n",
    "        os.unlink(ftest)\n",
    "        os.unlink(ftest_scaled)\n",
    "        os.unlink(fpredict)\n",
    "        \n",
    "        return poi_rank_df"
   ]
  },
  {
   "cell_type": "code",
   "execution_count": 45,
   "metadata": {
    "collapsed": true
   },
   "outputs": [],
   "source": [
    "# 6. Factorised Transition Probabilities\n",
    "\n",
    "# POI features for factorisation\n",
    "\n",
    "#POI features used to factorise transition matrix of Markov Chain with POI features (vector) as states:\n",
    "#Category of POI\n",
    "#Popularity of POI (discritize with uniform log-scale bins, #bins=5 )\n",
    "#The number of POI visits (discritize with uniform log-scale bins, #bins=5 )\n",
    "#The average visit duration of POI (discritise with uniform log-scale bins, #bins= 5)\n",
    "#The neighborhood relationship between POIs (clustering POI(lat, lon) using k-means, #clusters= 5)\n",
    "\n",
    "#counting the number of transition first, then normalising each row while taking care of zero by adding each cell a number\n",
    "\n",
    "def normalise_transmat(transmat_cnt):\n",
    "    transmat = transmat_cnt.copy()\n",
    "    assert(isinstance(transmat, pd.DataFrame))\n",
    "    for row in range(transmat.index.shape[0]):\n",
    "        rowsum = np.sum(transmat.iloc[row] + 1)\n",
    "        assert(rowsum > 0)\n",
    "        transmat.iloc[row] = (transmat.iloc[row] + 1) / rowsum\n",
    "    return transmat"
   ]
  },
  {
   "cell_type": "code",
   "execution_count": 46,
   "metadata": {
    "collapsed": true
   },
   "outputs": [],
   "source": [
    "#POIs in training set\n",
    "poi_train = sorted(poi_info_all.index)"
   ]
  },
  {
   "cell_type": "code",
   "execution_count": 47,
   "metadata": {},
   "outputs": [],
   "source": [
    "# transition matrix between POI Categories\n",
    "\n",
    "poi_cats = poi_all.loc[poi_train, 'poiTheme'].unique().tolist()\n",
    "poi_cats.sort()\n",
    "#poi_cats"
   ]
  },
  {
   "cell_type": "code",
   "execution_count": 48,
   "metadata": {
    "collapsed": true
   },
   "outputs": [],
   "source": [
    "def gen_transmat_cat(trajid_list, traj_dict, poi_info, poi_cats=poi_cats):\n",
    "    transmat_cat_cnt = pd.DataFrame(data=np.zeros((len(poi_cats), len(poi_cats)), dtype=np.float), \\\n",
    "                                    columns=poi_cats, index=poi_cats)\n",
    "    for tid in trajid_list:\n",
    "        t = traj_dict[tid]\n",
    "        if len(t) > 1:\n",
    "            for pi in range(len(t)-1):\n",
    "                p1 = t[pi]\n",
    "                p2 = t[pi+1]\n",
    "                assert(p1 in poi_info.index and p2 in poi_info.index)\n",
    "                cat1 = poi_info.loc[p1, 'poiCat']\n",
    "                cat2 = poi_info.loc[p2, 'poiCat']\n",
    "                transmat_cat_cnt.loc[cat1, cat2] += 1\n",
    "    return normalise_transmat(transmat_cat_cnt)"
   ]
  },
  {
   "cell_type": "code",
   "execution_count": 49,
   "metadata": {},
   "outputs": [
    {
     "data": {
      "text/html": [
       "<div>\n",
       "<table border=\"1\" class=\"dataframe\">\n",
       "  <thead>\n",
       "    <tr style=\"text-align: right;\">\n",
       "      <th></th>\n",
       "      <th>City precincts</th>\n",
       "      <th>Entertainment</th>\n",
       "      <th>Institutions</th>\n",
       "      <th>Parks and spaces</th>\n",
       "      <th>Public galleries</th>\n",
       "      <th>Shopping</th>\n",
       "      <th>Sports stadiums</th>\n",
       "      <th>Structures</th>\n",
       "      <th>Transport</th>\n",
       "    </tr>\n",
       "  </thead>\n",
       "  <tbody>\n",
       "    <tr>\n",
       "      <th>City precincts</th>\n",
       "      <td>0.059259</td>\n",
       "      <td>0.059259</td>\n",
       "      <td>0.207407</td>\n",
       "      <td>0.118519</td>\n",
       "      <td>0.096296</td>\n",
       "      <td>0.148148</td>\n",
       "      <td>0.059259</td>\n",
       "      <td>0.148148</td>\n",
       "      <td>0.103704</td>\n",
       "    </tr>\n",
       "    <tr>\n",
       "      <th>Entertainment</th>\n",
       "      <td>0.043011</td>\n",
       "      <td>0.107527</td>\n",
       "      <td>0.086022</td>\n",
       "      <td>0.086022</td>\n",
       "      <td>0.043011</td>\n",
       "      <td>0.193548</td>\n",
       "      <td>0.021505</td>\n",
       "      <td>0.225806</td>\n",
       "      <td>0.193548</td>\n",
       "    </tr>\n",
       "    <tr>\n",
       "      <th>Institutions</th>\n",
       "      <td>0.063830</td>\n",
       "      <td>0.031915</td>\n",
       "      <td>0.188830</td>\n",
       "      <td>0.188830</td>\n",
       "      <td>0.015957</td>\n",
       "      <td>0.265957</td>\n",
       "      <td>0.013298</td>\n",
       "      <td>0.138298</td>\n",
       "      <td>0.093085</td>\n",
       "    </tr>\n",
       "    <tr>\n",
       "      <th>Parks and spaces</th>\n",
       "      <td>0.041322</td>\n",
       "      <td>0.030303</td>\n",
       "      <td>0.154270</td>\n",
       "      <td>0.151515</td>\n",
       "      <td>0.033058</td>\n",
       "      <td>0.126722</td>\n",
       "      <td>0.049587</td>\n",
       "      <td>0.236915</td>\n",
       "      <td>0.176309</td>\n",
       "    </tr>\n",
       "    <tr>\n",
       "      <th>Public galleries</th>\n",
       "      <td>0.114286</td>\n",
       "      <td>0.071429</td>\n",
       "      <td>0.128571</td>\n",
       "      <td>0.142857</td>\n",
       "      <td>0.057143</td>\n",
       "      <td>0.142857</td>\n",
       "      <td>0.028571</td>\n",
       "      <td>0.114286</td>\n",
       "      <td>0.200000</td>\n",
       "    </tr>\n",
       "    <tr>\n",
       "      <th>Shopping</th>\n",
       "      <td>0.057377</td>\n",
       "      <td>0.049180</td>\n",
       "      <td>0.229508</td>\n",
       "      <td>0.077869</td>\n",
       "      <td>0.010246</td>\n",
       "      <td>0.354508</td>\n",
       "      <td>0.008197</td>\n",
       "      <td>0.086066</td>\n",
       "      <td>0.127049</td>\n",
       "    </tr>\n",
       "    <tr>\n",
       "      <th>Sports stadiums</th>\n",
       "      <td>0.059524</td>\n",
       "      <td>0.107143</td>\n",
       "      <td>0.059524</td>\n",
       "      <td>0.202381</td>\n",
       "      <td>0.023810</td>\n",
       "      <td>0.071429</td>\n",
       "      <td>0.321429</td>\n",
       "      <td>0.047619</td>\n",
       "      <td>0.107143</td>\n",
       "    </tr>\n",
       "    <tr>\n",
       "      <th>Structures</th>\n",
       "      <td>0.053968</td>\n",
       "      <td>0.076190</td>\n",
       "      <td>0.107937</td>\n",
       "      <td>0.247619</td>\n",
       "      <td>0.028571</td>\n",
       "      <td>0.171429</td>\n",
       "      <td>0.025397</td>\n",
       "      <td>0.136508</td>\n",
       "      <td>0.152381</td>\n",
       "    </tr>\n",
       "    <tr>\n",
       "      <th>Transport</th>\n",
       "      <td>0.067340</td>\n",
       "      <td>0.043771</td>\n",
       "      <td>0.151515</td>\n",
       "      <td>0.185185</td>\n",
       "      <td>0.013468</td>\n",
       "      <td>0.185185</td>\n",
       "      <td>0.030303</td>\n",
       "      <td>0.202020</td>\n",
       "      <td>0.121212</td>\n",
       "    </tr>\n",
       "  </tbody>\n",
       "</table>\n",
       "</div>"
      ],
      "text/plain": [
       "                  City precincts  Entertainment  Institutions  \\\n",
       "City precincts          0.059259       0.059259      0.207407   \n",
       "Entertainment           0.043011       0.107527      0.086022   \n",
       "Institutions            0.063830       0.031915      0.188830   \n",
       "Parks and spaces        0.041322       0.030303      0.154270   \n",
       "Public galleries        0.114286       0.071429      0.128571   \n",
       "Shopping                0.057377       0.049180      0.229508   \n",
       "Sports stadiums         0.059524       0.107143      0.059524   \n",
       "Structures              0.053968       0.076190      0.107937   \n",
       "Transport               0.067340       0.043771      0.151515   \n",
       "\n",
       "                  Parks and spaces  Public galleries  Shopping  \\\n",
       "City precincts            0.118519          0.096296  0.148148   \n",
       "Entertainment             0.086022          0.043011  0.193548   \n",
       "Institutions              0.188830          0.015957  0.265957   \n",
       "Parks and spaces          0.151515          0.033058  0.126722   \n",
       "Public galleries          0.142857          0.057143  0.142857   \n",
       "Shopping                  0.077869          0.010246  0.354508   \n",
       "Sports stadiums           0.202381          0.023810  0.071429   \n",
       "Structures                0.247619          0.028571  0.171429   \n",
       "Transport                 0.185185          0.013468  0.185185   \n",
       "\n",
       "                  Sports stadiums  Structures  Transport  \n",
       "City precincts           0.059259    0.148148   0.103704  \n",
       "Entertainment            0.021505    0.225806   0.193548  \n",
       "Institutions             0.013298    0.138298   0.093085  \n",
       "Parks and spaces         0.049587    0.236915   0.176309  \n",
       "Public galleries         0.028571    0.114286   0.200000  \n",
       "Shopping                 0.008197    0.086066   0.127049  \n",
       "Sports stadiums          0.321429    0.047619   0.107143  \n",
       "Structures               0.025397    0.136508   0.152381  \n",
       "Transport                0.030303    0.202020   0.121212  "
      ]
     },
     "execution_count": 49,
     "metadata": {},
     "output_type": "execute_result"
    }
   ],
   "source": [
    "gen_transmat_cat(trajid_set_all, traj_dict, poi_info_all)"
   ]
  },
  {
   "cell_type": "code",
   "execution_count": 50,
   "metadata": {},
   "outputs": [],
   "source": [
    "# transition matrix between POI Popularity Classes\n",
    "poi_pops = poi_info_all.loc[poi_train, 'popularity']\n",
    "#sorted(poi_pops.unique().tolist())"
   ]
  },
  {
   "cell_type": "code",
   "execution_count": 51,
   "metadata": {},
   "outputs": [
    {
     "name": "stdout",
     "output_type": "stream",
     "text": [
      "0.0 2.4623979979\n"
     ]
    }
   ],
   "source": [
    "#discretizing POI popularity with uniform log-scale bins\n",
    "expo_pop1 = np.log10(max(1, min(poi_pops)))\n",
    "expo_pop2 = np.log10(max(poi_pops))\n",
    "print(expo_pop1, expo_pop2)"
   ]
  },
  {
   "cell_type": "code",
   "execution_count": 52,
   "metadata": {},
   "outputs": [
    {
     "data": {
      "text/plain": [
       "array([    0.        ,     3.98107171,    15.84893192,    63.09573445,\n",
       "         251.18864315,  1000.        ])"
      ]
     },
     "execution_count": 52,
     "metadata": {},
     "output_type": "execute_result"
    }
   ],
   "source": [
    "nbins_pop = BIN_CLUSTER\n",
    "logbins_pop = np.logspace(np.floor(expo_pop1), np.ceil(expo_pop2), nbins_pop+1)\n",
    "logbins_pop[0] = 0  # deal with underflow\n",
    "if logbins_pop[-1] < poi_info_all['popularity'].max():\n",
    "    logbins_pop[-1] = poi_info_all['popularity'].max() + 1\n",
    "logbins_pop"
   ]
  },
  {
   "cell_type": "code",
   "execution_count": 53,
   "metadata": {},
   "outputs": [
    {
     "data": {
      "image/png": "[encoded data removed]",
      "text/plain": [
       "<matplotlib.figure.Figure at 0x7ffa55bed4a8>"
      ]
     },
     "metadata": {},
     "output_type": "display_data"
    }
   ],
   "source": [
    "ax = pd.Series(poi_pops).hist(figsize=(5, 3), bins=logbins_pop)\n",
    "ax.set_xlim(xmin=0.1)\n",
    "ax.set_xscale('log')"
   ]
  },
  {
   "cell_type": "code",
   "execution_count": 54,
   "metadata": {
    "collapsed": true
   },
   "outputs": [],
   "source": [
    "def gen_transmat_pop(trajid_list, traj_dict, poi_info, logbins_pop=logbins_pop):\n",
    "    nbins = len(logbins_pop) - 1\n",
    "    transmat_pop_cnt = pd.DataFrame(data=np.zeros((nbins, nbins), dtype=np.float), \\\n",
    "                                    columns=np.arange(1, nbins+1), index=np.arange(1, nbins+1))\n",
    "    for tid in trajid_list:\n",
    "        t = traj_dict[tid]\n",
    "        if len(t) > 1:\n",
    "            for pi in range(len(t)-1):\n",
    "                p1 = t[pi]\n",
    "                p2 = t[pi+1]\n",
    "                assert(p1 in poi_info.index and p2 in poi_info.index)\n",
    "                pop1 = poi_info.loc[p1, 'popularity']\n",
    "                pop2 = poi_info.loc[p2, 'popularity']\n",
    "                pc1, pc2 = np.digitize([pop1, pop2], logbins_pop)\n",
    "                transmat_pop_cnt.loc[pc1, pc2] += 1\n",
    "    return normalise_transmat(transmat_pop_cnt), logbins_pop"
   ]
  },
  {
   "cell_type": "code",
   "execution_count": 55,
   "metadata": {},
   "outputs": [
    {
     "data": {
      "text/html": [
       "<div>\n",
       "<table border=\"1\" class=\"dataframe\">\n",
       "  <thead>\n",
       "    <tr style=\"text-align: right;\">\n",
       "      <th></th>\n",
       "      <th>1</th>\n",
       "      <th>2</th>\n",
       "      <th>3</th>\n",
       "      <th>4</th>\n",
       "      <th>5</th>\n",
       "    </tr>\n",
       "  </thead>\n",
       "  <tbody>\n",
       "    <tr>\n",
       "      <th>1</th>\n",
       "      <td>0.166667</td>\n",
       "      <td>0.166667</td>\n",
       "      <td>0.333333</td>\n",
       "      <td>0.166667</td>\n",
       "      <td>0.166667</td>\n",
       "    </tr>\n",
       "    <tr>\n",
       "      <th>2</th>\n",
       "      <td>0.017544</td>\n",
       "      <td>0.175439</td>\n",
       "      <td>0.350877</td>\n",
       "      <td>0.421053</td>\n",
       "      <td>0.035088</td>\n",
       "    </tr>\n",
       "    <tr>\n",
       "      <th>3</th>\n",
       "      <td>0.002262</td>\n",
       "      <td>0.033937</td>\n",
       "      <td>0.316742</td>\n",
       "      <td>0.608597</td>\n",
       "      <td>0.038462</td>\n",
       "    </tr>\n",
       "    <tr>\n",
       "      <th>4</th>\n",
       "      <td>0.001350</td>\n",
       "      <td>0.025641</td>\n",
       "      <td>0.172065</td>\n",
       "      <td>0.715250</td>\n",
       "      <td>0.085695</td>\n",
       "    </tr>\n",
       "    <tr>\n",
       "      <th>5</th>\n",
       "      <td>0.005618</td>\n",
       "      <td>0.022472</td>\n",
       "      <td>0.095506</td>\n",
       "      <td>0.870787</td>\n",
       "      <td>0.005618</td>\n",
       "    </tr>\n",
       "  </tbody>\n",
       "</table>\n",
       "</div>"
      ],
      "text/plain": [
       "          1         2         3         4         5\n",
       "1  0.166667  0.166667  0.333333  0.166667  0.166667\n",
       "2  0.017544  0.175439  0.350877  0.421053  0.035088\n",
       "3  0.002262  0.033937  0.316742  0.608597  0.038462\n",
       "4  0.001350  0.025641  0.172065  0.715250  0.085695\n",
       "5  0.005618  0.022472  0.095506  0.870787  0.005618"
      ]
     },
     "execution_count": 55,
     "metadata": {},
     "output_type": "execute_result"
    }
   ],
   "source": [
    "gen_transmat_pop(trajid_set_all, traj_dict, poi_info_all)[0]"
   ]
  },
  {
   "cell_type": "code",
   "execution_count": 56,
   "metadata": {},
   "outputs": [],
   "source": [
    "# transition matrix between the Number of POI Visit Classes\n",
    "\n",
    "poi_visits = poi_info_all.loc[poi_train, 'nVisit']\n",
    "#sorted(poi_visits.unique().tolist())"
   ]
  },
  {
   "cell_type": "code",
   "execution_count": 57,
   "metadata": {},
   "outputs": [
    {
     "name": "stdout",
     "output_type": "stream",
     "text": [
      "0.0 2.69108149212\n"
     ]
    }
   ],
   "source": [
    "#discretizing the number of POI visit with uniform log-scale bins\n",
    "expo_visit1 = np.log10(max(1, min(poi_visits)))\n",
    "expo_visit2 = np.log10(max(poi_visits))\n",
    "print(expo_visit1, expo_visit2)"
   ]
  },
  {
   "cell_type": "code",
   "execution_count": 58,
   "metadata": {},
   "outputs": [
    {
     "data": {
      "text/plain": [
       "array([    0.        ,     3.98107171,    15.84893192,    63.09573445,\n",
       "         251.18864315,  1000.        ])"
      ]
     },
     "execution_count": 58,
     "metadata": {},
     "output_type": "execute_result"
    }
   ],
   "source": [
    "nbins_visit = BIN_CLUSTER\n",
    "logbins_visit = np.logspace(np.floor(expo_visit1), np.ceil(expo_visit2), nbins_visit+1)\n",
    "logbins_visit[0] = 0  # deal with underflow\n",
    "if logbins_visit[-1] < poi_info_all['nVisit'].max():\n",
    "    logbins_visit[-1] = poi_info_all['nVisit'].max() + 1\n",
    "logbins_visit"
   ]
  },
  {
   "cell_type": "code",
   "execution_count": 59,
   "metadata": {},
   "outputs": [
    {
     "data": {
      "image/png": "[encoded data removed]",
      "text/plain": [
       "<matplotlib.figure.Figure at 0x7ffa55828198>"
      ]
     },
     "metadata": {},
     "output_type": "display_data"
    }
   ],
   "source": [
    "ax = pd.Series(poi_visits).hist(figsize=(5, 3), bins=logbins_visit)\n",
    "ax.set_xlim(xmin=0.1)\n",
    "ax.set_xscale('log')"
   ]
  },
  {
   "cell_type": "code",
   "execution_count": 60,
   "metadata": {
    "collapsed": true
   },
   "outputs": [],
   "source": [
    "def gen_transmat_visit(trajid_list, traj_dict, poi_info, logbins_visit=logbins_visit):\n",
    "    nbins = len(logbins_visit) - 1\n",
    "    transmat_visit_cnt = pd.DataFrame(data=np.zeros((nbins, nbins), dtype=np.float), \\\n",
    "                                      columns=np.arange(1, nbins+1), index=np.arange(1, nbins+1))\n",
    "    for tid in trajid_list:\n",
    "        t = traj_dict[tid]\n",
    "        if len(t) > 1:\n",
    "            for pi in range(len(t)-1):\n",
    "                p1 = t[pi]\n",
    "                p2 = t[pi+1]\n",
    "                assert(p1 in poi_info.index and p2 in poi_info.index)\n",
    "                visit1 = poi_info.loc[p1, 'nVisit']\n",
    "                visit2 = poi_info.loc[p2, 'nVisit']\n",
    "                vc1, vc2 = np.digitize([visit1, visit2], logbins_visit)\n",
    "                transmat_visit_cnt.loc[vc1, vc2] += 1\n",
    "    return normalise_transmat(transmat_visit_cnt), logbins_visit"
   ]
  },
  {
   "cell_type": "code",
   "execution_count": 61,
   "metadata": {},
   "outputs": [
    {
     "data": {
      "text/html": [
       "<div>\n",
       "<table border=\"1\" class=\"dataframe\">\n",
       "  <thead>\n",
       "    <tr style=\"text-align: right;\">\n",
       "      <th></th>\n",
       "      <th>1</th>\n",
       "      <th>2</th>\n",
       "      <th>3</th>\n",
       "      <th>4</th>\n",
       "      <th>5</th>\n",
       "    </tr>\n",
       "  </thead>\n",
       "  <tbody>\n",
       "    <tr>\n",
       "      <th>1</th>\n",
       "      <td>0.200000</td>\n",
       "      <td>0.200000</td>\n",
       "      <td>0.200000</td>\n",
       "      <td>0.200000</td>\n",
       "      <td>0.200000</td>\n",
       "    </tr>\n",
       "    <tr>\n",
       "      <th>2</th>\n",
       "      <td>0.038462</td>\n",
       "      <td>0.076923</td>\n",
       "      <td>0.346154</td>\n",
       "      <td>0.500000</td>\n",
       "      <td>0.038462</td>\n",
       "    </tr>\n",
       "    <tr>\n",
       "      <th>3</th>\n",
       "      <td>0.003448</td>\n",
       "      <td>0.027586</td>\n",
       "      <td>0.272414</td>\n",
       "      <td>0.562069</td>\n",
       "      <td>0.134483</td>\n",
       "    </tr>\n",
       "    <tr>\n",
       "      <th>4</th>\n",
       "      <td>0.000762</td>\n",
       "      <td>0.017517</td>\n",
       "      <td>0.121097</td>\n",
       "      <td>0.614623</td>\n",
       "      <td>0.246002</td>\n",
       "    </tr>\n",
       "    <tr>\n",
       "      <th>5</th>\n",
       "      <td>0.001883</td>\n",
       "      <td>0.007533</td>\n",
       "      <td>0.064030</td>\n",
       "      <td>0.651601</td>\n",
       "      <td>0.274953</td>\n",
       "    </tr>\n",
       "  </tbody>\n",
       "</table>\n",
       "</div>"
      ],
      "text/plain": [
       "          1         2         3         4         5\n",
       "1  0.200000  0.200000  0.200000  0.200000  0.200000\n",
       "2  0.038462  0.076923  0.346154  0.500000  0.038462\n",
       "3  0.003448  0.027586  0.272414  0.562069  0.134483\n",
       "4  0.000762  0.017517  0.121097  0.614623  0.246002\n",
       "5  0.001883  0.007533  0.064030  0.651601  0.274953"
      ]
     },
     "execution_count": 61,
     "metadata": {},
     "output_type": "execute_result"
    }
   ],
   "source": [
    "gen_transmat_visit(trajid_set_all, traj_dict, poi_info_all)[0]"
   ]
  },
  {
   "cell_type": "code",
   "execution_count": 62,
   "metadata": {},
   "outputs": [],
   "source": [
    "# transition matrix between POI Average Visit Duration Classes\n",
    "poi_durations = poi_info_all.loc[poi_train, 'avgDuration']\n",
    "#sorted(poi_durations.unique().tolist())"
   ]
  },
  {
   "cell_type": "code",
   "execution_count": 63,
   "metadata": {},
   "outputs": [
    {
     "name": "stdout",
     "output_type": "stream",
     "text": [
      "0.0 3.90794220593\n"
     ]
    }
   ],
   "source": [
    "expo_duration1 = np.log10(max(1, min(poi_durations)))\n",
    "expo_duration2 = np.log10(max(poi_durations))\n",
    "print(expo_duration1, expo_duration2)"
   ]
  },
  {
   "cell_type": "code",
   "execution_count": 64,
   "metadata": {},
   "outputs": [
    {
     "data": {
      "text/plain": [
       "array([  0.00000000e+00,   6.30957344e+00,   3.98107171e+01,\n",
       "         2.51188643e+02,   1.58489319e+03,   8.08988235e+05])"
      ]
     },
     "execution_count": 64,
     "metadata": {},
     "output_type": "execute_result"
    }
   ],
   "source": [
    "nbins_duration = BIN_CLUSTER\n",
    "logbins_duration = np.logspace(np.floor(expo_duration1), np.ceil(expo_duration2), nbins_duration+1)\n",
    "logbins_duration[0] = 0  # deal with underflow\n",
    "logbins_duration[-1] = np.power(10, expo_duration2+2)\n",
    "logbins_duration"
   ]
  },
  {
   "cell_type": "code",
   "execution_count": 65,
   "metadata": {},
   "outputs": [
    {
     "data": {
      "image/png": "[encoded data removed]",
      "text/plain": [
       "<matplotlib.figure.Figure at 0x7ffa55a26208>"
      ]
     },
     "metadata": {},
     "output_type": "display_data"
    }
   ],
   "source": [
    "ax = pd.Series(poi_durations).hist(figsize=(5, 3), bins=logbins_duration)\n",
    "ax.set_xlim(xmin=0.1)\n",
    "ax.set_xscale('log')"
   ]
  },
  {
   "cell_type": "code",
   "execution_count": 66,
   "metadata": {
    "collapsed": true
   },
   "outputs": [],
   "source": [
    "def gen_transmat_duration(trajid_list, traj_dict, poi_info, logbins_duration=logbins_duration):\n",
    "    nbins = len(logbins_duration) - 1\n",
    "    transmat_duration_cnt = pd.DataFrame(data=np.zeros((nbins, nbins), dtype=np.float), \\\n",
    "                                         columns=np.arange(1, nbins+1), index=np.arange(1, nbins+1))\n",
    "    for tid in trajid_list:\n",
    "        t = traj_dict[tid]\n",
    "        if len(t) > 1:\n",
    "            for pi in range(len(t)-1):\n",
    "                p1 = t[pi]\n",
    "                p2 = t[pi+1]\n",
    "                assert(p1 in poi_info.index and p2 in poi_info.index)\n",
    "                d1 = poi_info.loc[p1, 'avgDuration']\n",
    "                d2 = poi_info.loc[p2, 'avgDuration']\n",
    "                dc1, dc2 = np.digitize([d1, d2], logbins_duration)\n",
    "                transmat_duration_cnt.loc[dc1, dc2] += 1\n",
    "    return normalise_transmat(transmat_duration_cnt), logbins_duration"
   ]
  },
  {
   "cell_type": "code",
   "execution_count": 67,
   "metadata": {},
   "outputs": [
    {
     "data": {
      "text/html": [
       "<div>\n",
       "<table border=\"1\" class=\"dataframe\">\n",
       "  <thead>\n",
       "    <tr style=\"text-align: right;\">\n",
       "      <th></th>\n",
       "      <th>1</th>\n",
       "      <th>2</th>\n",
       "      <th>3</th>\n",
       "      <th>4</th>\n",
       "      <th>5</th>\n",
       "    </tr>\n",
       "  </thead>\n",
       "  <tbody>\n",
       "    <tr>\n",
       "      <th>1</th>\n",
       "      <td>0.200000</td>\n",
       "      <td>0.200000</td>\n",
       "      <td>0.200000</td>\n",
       "      <td>0.200000</td>\n",
       "      <td>0.200000</td>\n",
       "    </tr>\n",
       "    <tr>\n",
       "      <th>2</th>\n",
       "      <td>0.166667</td>\n",
       "      <td>0.166667</td>\n",
       "      <td>0.166667</td>\n",
       "      <td>0.333333</td>\n",
       "      <td>0.166667</td>\n",
       "    </tr>\n",
       "    <tr>\n",
       "      <th>3</th>\n",
       "      <td>0.012658</td>\n",
       "      <td>0.012658</td>\n",
       "      <td>0.037975</td>\n",
       "      <td>0.582278</td>\n",
       "      <td>0.354430</td>\n",
       "    </tr>\n",
       "    <tr>\n",
       "      <th>4</th>\n",
       "      <td>0.000708</td>\n",
       "      <td>0.001416</td>\n",
       "      <td>0.043201</td>\n",
       "      <td>0.647309</td>\n",
       "      <td>0.307365</td>\n",
       "    </tr>\n",
       "    <tr>\n",
       "      <th>5</th>\n",
       "      <td>0.001508</td>\n",
       "      <td>0.001508</td>\n",
       "      <td>0.036199</td>\n",
       "      <td>0.686275</td>\n",
       "      <td>0.274510</td>\n",
       "    </tr>\n",
       "  </tbody>\n",
       "</table>\n",
       "</div>"
      ],
      "text/plain": [
       "          1         2         3         4         5\n",
       "1  0.200000  0.200000  0.200000  0.200000  0.200000\n",
       "2  0.166667  0.166667  0.166667  0.333333  0.166667\n",
       "3  0.012658  0.012658  0.037975  0.582278  0.354430\n",
       "4  0.000708  0.001416  0.043201  0.647309  0.307365\n",
       "5  0.001508  0.001508  0.036199  0.686275  0.274510"
      ]
     },
     "execution_count": 67,
     "metadata": {},
     "output_type": "execute_result"
    }
   ],
   "source": [
    "gen_transmat_duration(trajid_set_all, traj_dict, poi_info_all)[0]"
   ]
  },
  {
   "cell_type": "code",
   "execution_count": 68,
   "metadata": {},
   "outputs": [],
   "source": [
    "# transition matrix between POI Neighborhood Classes\n",
    "\n",
    "#using Euclidean distance to approximate\n",
    "X = poi_all.loc[poi_train, ['poiLon', 'poiLat']]\n",
    "nclusters = BIN_CLUSTER"
   ]
  },
  {
   "cell_type": "code",
   "execution_count": 69,
   "metadata": {},
   "outputs": [
    {
     "data": {
      "text/plain": [
       "KMeans(copy_x=True, init='k-means++', max_iter=300, n_clusters=5, n_init=10,\n",
       "    n_jobs=1, precompute_distances='auto', random_state=987654321,\n",
       "    tol=0.0001, verbose=0)"
      ]
     },
     "execution_count": 69,
     "metadata": {},
     "output_type": "execute_result"
    }
   ],
   "source": [
    "kmeans = KMeans(n_clusters=nclusters, random_state=987654321)\n",
    "kmeans.fit(X)"
   ]
  },
  {
   "cell_type": "code",
   "execution_count": 70,
   "metadata": {},
   "outputs": [],
   "source": [
    "clusters = kmeans.predict(X)\n",
    "#clusters\n",
    "poi_clusters = pd.DataFrame(data=clusters, index=poi_train)\n",
    "poi_clusters.index.name = 'poiID'\n",
    "poi_clusters.rename(columns={0:'clusterID'}, inplace=True)\n",
    "#poi_clusters"
   ]
  },
  {
   "cell_type": "code",
   "execution_count": 71,
   "metadata": {
    "collapsed": true
   },
   "outputs": [],
   "source": [
    "poi_clusters.to_csv('cluster.1.csv')"
   ]
  },
  {
   "cell_type": "code",
   "execution_count": 72,
   "metadata": {},
   "outputs": [
    {
     "data": {
      "text/plain": [
       "<matplotlib.collections.PathCollection at 0x7ffa55a19320>"
      ]
     },
     "execution_count": 72,
     "metadata": {},
     "output_type": "execute_result"
    },
    {
     "data": {
      "image/png": "[encoded data removed]",
      "text/plain": [
       "<matplotlib.figure.Figure at 0x7ffa557afcc0>"
      ]
     },
     "metadata": {},
     "output_type": "display_data"
    }
   ],
   "source": [
    "#scatter plot of POI coordinates with clustering results.\n",
    "diff = poi_all.loc[poi_train, ['poiLon', 'poiLat']].max() - poi_all.loc[poi_train, ['poiLon', 'poiLat']].min()\n",
    "ratio = diff['poiLon'] / diff['poiLat']\n",
    "#ratio\n",
    "height = 6; width = int(round(ratio)*height)\n",
    "plt.figure(figsize=[width, height])\n",
    "plt.scatter(poi_all.loc[poi_train, 'poiLon'], poi_all.loc[poi_train, 'poiLat'], c=clusters, s=50)"
   ]
  },
  {
   "cell_type": "code",
   "execution_count": 73,
   "metadata": {
    "collapsed": true
   },
   "outputs": [],
   "source": [
    "def gen_transmat_neighbor(trajid_list, traj_dict, poi_info, poi_clusters=poi_clusters):\n",
    "    nclusters = len(poi_clusters['clusterID'].unique())\n",
    "    transmat_neighbor_cnt = pd.DataFrame(data=np.zeros((nclusters, nclusters), dtype=np.float), \\\n",
    "                                         columns=np.arange(nclusters), index=np.arange(nclusters))\n",
    "    for tid in trajid_list:\n",
    "        t = traj_dict[tid]\n",
    "        if len(t) > 1:\n",
    "            for pi in range(len(t)-1):\n",
    "                p1 = t[pi]\n",
    "                p2 = t[pi+1]\n",
    "                assert(p1 in poi_info.index and p2 in poi_info.index)\n",
    "                c1 = poi_clusters.loc[p1, 'clusterID']\n",
    "                c2 = poi_clusters.loc[p2, 'clusterID']\n",
    "                transmat_neighbor_cnt.loc[c1, c2] += 1\n",
    "    return normalise_transmat(transmat_neighbor_cnt), poi_clusters"
   ]
  },
  {
   "cell_type": "code",
   "execution_count": 74,
   "metadata": {},
   "outputs": [
    {
     "data": {
      "text/html": [
       "<div>\n",
       "<table border=\"1\" class=\"dataframe\">\n",
       "  <thead>\n",
       "    <tr style=\"text-align: right;\">\n",
       "      <th></th>\n",
       "      <th>0</th>\n",
       "      <th>1</th>\n",
       "      <th>2</th>\n",
       "      <th>3</th>\n",
       "      <th>4</th>\n",
       "    </tr>\n",
       "  </thead>\n",
       "  <tbody>\n",
       "    <tr>\n",
       "      <th>0</th>\n",
       "      <td>0.200000</td>\n",
       "      <td>0.250000</td>\n",
       "      <td>0.500000</td>\n",
       "      <td>0.025000</td>\n",
       "      <td>0.025000</td>\n",
       "    </tr>\n",
       "    <tr>\n",
       "      <th>1</th>\n",
       "      <td>0.034351</td>\n",
       "      <td>0.500000</td>\n",
       "      <td>0.442748</td>\n",
       "      <td>0.001908</td>\n",
       "      <td>0.020992</td>\n",
       "    </tr>\n",
       "    <tr>\n",
       "      <th>2</th>\n",
       "      <td>0.007083</td>\n",
       "      <td>0.134578</td>\n",
       "      <td>0.840953</td>\n",
       "      <td>0.000644</td>\n",
       "      <td>0.016742</td>\n",
       "    </tr>\n",
       "    <tr>\n",
       "      <th>3</th>\n",
       "      <td>0.200000</td>\n",
       "      <td>0.200000</td>\n",
       "      <td>0.200000</td>\n",
       "      <td>0.200000</td>\n",
       "      <td>0.200000</td>\n",
       "    </tr>\n",
       "    <tr>\n",
       "      <th>4</th>\n",
       "      <td>0.023256</td>\n",
       "      <td>0.162791</td>\n",
       "      <td>0.581395</td>\n",
       "      <td>0.023256</td>\n",
       "      <td>0.209302</td>\n",
       "    </tr>\n",
       "  </tbody>\n",
       "</table>\n",
       "</div>"
      ],
      "text/plain": [
       "          0         1         2         3         4\n",
       "0  0.200000  0.250000  0.500000  0.025000  0.025000\n",
       "1  0.034351  0.500000  0.442748  0.001908  0.020992\n",
       "2  0.007083  0.134578  0.840953  0.000644  0.016742\n",
       "3  0.200000  0.200000  0.200000  0.200000  0.200000\n",
       "4  0.023256  0.162791  0.581395  0.023256  0.209302"
      ]
     },
     "execution_count": 74,
     "metadata": {},
     "output_type": "execute_result"
    }
   ],
   "source": [
    "gen_transmat_neighbor(trajid_set_all, traj_dict, poi_info_all)[0]"
   ]
  },
  {
   "cell_type": "code",
   "execution_count": 75,
   "metadata": {
    "collapsed": true
   },
   "outputs": [],
   "source": [
    "# transition matrix between POIs\n",
    "\n",
    "def gen_poi_transmat(trajid_list, poi_set, traj_dict, poi_info, debug=False):\n",
    "    transmat_cat                        = gen_transmat_cat(trajid_list, traj_dict, poi_info)\n",
    "    transmat_pop,      logbins_pop      = gen_transmat_pop(trajid_list, traj_dict, poi_info)\n",
    "    transmat_visit,    logbins_visit    = gen_transmat_visit(trajid_list, traj_dict, poi_info)\n",
    "    transmat_duration, logbins_duration = gen_transmat_duration(trajid_list, traj_dict, poi_info)\n",
    "    transmat_neighbor, poi_clusters     = gen_transmat_neighbor(trajid_list, traj_dict, poi_info)\n",
    "\n",
    "    # Kronecker product\n",
    "    transmat_ix = list(itertools.product(transmat_cat.index, transmat_pop.index, transmat_visit.index, \\\n",
    "                                         transmat_duration.index, transmat_neighbor.index))\n",
    "    transmat_value = transmat_cat.values\n",
    "    for transmat in [transmat_pop, transmat_visit, transmat_duration, transmat_neighbor]:\n",
    "        transmat_value = kron(transmat_value, transmat.values)\n",
    "    transmat_feature = pd.DataFrame(data=transmat_value, index=transmat_ix, columns=transmat_ix)\n",
    "    \n",
    "    poi_train = sorted(poi_set)\n",
    "    feature_names = ['poiCat', 'popularity', 'nVisit', 'avgDuration', 'clusterID']\n",
    "    poi_features = pd.DataFrame(data=np.zeros((len(poi_train), len(feature_names))), \\\n",
    "                                columns=feature_names, index=poi_train)\n",
    "    poi_features.index.name = 'poiID'\n",
    "    poi_features['poiCat'] = poi_info.loc[poi_train, 'poiCat']\n",
    "    poi_features['popularity'] = np.digitize(poi_info.loc[poi_train, 'popularity'], logbins_pop)\n",
    "    poi_features['nVisit'] = np.digitize(poi_info.loc[poi_train, 'nVisit'], logbins_visit)\n",
    "    poi_features['avgDuration'] = np.digitize(poi_info.loc[poi_train, 'avgDuration'], logbins_duration)\n",
    "    poi_features['clusterID'] = poi_clusters.loc[poi_train, 'clusterID']\n",
    "    \n",
    "    # shrink the result of Kronecker product and deal with POIs with the same features\n",
    "    poi_logtransmat = pd.DataFrame(data=np.zeros((len(poi_train), len(poi_train)), dtype=np.float), \\\n",
    "                                   columns=poi_train, index=poi_train)\n",
    "    for p1 in poi_logtransmat.index:\n",
    "        rix = tuple(poi_features.loc[p1])\n",
    "        for p2 in poi_logtransmat.columns:\n",
    "            cix = tuple(poi_features.loc[p2])\n",
    "            value_ = transmat_feature.loc[(rix,), (cix,)]\n",
    "            poi_logtransmat.loc[p1, p2] = value_.values[0, 0]\n",
    "    \n",
    "    # group POIs with the same features\n",
    "    features_dup = dict()\n",
    "    for poi in poi_features.index:\n",
    "        key = tuple(poi_features.loc[poi])\n",
    "        if key in features_dup:\n",
    "            features_dup[key].append(poi)\n",
    "        else:\n",
    "            features_dup[key] = [poi]\n",
    "    if debug == True:\n",
    "        for key in sorted(features_dup.keys()):\n",
    "            print(key, '->', features_dup[key])\n",
    "            \n",
    "    # deal with POIs with the same features\n",
    "    for feature in sorted(features_dup.keys()):\n",
    "        n = len(features_dup[feature])\n",
    "        if n > 1:\n",
    "            group = features_dup[feature]\n",
    "            v1 = poi_logtransmat.loc[group[0], group[0]]  # transition value of self-loop of POI group\n",
    "            \n",
    "            # divide incoming transition value (i.e. unnormalised transition probability) uniformly among group members\n",
    "            for poi in group:\n",
    "                poi_logtransmat[poi] /= n\n",
    "                \n",
    "            # outgoing transition value has already been duplicated (value copied above)\n",
    "            \n",
    "            # duplicate & divide transition value of self-loop of POI group uniformly among all outgoing transitions,\n",
    "            # from a POI to all other POIs in the same group (excluding POI self-loop)\n",
    "            v2 = v1 / (n - 1)\n",
    "            for pair in itertools.permutations(group, 2):\n",
    "                poi_logtransmat.loc[pair[0], pair[1]] = v2\n",
    "                            \n",
    "    # normalise each row\n",
    "    for p1 in poi_logtransmat.index:\n",
    "        poi_logtransmat.loc[p1, p1] = 0\n",
    "        rowsum = poi_logtransmat.loc[p1].sum()\n",
    "        assert(rowsum > 0)\n",
    "        logrowsum = np.log10(rowsum)\n",
    "        for p2 in poi_logtransmat.columns:\n",
    "            if p1 == p2:\n",
    "                poi_logtransmat.loc[p1, p2] = -np.inf  # deal with log(0) explicitly\n",
    "            else:\n",
    "                poi_logtransmat.loc[p1, p2] = np.log10(poi_logtransmat.loc[p1, p2]) - logrowsum\n",
    "    \n",
    "    poi_transmat = np.power(10, poi_logtransmat)\n",
    "    return poi_transmat"
   ]
  },
  {
   "cell_type": "code",
   "execution_count": 76,
   "metadata": {},
   "outputs": [],
   "source": [
    "poi_transmat = gen_poi_transmat(trajid_set_all, set(poi_info_all.index), traj_dict, poi_info_all, debug=False)"
   ]
  },
  {
   "cell_type": "code",
   "execution_count": 106,
   "metadata": {},
   "outputs": [
    {
     "data": {
      "text/plain": [
       "array([  64,  147,  150,  198,  311,  385,  445,  680,  720,  725,  765,\n",
       "        771,  785,  835,  841,  902,  966, 1042, 1087, 1119, 1134, 1150,\n",
       "       1170, 1208, 1217, 1233, 1241, 1245, 1265, 1277, 1315, 1562, 1593,\n",
       "       1769, 1906, 1914, 1921, 1923, 1936, 1984, 1990, 2042, 2101, 2144,\n",
       "       2220, 2240, 2301, 2340, 2354, 2430, 2572, 2646, 2672, 2690, 2826,\n",
       "       2912, 3004, 3017, 3091, 3271, 3408, 3505, 3659, 3745, 3775, 3811,\n",
       "       3888, 3891, 4124, 4130, 4133, 4160, 4183, 4198, 4202, 4204, 4205,\n",
       "       4245, 4316, 4368, 4372, 4376, 4396, 4440, 4450, 4702, 4710, 4742,\n",
       "       4832, 4842, 4887, 4906, 4922, 5064, 5067])"
      ]
     },
     "execution_count": 106,
     "metadata": {},
     "output_type": "execute_result"
    }
   ],
   "source": [
    "#7. recommendation results comparison & visualisation\n",
    "\n",
    "#trajectory of length 4\n",
    "traj4s = traj_all[traj_all['trajLen'] == 4]['trajID'].unique()\n",
    "traj4s"
   ]
  },
  {
   "cell_type": "code",
   "execution_count": 107,
   "metadata": {
    "collapsed": true
   },
   "outputs": [],
   "source": [
    "#for tid in traj4s:\n",
    "#    gen_kml(tid, traj_all, poi_df)"
   ]
  },
  {
   "cell_type": "code",
   "execution_count": 108,
   "metadata": {},
   "outputs": [
    {
     "name": "stdout",
     "output_type": "stream",
     "text": [
      "REAL: [76, 81, 71, 68]\n"
     ]
    }
   ],
   "source": [
    "tid = 680\n",
    "traj = extract_traj(tid, traj_all)\n",
    "print('REAL:', traj)"
   ]
  },
  {
   "cell_type": "code",
   "execution_count": 109,
   "metadata": {
    "collapsed": true
   },
   "outputs": [],
   "source": [
    "traj_dict_rec = {'REAL_' + str(tid): traj}"
   ]
  },
  {
   "cell_type": "code",
   "execution_count": 110,
   "metadata": {
    "collapsed": true
   },
   "outputs": [],
   "source": [
    "start = traj[0]\n",
    "end = traj[-1]\n",
    "length = len(traj)"
   ]
  },
  {
   "cell_type": "code",
   "execution_count": 111,
   "metadata": {},
   "outputs": [
    {
     "name": "stdout",
     "output_type": "stream",
     "text": [
      "REC_POP: [76, 71, 82, 68]\n"
     ]
    }
   ],
   "source": [
    "#recommend trajectory based on POI popularity\n",
    "poi_df.sort_values(by='#distinctUsers', ascending=False, inplace=True)\n",
    "rec_pop = [start] + [x for x in poi_df.index.tolist() if x not in {start, end}][:length-2] + [end]\n",
    "print('REC_POP:', rec_pop)"
   ]
  },
  {
   "cell_type": "code",
   "execution_count": 112,
   "metadata": {
    "collapsed": true
   },
   "outputs": [],
   "source": [
    "tid_rec = 'REC_POP'\n",
    "traj_dict_rec[tid_rec] = rec_pop"
   ]
  },
  {
   "cell_type": "code",
   "execution_count": 113,
   "metadata": {
    "collapsed": true
   },
   "outputs": [],
   "source": [
    "#recommend trajectory based on the ranking of POIs using rankSVM\n",
    "trajid_list_train = list(set(trajid_set_all) - {tid})\n",
    "poi_info = calc_poi_info(trajid_list_train, traj_all, poi_all)"
   ]
  },
  {
   "cell_type": "code",
   "execution_count": 114,
   "metadata": {},
   "outputs": [
    {
     "name": "stdout",
     "output_type": "stream",
     "text": [
      "REC_RANK: [76, 71, 82, 68]\n"
     ]
    }
   ],
   "source": [
    "train_df = gen_train_df(trajid_list_train, traj_dict, poi_info) # POI feature based ranking\n",
    "ranksvm = RankSVM(ranksvm_dir, useLinear=True)\n",
    "ranksvm.train(train_df, cost=RANK_C)\n",
    "test_df = gen_test_df(start, end, length, poi_info)\n",
    "rank_df = ranksvm.predict(test_df)\n",
    "rank_df.sort_values(by='rank', ascending=False, inplace=True)\n",
    "rec_rank = [start] + [x for x in rank_df.index.tolist() if x not in {start, end}][:length-2] + [end]\n",
    "print('REC_RANK:', rec_rank)"
   ]
  },
  {
   "cell_type": "code",
   "execution_count": 115,
   "metadata": {
    "collapsed": true
   },
   "outputs": [],
   "source": [
    "tid_rec = 'REC_RANK'\n",
    "traj_dict_rec[tid_rec] = rec_rank"
   ]
  },
  {
   "cell_type": "code",
   "execution_count": 116,
   "metadata": {
    "collapsed": true
   },
   "outputs": [],
   "source": [
    "#recommendation by Transition Probabilities\n",
    "\n",
    "#dynamic programming to find a path\n",
    "def find_path(V, E, ps, pe, L, withNodeWeight=False, alpha=0.5):\n",
    "    assert(isinstance(V, pd.DataFrame))\n",
    "    assert(isinstance(E, pd.DataFrame))\n",
    "    assert(ps in V.index)\n",
    "    assert(pe in V.index)\n",
    "    # with sub-tours in trajectory, this is not the case any more, but it is nonsense to recommend such trajectories\n",
    "    assert(2 < L <= V.index.shape[0])  \n",
    "    if withNodeWeight == True:\n",
    "        assert(0 < alpha < 1)\n",
    "    beta = 1 - alpha\n",
    "    \n",
    "    A = pd.DataFrame(data=np.zeros((L-1, V.shape[0]), dtype=np.float), columns=V.index, index=np.arange(2, L+1))\n",
    "    B = pd.DataFrame(data=np.zeros((L-1, V.shape[0]), dtype=np.int),   columns=V.index, index=np.arange(2, L+1))\n",
    "    A += np.inf\n",
    "    for v in V.index:\n",
    "        if v != ps:\n",
    "            if withNodeWeight == True:\n",
    "                A.loc[2, v] = alpha * (V.loc[ps, 'weight'] + V.loc[v, 'weight']) + beta * E.loc[ps, v]  # ps--v\n",
    "            else:\n",
    "                A.loc[2, v] = E.loc[ps, v]  # ps--v\n",
    "            B.loc[2, v] = ps\n",
    "    \n",
    "    for l in range(3, L+1):\n",
    "        for v in V.index:\n",
    "            if withNodeWeight == True: # ps-~-v1---v\n",
    "                values = [A.loc[l-1, v1] + alpha * V.loc[v, 'weight'] + beta * E.loc[v1, v] for v1 in V.index]\n",
    "            else:\n",
    "                values = [A.loc[l-1, v1] + E.loc[v1, v] for v1 in V.index]  # ps-~-v1---v   \n",
    "            \n",
    "            minix = np.argmin(values)\n",
    "            A.loc[l, v] = values[minix]\n",
    "            B.loc[l, v] = V.index[minix]\n",
    "            \n",
    "    path = [pe]\n",
    "    v = path[-1]\n",
    "    l = L\n",
    "    #while v != ps:  #incorrect if 'ps' happens to appear in the middle of a path\n",
    "    while l >= 2:\n",
    "        path.append(B.loc[l, v])\n",
    "        v = path[-1]\n",
    "        l -= 1\n",
    "    path.reverse()\n",
    "    return path"
   ]
  },
  {
   "cell_type": "code",
   "execution_count": 117,
   "metadata": {
    "collapsed": true
   },
   "outputs": [],
   "source": [
    "#integer linear programming (ILP) to find a simple path\n",
    "def find_path_ILP(V, E, ps, pe, L, withNodeWeight=False, alpha=0.5):\n",
    "    assert(isinstance(V, pd.DataFrame))\n",
    "    assert(isinstance(E, pd.DataFrame))\n",
    "    assert(ps in V.index)\n",
    "    assert(pe in V.index)\n",
    "    assert(2 < L <= V.index.shape[0])\n",
    "    if withNodeWeight == True:\n",
    "        assert(0 < alpha < 1)\n",
    "    beta = 1 - alpha\n",
    "    \n",
    "    p0 = str(ps); pN = str(pe); N = V.index.shape[0]\n",
    "    \n",
    "    # deal with np.inf which will cause ILP solver failure\n",
    "    Edges = E.copy()\n",
    "    INF = 1e6\n",
    "    for p in Edges.index:\n",
    "        Edges.loc[p, p] = INF \n",
    "    maxL = np.max(Edges.values.flatten())\n",
    "    if maxL > INF:\n",
    "        for p in Edges.index:\n",
    "            Edges.loc[p, p] = maxL    \n",
    "    \n",
    "    # REF: pythonhosted.org/PuLP/index.html\n",
    "    pois = [str(p) for p in V.index] # create a string list for each POI\n",
    "    pb = pulp.LpProblem('MostLikelyTraj', pulp.LpMinimize) # create problem\n",
    "    # visit_i_j = 1 means POI i and j are visited in sequence\n",
    "    visit_vars = pulp.LpVariable.dicts('visit', (pois, pois), 0, 1, pulp.LpInteger) \n",
    "    # a dictionary contains all dummy variables\n",
    "    dummy_vars = pulp.LpVariable.dicts('u', [x for x in pois if x != p0], 2, N, pulp.LpInteger)\n",
    "    \n",
    "    # add objective\n",
    "    objlist = []\n",
    "    if withNodeWeight == True:\n",
    "        objlist.append(alpha * V.loc[int(p0), 'weight'])\n",
    "    for pi in [x for x in pois if x != pN]:     # from\n",
    "        for pj in [y for y in pois if y != p0]: # to\n",
    "            if withNodeWeight == True:\n",
    "                objlist.append(visit_vars[pi][pj] * (alpha*V.loc[int(pj), 'weight'] + beta*Edges.loc[int(pi), int(pj)]))\n",
    "            else:\n",
    "                objlist.append(visit_vars[pi][pj] * Edges.loc[int(pi), int(pj)])\n",
    "    pb += pulp.lpSum(objlist), 'Objective'\n",
    "    \n",
    "    # add constraints, each constraint should be in ONE line\n",
    "    pb += pulp.lpSum([visit_vars[p0][pj] for pj in pois if pj != p0]) == 1, 'StartAt_p0'\n",
    "    pb += pulp.lpSum([visit_vars[pi][pN] for pi in pois if pi != pN]) == 1, 'EndAt_pN'\n",
    "    if p0 != pN:\n",
    "        pb += pulp.lpSum([visit_vars[pi][p0] for pi in pois]) == 0, 'NoIncoming_p0'\n",
    "        pb += pulp.lpSum([visit_vars[pN][pj] for pj in pois]) == 0, 'NoOutgoing_pN'\n",
    "    pb += pulp.lpSum([visit_vars[pi][pj] for pi in pois if pi != pN for pj in pois if pj != p0]) == L-1, 'Length'\n",
    "    for pk in [x for x in pois if x not in {p0, pN}]:\n",
    "        pb += pulp.lpSum([visit_vars[pi][pk] for pi in pois if pi != pN]) == \\\n",
    "              pulp.lpSum([visit_vars[pk][pj] for pj in pois if pj != p0]), 'ConnectedAt_' + pk\n",
    "        pb += pulp.lpSum([visit_vars[pi][pk] for pi in pois if pi != pN]) <= 1, 'Enter_' + pk + '_AtMostOnce'\n",
    "        pb += pulp.lpSum([visit_vars[pk][pj] for pj in pois if pj != p0]) <= 1, 'Leave_' + pk + '_AtMostOnce'\n",
    "    for pi in [x for x in pois if x != p0]:\n",
    "        for pj in [y for y in pois if y != p0]:\n",
    "            pb += dummy_vars[pi] - dummy_vars[pj] + 1 <= (N - 1) * (1 - visit_vars[pi][pj]), \\\n",
    "                    'SubTourElimination_' + pi + '_' + pj\n",
    "    #pb.writeLP(\"traj_tmp.lp\")\n",
    "    # solve problem\n",
    "    pb.solve(pulp.PULP_CBC_CMD(options=['-threads', '6', '-strategy', '1', '-maxIt', '2000000'])) # CBC\n",
    "    #gurobi_options = [('TimeLimit', '7200'), ('Threads', '8'), ('NodefileStart', '0.9'), ('Cuts', '2')]\n",
    "    #pb.solve(pulp.GUROBI_CMD(options=gurobi_options)) # GUROBI\n",
    "    visit_mat = pd.DataFrame(data=np.zeros((len(pois), len(pois)), dtype=np.float), index=pois, columns=pois)\n",
    "    for pi in pois:\n",
    "        for pj in pois: visit_mat.loc[pi, pj] = visit_vars[pi][pj].varValue\n",
    "\n",
    "    # build the recommended trajectory\n",
    "    recseq = [p0]\n",
    "    while True:\n",
    "        pi = recseq[-1]\n",
    "        pj = visit_mat.loc[pi].idxmax()\n",
    "        assert(round(visit_mat.loc[pi, pj]) == 1)\n",
    "        recseq.append(pj); \n",
    "        #print(recseq); sys.stdout.flush()\n",
    "        if pj == pN: return [int(x) for x in recseq]"
   ]
  },
  {
   "cell_type": "code",
   "execution_count": 118,
   "metadata": {},
   "outputs": [
    {
     "name": "stdout",
     "output_type": "stream",
     "text": [
      "REC_DP: [76, 81, 70, 68]\n",
      "REC_ILP: [76, 81, 70, 68]\n"
     ]
    }
   ],
   "source": [
    "poi_logtransmat = np.log(gen_poi_transmat(trajid_list_train, set(poi_info.index), traj_dict, poi_info))\n",
    "nodes = poi_info.copy()\n",
    "edges = poi_logtransmat.copy()\n",
    "edges = -1 * edges  # edge weight is negative log of transition probability\n",
    "rec_dp = find_path(nodes, edges, start, end, length) # DP\n",
    "rec_ilp = find_path_ILP(nodes, edges, start, end, length) # ILP\n",
    "print('REC_DP:', rec_dp)\n",
    "print('REC_ILP:', rec_ilp)"
   ]
  },
  {
   "cell_type": "code",
   "execution_count": 119,
   "metadata": {
    "collapsed": true
   },
   "outputs": [],
   "source": [
    "tid_rec = 'REC_DP'\n",
    "traj_dict_rec[tid_rec] = rec_dp\n",
    "tid_rec = 'REC_ILP'\n",
    "traj_dict_rec[tid_rec] = rec_ilp"
   ]
  },
  {
   "cell_type": "code",
   "execution_count": 120,
   "metadata": {},
   "outputs": [
    {
     "data": {
      "text/plain": [
       "{'REAL_680': [76, 81, 71, 68],\n",
       " 'REC_DP': [76, 81, 70, 68],\n",
       " 'REC_ILP': [76, 81, 70, 68],\n",
       " 'REC_POP': [76, 71, 82, 68],\n",
       " 'REC_RANK': [76, 71, 82, 68]}"
      ]
     },
     "execution_count": 120,
     "metadata": {},
     "output_type": "execute_result"
    }
   ],
   "source": [
    "traj_dict_rec"
   ]
  }
 ],
 "metadata": {
  "kernelspec": {
   "display_name": "Python 3",
   "language": "python",
   "name": "python3"
  },
  "language_info": {
   "codemirror_mode": {
    "name": "ipython",
    "version": 3
   },
   "file_extension": ".py",
   "mimetype": "text/x-python",
   "name": "python",
   "nbconvert_exporter": "python",
   "pygments_lexer": "ipython3",
   "version": "3.5.1"
  }
 },
 "nbformat": 4,
 "nbformat_minor": 1
}
